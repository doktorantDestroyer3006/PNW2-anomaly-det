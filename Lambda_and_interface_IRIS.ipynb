{
  "nbformat": 4,
  "nbformat_minor": 0,
  "metadata": {
    "colab": {
      "provenance": []
    },
    "kernelspec": {
      "name": "python3",
      "display_name": "Python 3"
    },
    "language_info": {
      "name": "python"
    }
  },
  "cells": [
    {
      "cell_type": "markdown",
      "source": [
        "**Kod do lambdy**"
      ],
      "metadata": {
        "id": "wHCbMkGyq4qN"
      }
    },
    {
      "cell_type": "code",
      "source": [
        "import json\n",
        "import boto3\n",
        "\n",
        "def lambda_handler(event, context):\n",
        "    # Replace 'your-endpoint-name' with your SageMaker endpoint name\n",
        "    endpoint_name = 'tensorflow-inference-2024-01-30-01-45-49-702'\n",
        "    #endpoint_name = 'tensorflow-inference-2024-01-30-07-35-40-580'\n",
        "\n",
        "    # The event contains the payload. In this case, it's a list of floats\n",
        "    np_array = event['body']\n",
        "\n",
        "    # Convert the NumPy array to the format your model expects\n",
        "    payload = json.dumps(np_array)\n",
        "\n",
        "    # Initialize boto3 client for SageMaker runtime\n",
        "    runtime = boto3.client('runtime.sagemaker')\n",
        "\n",
        "    # Send the payload to the SageMaker endpoint\n",
        "    response = runtime.invoke_endpoint(EndpointName=endpoint_name,\n",
        "                                       ContentType='application/json',\n",
        "                                       Body=payload)\n",
        "\n",
        "    # Parse the response\n",
        "    result = json.loads(response['Body'].read().decode())\n",
        "\n",
        "    return {\n",
        "        'statusCode': 200,\n",
        "        'body': json.dumps(result),\n",
        "        'input': np_array\n",
        "    }"
      ],
      "metadata": {
        "id": "iQkM2pSuVe0o"
      },
      "execution_count": null,
      "outputs": []
    },
    {
      "cell_type": "markdown",
      "source": [
        "**Interfejs do wysylania metody POST do Gateway API, ktore tzw. 'triggeruje' lambde**"
      ],
      "metadata": {
        "id": "vlPa7192q-yQ"
      }
    },
    {
      "cell_type": "code",
      "execution_count": 2,
      "metadata": {
        "colab": {
          "base_uri": "https://localhost:8080/"
        },
        "id": "IbUCMgZzSgWf",
        "outputId": "79fa23c6-fd7c-4c1f-e320-a774c9fc93c1"
      },
      "outputs": [
        {
          "output_type": "stream",
          "name": "stdout",
          "text": [
            "[[[0.328051537, 0.381023616, 0.290924847]], [[0.646202326, 0.248305678, 0.105491973]], [[0.246131316, 0.465190709, 0.28867802]], [[0.241114542, 0.442340642, 0.316544831]], [[0.117941096, 0.338157386, 0.543901503]], [[0.0976832, 0.388091654, 0.514225185]], [[0.168845445, 0.402555197, 0.428599417]], [[0.119567879, 0.37784794, 0.502584219]], [[0.122446798, 0.353894472, 0.523658752]], [[0.21576044, 0.354884803, 0.429354757]]]\n"
          ]
        }
      ],
      "source": [
        "import requests\n",
        "import random\n",
        "import json\n",
        "\n",
        "def send_requests(endpoint_url, num_requests):\n",
        "    responses = []\n",
        "\n",
        "    for _ in range(num_requests):\n",
        "        # Generate an array of 4 random floats between 0 and 1\n",
        "        data = [random.random() for _ in range(4)]\n",
        "\n",
        "        # Construct the JSON payload\n",
        "        payload = {\"body\": data}\n",
        "        #print(payload)\n",
        "\n",
        "        # Send the POST request to the API endpoint\n",
        "        response = requests.post(endpoint_url, json=payload)\n",
        "        #print(response)\n",
        "\n",
        "        # Parse the 'body' from the response\n",
        "        if response.status_code == 200:\n",
        "            #print(response.status_code)\n",
        "            response_body = json.loads(response.json()['body'])\n",
        "\n",
        "            # Extract the 'predictions' part of the response body\n",
        "            prediction = response_body.get('predictions')\n",
        "            responses.append(prediction)\n",
        "        else:\n",
        "            print(f\"Request failed with status code {response.status_code}\")\n",
        "\n",
        "    return responses\n",
        "\n",
        "# Example usage\n",
        "endpoint = 'https://xw47mhnbmk.execute-api.eu-north-1.amazonaws.com/prodiris'\n",
        "number_of_requests = 10  # Number of requests you want to send\n",
        "\n",
        "collected_responses = send_requests(endpoint, number_of_requests)\n",
        "print(collected_responses)\n"
      ]
    }
  ]
}
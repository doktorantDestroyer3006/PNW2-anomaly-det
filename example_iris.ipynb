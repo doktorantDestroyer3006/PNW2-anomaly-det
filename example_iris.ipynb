{
 "cells": [
  {
   "cell_type": "code",
   "execution_count": 52,
   "id": "922b6f23-0724-459b-80a9-d01d94ad8193",
   "metadata": {
    "tags": []
   },
   "outputs": [
    {
     "name": "stderr",
     "output_type": "stream",
     "text": [
      "/home/ec2-user/anaconda3/envs/tensorflow2_p310/lib/python3.10/site-packages/sklearn/preprocessing/_encoders.py:975: FutureWarning: `sparse` was renamed to `sparse_output` in version 1.2 and will be removed in 1.4. `sparse_output` is ignored unless you leave `sparse` to its default value.\n",
      "  warnings.warn(\n"
     ]
    }
   ],
   "source": [
    "import sagemaker\n",
    "import boto3\n",
    "import numpy as np\n",
    "import pandas as pd\n",
    "from sklearn import datasets\n",
    "from sklearn.model_selection import train_test_split\n",
    "from sklearn.preprocessing import OneHotEncoder\n",
    "\n",
    "# Initialize SageMaker and S3 clients\n",
    "sagemaker_session = sagemaker.Session()\n",
    "role = sagemaker.get_execution_role()\n",
    "bucket = sagemaker_session.default_bucket()\n",
    "s3_client = boto3.client('s3')\n",
    "\n",
    "# Download Iris dataset\n",
    "iris = datasets.load_iris()\n",
    "X = iris.data\n",
    "y = iris.target.reshape(-1, 1)\n",
    "\n",
    "\n",
    "# One-hot encode the labels\n",
    "encoder = OneHotEncoder(sparse=False)\n",
    "y = encoder.fit_transform(y)\n",
    "\n",
    "#y = encoder.fit_transform(y_train.reshape(-1, 1))\n",
    "\n",
    "# Split the dataset into training and testing sets\n",
    "X_train, X_test, y_train, y_test = train_test_split(X, y, test_size=0.2, random_state=42)\n",
    "y_train = y_train.astype(int)\n",
    "y_test = y_test.astype(int)\n",
    "\n"
   ]
  },
  {
   "cell_type": "code",
   "execution_count": 53,
   "id": "7abdb54e-43bb-4d07-8abd-19235b61f65f",
   "metadata": {
    "tags": []
   },
   "outputs": [],
   "source": [
    "# Save the data as .npy files\n",
    "np.save('/tmp/X_train.npy', X_train)\n",
    "np.save('/tmp/y_train.npy', y_train)\n",
    "np.save('/tmp/X_test.npy', X_test)\n",
    "np.save('/tmp/y_test.npy', y_test)\n",
    "\n",
    "bucket = 'anomaly-model5'\n",
    "\n",
    "# Upload the data to S3\n",
    "train_input_path = sagemaker_session.upload_data('/tmp/X_train.npy', bucket=bucket, key_prefix='iris/data')\n",
    "train_output_path = sagemaker_session.upload_data('/tmp/y_train.npy', bucket=bucket, key_prefix='iris/data')\n",
    "test_input_path = sagemaker_session.upload_data('/tmp/X_test.npy', bucket=bucket, key_prefix='iris/data')\n",
    "test_output_path = sagemaker_session.upload_data('/tmp/y_test.npy', bucket=bucket, key_prefix='iris/data')\n"
   ]
  },
  {
   "cell_type": "code",
   "execution_count": 57,
   "id": "9ee8b0a4-dfca-4eee-9380-befdbb0d693f",
   "metadata": {
    "tags": []
   },
   "outputs": [
    {
     "name": "stdout",
     "output_type": "stream",
     "text": [
      "(120, 4)\n",
      "(120, 3)\n",
      "(30, 4)\n",
      "(30, 3)\n"
     ]
    }
   ],
   "source": [
    "print(X_train.shape)\n",
    "print(y_train.shape)\n",
    "print(X_test.shape)\n",
    "print(y_test.shape)"
   ]
  },
  {
   "cell_type": "code",
   "execution_count": 55,
   "id": "135503aa-bf6d-4129-b3ee-bd13fcf6b9f1",
   "metadata": {
    "tags": []
   },
   "outputs": [],
   "source": [
    "train_input_path = 's3://anomaly-model5/iris/data/'\n",
    "test_input_path = 's3://anomaly-model5/iris/data/'"
   ]
  },
  {
   "cell_type": "code",
   "execution_count": 49,
   "id": "43e8f250-00e6-4841-8331-4224f94045fc",
   "metadata": {
    "tags": []
   },
   "outputs": [
    {
     "data": {
      "text/plain": [
       "'s3://anomaly-model5/iris/data/'"
      ]
     },
     "execution_count": 49,
     "metadata": {},
     "output_type": "execute_result"
    }
   ],
   "source": [
    "train_input_path"
   ]
  },
  {
   "cell_type": "code",
   "execution_count": 62,
   "id": "57ead6d0-d97d-44a7-a6be-2e04b5bd1148",
   "metadata": {
    "tags": []
   },
   "outputs": [
    {
     "name": "stderr",
     "output_type": "stream",
     "text": [
      "WARNING:sagemaker.deprecations:train_instance_type has been renamed in sagemaker>=2.\n",
      "See: https://sagemaker.readthedocs.io/en/stable/v2.html for details.\n",
      "WARNING:sagemaker.deprecations:train_instance_count has been renamed in sagemaker>=2.\n",
      "See: https://sagemaker.readthedocs.io/en/stable/v2.html for details.\n",
      "WARNING:sagemaker.deprecations:train_instance_type has been renamed in sagemaker>=2.\n",
      "See: https://sagemaker.readthedocs.io/en/stable/v2.html for details.\n",
      "INFO:sagemaker.image_uris:image_uri is not presented, retrieving image_uri based on instance_type, framework etc.\n",
      "INFO:sagemaker.image_uris:image_uri is not presented, retrieving image_uri based on instance_type, framework etc.\n",
      "INFO:sagemaker:Creating training-job with name: tensorflow-training-2024-01-28-16-11-52-553\n"
     ]
    },
    {
     "name": "stdout",
     "output_type": "stream",
     "text": [
      "2024-01-28 16:11:52 Starting - Starting the training job......\n",
      "2024-01-28 16:12:23 Starting - Preparing the instances for training......\n",
      "2024-01-28 16:13:31 Downloading - Downloading input data...\n",
      "2024-01-28 16:14:11 Downloading - Downloading the training image............\n",
      "2024-01-28 16:16:07 Training - Training image download completed. Training in progress..\u001b[34m2024-01-28 16:16:15.577280: I tensorflow/core/util/port.cc:110] oneDNN custom operations are on. You may see slightly different numerical results due to floating-point round-off errors from different computation orders. To turn them off, set the environment variable `TF_ENABLE_ONEDNN_OPTS=0`.\u001b[0m\n",
      "\u001b[34m2024-01-28 16:16:15.629567: I tensorflow/core/platform/cpu_feature_guard.cc:182] This TensorFlow binary is optimized to use available CPU instructions in performance-critical operations.\u001b[0m\n",
      "\u001b[34mTo enable the following instructions: AVX512F AVX512_VNNI, in other operations, rebuild TensorFlow with the appropriate compiler flags.\u001b[0m\n",
      "\u001b[34m2024-01-28 16:16:18,145 sagemaker-training-toolkit INFO     Imported framework sagemaker_tensorflow_container.training\u001b[0m\n",
      "\u001b[34m2024-01-28 16:16:18,170 sagemaker-training-toolkit INFO     No Neurons detected (normal if no neurons installed)\u001b[0m\n",
      "\u001b[34m2024-01-28 16:16:18,605 sagemaker-training-toolkit INFO     No Neurons detected (normal if no neurons installed)\u001b[0m\n",
      "\u001b[34m2024-01-28 16:16:18,642 sagemaker-training-toolkit INFO     No Neurons detected (normal if no neurons installed)\u001b[0m\n",
      "\u001b[34m2024-01-28 16:16:18,679 sagemaker-training-toolkit INFO     No Neurons detected (normal if no neurons installed)\u001b[0m\n",
      "\u001b[34m2024-01-28 16:16:18,693 sagemaker-training-toolkit INFO     Invoking user script\u001b[0m\n",
      "\u001b[34mTraining Env:\u001b[0m\n",
      "\u001b[34m{\n",
      "    \"additional_framework_parameters\": {},\n",
      "    \"channel_input_dirs\": {\n",
      "        \"test\": \"/opt/ml/input/data/test\",\n",
      "        \"train\": \"/opt/ml/input/data/train\"\n",
      "    },\n",
      "    \"current_host\": \"algo-1\",\n",
      "    \"current_instance_group\": \"homogeneousCluster\",\n",
      "    \"current_instance_group_hosts\": [\n",
      "        \"algo-1\"\n",
      "    ],\n",
      "    \"current_instance_type\": \"ml.g4dn.xlarge\",\n",
      "    \"distribution_hosts\": [],\n",
      "    \"distribution_instance_groups\": [],\n",
      "    \"framework_module\": \"sagemaker_tensorflow_container.training:main\",\n",
      "    \"hosts\": [\n",
      "        \"algo-1\"\n",
      "    ],\n",
      "    \"hyperparameters\": {\n",
      "        \"epochs\": 100,\n",
      "        \"learning_rate\": 0.001,\n",
      "        \"model_dir\": \"s3://anomaly-model5/iris/model/tensorflow-training-2024-01-28-16-11-52-553/model\"\n",
      "    },\n",
      "    \"input_config_dir\": \"/opt/ml/input/config\",\n",
      "    \"input_data_config\": {\n",
      "        \"test\": {\n",
      "            \"TrainingInputMode\": \"File\",\n",
      "            \"S3DistributionType\": \"FullyReplicated\",\n",
      "            \"RecordWrapperType\": \"None\"\n",
      "        },\n",
      "        \"train\": {\n",
      "            \"TrainingInputMode\": \"File\",\n",
      "            \"S3DistributionType\": \"FullyReplicated\",\n",
      "            \"RecordWrapperType\": \"None\"\n",
      "        }\n",
      "    },\n",
      "    \"input_dir\": \"/opt/ml/input\",\n",
      "    \"instance_groups\": [\n",
      "        \"homogeneousCluster\"\n",
      "    ],\n",
      "    \"instance_groups_dict\": {\n",
      "        \"homogeneousCluster\": {\n",
      "            \"instance_group_name\": \"homogeneousCluster\",\n",
      "            \"instance_type\": \"ml.g4dn.xlarge\",\n",
      "            \"hosts\": [\n",
      "                \"algo-1\"\n",
      "            ]\n",
      "        }\n",
      "    },\n",
      "    \"is_hetero\": false,\n",
      "    \"is_master\": true,\n",
      "    \"is_modelparallel_enabled\": null,\n",
      "    \"is_smddpmprun_installed\": false,\n",
      "    \"is_smddprun_installed\": false,\n",
      "    \"job_name\": \"tensorflow-training-2024-01-28-16-11-52-553\",\n",
      "    \"log_level\": 20,\n",
      "    \"master_hostname\": \"algo-1\",\n",
      "    \"model_dir\": \"/opt/ml/model\",\n",
      "    \"module_dir\": \"s3://anomaly-model5/tensorflow-training-2024-01-28-16-11-52-553/source/sourcedir.tar.gz\",\n",
      "    \"module_name\": \"train3\",\n",
      "    \"network_interface_name\": \"eth0\",\n",
      "    \"num_cpus\": 4,\n",
      "    \"num_gpus\": 1,\n",
      "    \"num_neurons\": 0,\n",
      "    \"output_data_dir\": \"/opt/ml/output/data\",\n",
      "    \"output_dir\": \"/opt/ml/output\",\n",
      "    \"output_intermediate_dir\": \"/opt/ml/output/intermediate\",\n",
      "    \"resource_config\": {\n",
      "        \"current_host\": \"algo-1\",\n",
      "        \"current_instance_type\": \"ml.g4dn.xlarge\",\n",
      "        \"current_group_name\": \"homogeneousCluster\",\n",
      "        \"hosts\": [\n",
      "            \"algo-1\"\n",
      "        ],\n",
      "        \"instance_groups\": [\n",
      "            {\n",
      "                \"instance_group_name\": \"homogeneousCluster\",\n",
      "                \"instance_type\": \"ml.g4dn.xlarge\",\n",
      "                \"hosts\": [\n",
      "                    \"algo-1\"\n",
      "                ]\n",
      "            }\n",
      "        ],\n",
      "        \"network_interface_name\": \"eth0\"\n",
      "    },\n",
      "    \"user_entry_point\": \"train3.py\"\u001b[0m\n",
      "\u001b[34m}\u001b[0m\n",
      "\u001b[34mEnvironment variables:\u001b[0m\n",
      "\u001b[34mSM_HOSTS=[\"algo-1\"]\u001b[0m\n",
      "\u001b[34mSM_NETWORK_INTERFACE_NAME=eth0\u001b[0m\n",
      "\u001b[34mSM_HPS={\"epochs\":100,\"learning_rate\":0.001,\"model_dir\":\"s3://anomaly-model5/iris/model/tensorflow-training-2024-01-28-16-11-52-553/model\"}\u001b[0m\n",
      "\u001b[34mSM_USER_ENTRY_POINT=train3.py\u001b[0m\n",
      "\u001b[34mSM_FRAMEWORK_PARAMS={}\u001b[0m\n",
      "\u001b[34mSM_RESOURCE_CONFIG={\"current_group_name\":\"homogeneousCluster\",\"current_host\":\"algo-1\",\"current_instance_type\":\"ml.g4dn.xlarge\",\"hosts\":[\"algo-1\"],\"instance_groups\":[{\"hosts\":[\"algo-1\"],\"instance_group_name\":\"homogeneousCluster\",\"instance_type\":\"ml.g4dn.xlarge\"}],\"network_interface_name\":\"eth0\"}\u001b[0m\n",
      "\u001b[34mSM_INPUT_DATA_CONFIG={\"test\":{\"RecordWrapperType\":\"None\",\"S3DistributionType\":\"FullyReplicated\",\"TrainingInputMode\":\"File\"},\"train\":{\"RecordWrapperType\":\"None\",\"S3DistributionType\":\"FullyReplicated\",\"TrainingInputMode\":\"File\"}}\u001b[0m\n",
      "\u001b[34mSM_OUTPUT_DATA_DIR=/opt/ml/output/data\u001b[0m\n",
      "\u001b[34mSM_CHANNELS=[\"test\",\"train\"]\u001b[0m\n",
      "\u001b[34mSM_CURRENT_HOST=algo-1\u001b[0m\n",
      "\u001b[34mSM_CURRENT_INSTANCE_TYPE=ml.g4dn.xlarge\u001b[0m\n",
      "\u001b[34mSM_CURRENT_INSTANCE_GROUP=homogeneousCluster\u001b[0m\n",
      "\u001b[34mSM_CURRENT_INSTANCE_GROUP_HOSTS=[\"algo-1\"]\u001b[0m\n",
      "\u001b[34mSM_INSTANCE_GROUPS=[\"homogeneousCluster\"]\u001b[0m\n",
      "\u001b[34mSM_INSTANCE_GROUPS_DICT={\"homogeneousCluster\":{\"hosts\":[\"algo-1\"],\"instance_group_name\":\"homogeneousCluster\",\"instance_type\":\"ml.g4dn.xlarge\"}}\u001b[0m\n",
      "\u001b[34mSM_DISTRIBUTION_INSTANCE_GROUPS=[]\u001b[0m\n",
      "\u001b[34mSM_IS_HETERO=false\u001b[0m\n",
      "\u001b[34mSM_MODULE_NAME=train3\u001b[0m\n",
      "\u001b[34mSM_LOG_LEVEL=20\u001b[0m\n",
      "\u001b[34mSM_FRAMEWORK_MODULE=sagemaker_tensorflow_container.training:main\u001b[0m\n",
      "\u001b[34mSM_INPUT_DIR=/opt/ml/input\u001b[0m\n",
      "\u001b[34mSM_INPUT_CONFIG_DIR=/opt/ml/input/config\u001b[0m\n",
      "\u001b[34mSM_OUTPUT_DIR=/opt/ml/output\u001b[0m\n",
      "\u001b[34mSM_NUM_CPUS=4\u001b[0m\n",
      "\u001b[34mSM_NUM_GPUS=1\u001b[0m\n",
      "\u001b[34mSM_NUM_NEURONS=0\u001b[0m\n",
      "\u001b[34mSM_MODEL_DIR=/opt/ml/model\u001b[0m\n",
      "\u001b[34mSM_MODULE_DIR=s3://anomaly-model5/tensorflow-training-2024-01-28-16-11-52-553/source/sourcedir.tar.gz\u001b[0m\n",
      "\u001b[34mSM_TRAINING_ENV={\"additional_framework_parameters\":{},\"channel_input_dirs\":{\"test\":\"/opt/ml/input/data/test\",\"train\":\"/opt/ml/input/data/train\"},\"current_host\":\"algo-1\",\"current_instance_group\":\"homogeneousCluster\",\"current_instance_group_hosts\":[\"algo-1\"],\"current_instance_type\":\"ml.g4dn.xlarge\",\"distribution_hosts\":[],\"distribution_instance_groups\":[],\"framework_module\":\"sagemaker_tensorflow_container.training:main\",\"hosts\":[\"algo-1\"],\"hyperparameters\":{\"epochs\":100,\"learning_rate\":0.001,\"model_dir\":\"s3://anomaly-model5/iris/model/tensorflow-training-2024-01-28-16-11-52-553/model\"},\"input_config_dir\":\"/opt/ml/input/config\",\"input_data_config\":{\"test\":{\"RecordWrapperType\":\"None\",\"S3DistributionType\":\"FullyReplicated\",\"TrainingInputMode\":\"File\"},\"train\":{\"RecordWrapperType\":\"None\",\"S3DistributionType\":\"FullyReplicated\",\"TrainingInputMode\":\"File\"}},\"input_dir\":\"/opt/ml/input\",\"instance_groups\":[\"homogeneousCluster\"],\"instance_groups_dict\":{\"homogeneousCluster\":{\"hosts\":[\"algo-1\"],\"instance_group_name\":\"homogeneousCluster\",\"instance_type\":\"ml.g4dn.xlarge\"}},\"is_hetero\":false,\"is_master\":true,\"is_modelparallel_enabled\":null,\"is_smddpmprun_installed\":false,\"is_smddprun_installed\":false,\"job_name\":\"tensorflow-training-2024-01-28-16-11-52-553\",\"log_level\":20,\"master_hostname\":\"algo-1\",\"model_dir\":\"/opt/ml/model\",\"module_dir\":\"s3://anomaly-model5/tensorflow-training-2024-01-28-16-11-52-553/source/sourcedir.tar.gz\",\"module_name\":\"train3\",\"network_interface_name\":\"eth0\",\"num_cpus\":4,\"num_gpus\":1,\"num_neurons\":0,\"output_data_dir\":\"/opt/ml/output/data\",\"output_dir\":\"/opt/ml/output\",\"output_intermediate_dir\":\"/opt/ml/output/intermediate\",\"resource_config\":{\"current_group_name\":\"homogeneousCluster\",\"current_host\":\"algo-1\",\"current_instance_type\":\"ml.g4dn.xlarge\",\"hosts\":[\"algo-1\"],\"instance_groups\":[{\"hosts\":[\"algo-1\"],\"instance_group_name\":\"homogeneousCluster\",\"instance_type\":\"ml.g4dn.xlarge\"}],\"network_interface_name\":\"eth0\"},\"user_entry_point\":\"train3.py\"}\u001b[0m\n",
      "\u001b[34mSM_USER_ARGS=[\"--epochs\",\"100\",\"--learning_rate\",\"0.001\",\"--model_dir\",\"s3://anomaly-model5/iris/model/tensorflow-training-2024-01-28-16-11-52-553/model\"]\u001b[0m\n",
      "\u001b[34mSM_OUTPUT_INTERMEDIATE_DIR=/opt/ml/output/intermediate\u001b[0m\n",
      "\u001b[34mSM_CHANNEL_TEST=/opt/ml/input/data/test\u001b[0m\n",
      "\u001b[34mSM_CHANNEL_TRAIN=/opt/ml/input/data/train\u001b[0m\n",
      "\u001b[34mSM_HP_EPOCHS=100\u001b[0m\n",
      "\u001b[34mSM_HP_LEARNING_RATE=0.001\u001b[0m\n",
      "\u001b[34mSM_HP_MODEL_DIR=s3://anomaly-model5/iris/model/tensorflow-training-2024-01-28-16-11-52-553/model\u001b[0m\n",
      "\u001b[34mPYTHONPATH=/opt/ml/code:/usr/local/bin:/usr/local/lib/python310.zip:/usr/local/lib/python3.10:/usr/local/lib/python3.10/lib-dynload:/usr/local/lib/python3.10/site-packages\u001b[0m\n",
      "\u001b[34mInvoking script with the following command:\u001b[0m\n",
      "\u001b[34m/usr/local/bin/python3.10 train3.py --epochs 100 --learning_rate 0.001 --model_dir s3://anomaly-model5/iris/model/tensorflow-training-2024-01-28-16-11-52-553/model\u001b[0m\n",
      "\u001b[34m2024-01-28 16:16:18,694 sagemaker-training-toolkit INFO     Exceptions not imported for SageMaker Debugger as it is not installed.\u001b[0m\n",
      "\u001b[34mEpoch 1/50\u001b[0m\n",
      "\u001b[34m1/4 [======>.......................] - ETA: 4s - loss: 1.4009 - accuracy: 0.3438\u001b[0m\n",
      "\u001b[34m#010#010#010#010#010#010#010#010#010#010#010#010#010#010#010#010#010#010#010#010#010#010#010#010#010#010#010#010#010#010#010#010#010#010#010#010#010#010#010#010#010#010#010#010#010#010#010#010#010#010#010#010#010#010#010#010#010#010#010#010#010#010#010#010#010#010#010#010#010#010#010#010#010#010#010#010#010#010#010#010#0154/4 [==============================] - 2s 5ms/step - loss: 1.3769 - accuracy: 0.3583\u001b[0m\n",
      "\u001b[34mEpoch 2/50\u001b[0m\n",
      "\u001b[34m1/4 [======>.......................] - ETA: 0s - loss: 1.0297 - accuracy: 0.5625\u001b[0m\n",
      "\u001b[34m#010#010#010#010#010#010#010#010#010#010#010#010#010#010#010#010#010#010#010#010#010#010#010#010#010#010#010#010#010#010#010#010#010#010#010#010#010#010#010#010#010#010#010#010#010#010#010#010#010#010#010#010#010#010#010#010#010#010#010#010#010#010#010#010#010#010#010#010#010#010#010#010#010#010#010#010#010#010#010#010#0154/4 [==============================] - 0s 3ms/step - loss: 1.1370 - accuracy: 0.4417\u001b[0m\n",
      "\u001b[34mEpoch 3/50\u001b[0m\n",
      "\u001b[34m1/4 [======>.......................] - ETA: 0s - loss: 1.1677 - accuracy: 0.2500\u001b[0m\n",
      "\u001b[34m#010#010#010#010#010#010#010#010#010#010#010#010#010#010#010#010#010#010#010#010#010#010#010#010#010#010#010#010#010#010#010#010#010#010#010#010#010#010#010#010#010#010#010#010#010#010#010#010#010#010#010#010#010#010#010#010#010#010#010#010#010#010#010#010#010#010#010#010#010#010#010#010#010#010#010#010#010#010#010#010#0154/4 [==============================] - 0s 3ms/step - loss: 1.0849 - accuracy: 0.3750\u001b[0m\n",
      "\u001b[34mEpoch 4/50\u001b[0m\n",
      "\u001b[34m1/4 [======>.......................] - ETA: 0s - loss: 1.0335 - accuracy: 0.3750\u001b[0m\n",
      "\u001b[34m#010#010#010#010#010#010#010#010#010#010#010#010#010#010#010#010#010#010#010#010#010#010#010#010#010#010#010#010#010#010#010#010#010#010#010#010#010#010#010#010#010#010#010#010#010#010#010#010#010#010#010#010#010#010#010#010#010#010#010#010#010#010#010#010#010#010#010#010#010#010#010#010#010#010#010#010#010#010#010#010#0154/4 [==============================] - 0s 3ms/step - loss: 0.9850 - accuracy: 0.4083\u001b[0m\n",
      "\u001b[34mEpoch 5/50\u001b[0m\n",
      "\u001b[34m1/4 [======>.......................] - ETA: 0s - loss: 0.9602 - accuracy: 0.4688\u001b[0m\n",
      "\u001b[34m#010#010#010#010#010#010#010#010#010#010#010#010#010#010#010#010#010#010#010#010#010#010#010#010#010#010#010#010#010#010#010#010#010#010#010#010#010#010#010#010#010#010#010#010#010#010#010#010#010#010#010#010#010#010#010#010#010#010#010#010#010#010#010#010#010#010#010#010#010#010#010#010#010#010#010#010#010#010#010#010#0154/4 [==============================] - 0s 3ms/step - loss: 0.9548 - accuracy: 0.4917\u001b[0m\n",
      "\u001b[34mEpoch 6/50\u001b[0m\n",
      "\u001b[34m1/4 [======>.......................] - ETA: 0s - loss: 0.8773 - accuracy: 0.5625\u001b[0m\n",
      "\u001b[34m#010#010#010#010#010#010#010#010#010#010#010#010#010#010#010#010#010#010#010#010#010#010#010#010#010#010#010#010#010#010#010#010#010#010#010#010#010#010#010#010#010#010#010#010#010#010#010#010#010#010#010#010#010#010#010#010#010#010#010#010#010#010#010#010#010#010#010#010#010#010#010#010#010#010#010#010#010#010#010#010#0154/4 [==============================] - 0s 3ms/step - loss: 0.8908 - accuracy: 0.5750\u001b[0m\n",
      "\u001b[34mEpoch 7/50\u001b[0m\n",
      "\u001b[34m1/4 [======>.......................] - ETA: 0s - loss: 0.6575 - accuracy: 0.8438\u001b[0m\n",
      "\u001b[34m#010#010#010#010#010#010#010#010#010#010#010#010#010#010#010#010#010#010#010#010#010#010#010#010#010#010#010#010#010#010#010#010#010#010#010#010#010#010#010#010#010#010#010#010#010#010#010#010#010#010#010#010#010#010#010#010#010#010#010#010#010#010#010#010#010#010#010#010#010#010#010#010#010#010#010#010#010#010#010#010#0154/4 [==============================] - 0s 3ms/step - loss: 0.8203 - accuracy: 0.6500\u001b[0m\n",
      "\u001b[34mEpoch 8/50\u001b[0m\n",
      "\u001b[34m1/4 [======>.......................] - ETA: 0s - loss: 0.8822 - accuracy: 0.6562\u001b[0m\n",
      "\u001b[34m#010#010#010#010#010#010#010#010#010#010#010#010#010#010#010#010#010#010#010#010#010#010#010#010#010#010#010#010#010#010#010#010#010#010#010#010#010#010#010#010#010#010#010#010#010#010#010#010#010#010#010#010#010#010#010#010#010#010#010#010#010#010#010#010#010#010#010#010#010#010#010#010#010#010#010#010#010#010#010#010#0154/4 [==============================] - 0s 3ms/step - loss: 0.8530 - accuracy: 0.6417\u001b[0m\n",
      "\u001b[34mEpoch 9/50\u001b[0m\n",
      "\u001b[34m1/4 [======>.......................] - ETA: 0s - loss: 0.6882 - accuracy: 0.8750\u001b[0m\n",
      "\u001b[34m#010#010#010#010#010#010#010#010#010#010#010#010#010#010#010#010#010#010#010#010#010#010#010#010#010#010#010#010#010#010#010#010#010#010#010#010#010#010#010#010#010#010#010#010#010#010#010#010#010#010#010#010#010#010#010#010#010#010#010#010#010#010#010#010#010#010#010#010#010#010#010#010#010#010#010#010#010#010#010#010#0154/4 [==============================] - 0s 3ms/step - loss: 0.7590 - accuracy: 0.7417\u001b[0m\n",
      "\u001b[34mEpoch 10/50\u001b[0m\n",
      "\u001b[34m1/4 [======>.......................] - ETA: 0s - loss: 0.8183 - accuracy: 0.5938\u001b[0m\n",
      "\u001b[34m#010#010#010#010#010#010#010#010#010#010#010#010#010#010#010#010#010#010#010#010#010#010#010#010#010#010#010#010#010#010#010#010#010#010#010#010#010#010#010#010#010#010#010#010#010#010#010#010#010#010#010#010#010#010#010#010#010#010#010#010#010#010#010#010#010#010#010#010#010#010#010#010#010#010#010#010#010#010#010#010#0154/4 [==============================] - 0s 3ms/step - loss: 0.7660 - accuracy: 0.6583\u001b[0m\n",
      "\u001b[34mEpoch 11/50\u001b[0m\n",
      "\u001b[34m1/4 [======>.......................] - ETA: 0s - loss: 0.7760 - accuracy: 0.6875\u001b[0m\n",
      "\u001b[34m#010#010#010#010#010#010#010#010#010#010#010#010#010#010#010#010#010#010#010#010#010#010#010#010#010#010#010#010#010#010#010#010#010#010#010#010#010#010#010#010#010#010#010#010#010#010#010#010#010#010#010#010#010#010#010#010#010#010#010#010#010#010#010#010#010#010#010#010#010#010#010#010#010#010#010#010#010#010#010#010#0154/4 [==============================] - 0s 3ms/step - loss: 0.7155 - accuracy: 0.7167\u001b[0m\n",
      "\u001b[34mEpoch 12/50\u001b[0m\n",
      "\u001b[34m1/4 [======>.......................] - ETA: 0s - loss: 0.7117 - accuracy: 0.6875\u001b[0m\n",
      "\u001b[34m#010#010#010#010#010#010#010#010#010#010#010#010#010#010#010#010#010#010#010#010#010#010#010#010#010#010#010#010#010#010#010#010#010#010#010#010#010#010#010#010#010#010#010#010#010#010#010#010#010#010#010#010#010#010#010#010#010#010#010#010#010#010#010#010#010#010#010#010#010#010#010#010#010#010#010#010#010#010#010#010#0154/4 [==============================] - 0s 3ms/step - loss: 0.7315 - accuracy: 0.6917\u001b[0m\n",
      "\u001b[34mEpoch 13/50\u001b[0m\n",
      "\u001b[34m1/4 [======>.......................] - ETA: 0s - loss: 0.7546 - accuracy: 0.5625\u001b[0m\n",
      "\u001b[34m#010#010#010#010#010#010#010#010#010#010#010#010#010#010#010#010#010#010#010#010#010#010#010#010#010#010#010#010#010#010#010#010#010#010#010#010#010#010#010#010#010#010#010#010#010#010#010#010#010#010#010#010#010#010#010#010#010#010#010#010#010#010#010#010#010#010#010#010#010#010#010#010#010#010#010#010#010#010#010#010#0154/4 [==============================] - 0s 4ms/step - loss: 0.6476 - accuracy: 0.7000\u001b[0m\n",
      "\u001b[34mEpoch 14/50\u001b[0m\n",
      "\u001b[34m1/4 [======>.......................] - ETA: 0s - loss: 0.6042 - accuracy: 0.8125\u001b[0m\n",
      "\u001b[34m#010#010#010#010#010#010#010#010#010#010#010#010#010#010#010#010#010#010#010#010#010#010#010#010#010#010#010#010#010#010#010#010#010#010#010#010#010#010#010#010#010#010#010#010#010#010#010#010#010#010#010#010#010#010#010#010#010#010#010#010#010#010#010#010#010#010#010#010#010#010#010#010#010#010#010#010#010#010#010#010#0154/4 [==============================] - 0s 3ms/step - loss: 0.6071 - accuracy: 0.7750\u001b[0m\n",
      "\u001b[34mEpoch 15/50\u001b[0m\n",
      "\u001b[34m1/4 [======>.......................] - ETA: 0s - loss: 0.5889 - accuracy: 0.7188\u001b[0m\n",
      "\u001b[34m#010#010#010#010#010#010#010#010#010#010#010#010#010#010#010#010#010#010#010#010#010#010#010#010#010#010#010#010#010#010#010#010#010#010#010#010#010#010#010#010#010#010#010#010#010#010#010#010#010#010#010#010#010#010#010#010#010#010#010#010#010#010#010#010#010#010#010#010#010#010#010#010#010#010#010#010#010#010#010#010#0154/4 [==============================] - 0s 3ms/step - loss: 0.6021 - accuracy: 0.7167\u001b[0m\n",
      "\u001b[34mEpoch 16/50\u001b[0m\n",
      "\u001b[34m1/4 [======>.......................] - ETA: 0s - loss: 0.5011 - accuracy: 0.7812\u001b[0m\n",
      "\u001b[34m#010#010#010#010#010#010#010#010#010#010#010#010#010#010#010#010#010#010#010#010#010#010#010#010#010#010#010#010#010#010#010#010#010#010#010#010#010#010#010#010#010#010#010#010#010#010#010#010#010#010#010#010#010#010#010#010#010#010#010#010#010#010#010#010#010#010#010#010#010#010#010#010#010#010#010#010#010#010#010#010#0154/4 [==============================] - 0s 3ms/step - loss: 0.5317 - accuracy: 0.7917\u001b[0m\n",
      "\u001b[34mEpoch 17/50\u001b[0m\n",
      "\u001b[34m1/4 [======>.......................] - ETA: 0s - loss: 0.5174 - accuracy: 0.8125\u001b[0m\n",
      "\u001b[34m#010#010#010#010#010#010#010#010#010#010#010#010#010#010#010#010#010#010#010#010#010#010#010#010#010#010#010#010#010#010#010#010#010#010#010#010#010#010#010#010#010#010#010#010#010#010#010#010#010#010#010#010#010#010#010#010#010#010#010#010#010#010#010#010#010#010#010#010#010#010#010#010#010#010#010#010#010#010#010#010#0154/4 [==============================] - 0s 3ms/step - loss: 0.6026 - accuracy: 0.7083\u001b[0m\n",
      "\u001b[34mEpoch 18/50\u001b[0m\n",
      "\u001b[34m1/4 [======>.......................] - ETA: 0s - loss: 0.3863 - accuracy: 0.9062\u001b[0m\n",
      "\u001b[34m#010#010#010#010#010#010#010#010#010#010#010#010#010#010#010#010#010#010#010#010#010#010#010#010#010#010#010#010#010#010#010#010#010#010#010#010#010#010#010#010#010#010#010#010#010#010#010#010#010#010#010#010#010#010#010#010#010#010#010#010#010#010#010#010#010#010#010#010#010#010#010#010#010#010#010#010#010#010#010#010#0154/4 [==============================] - 0s 3ms/step - loss: 0.4979 - accuracy: 0.8000\u001b[0m\n",
      "\u001b[34mEpoch 19/50\u001b[0m\n",
      "\u001b[34m1/4 [======>.......................] - ETA: 0s - loss: 0.5645 - accuracy: 0.7812\u001b[0m\n",
      "\u001b[34m#010#010#010#010#010#010#010#010#010#010#010#010#010#010#010#010#010#010#010#010#010#010#010#010#010#010#010#010#010#010#010#010#010#010#010#010#010#010#010#010#010#010#010#010#010#010#010#010#010#010#010#010#010#010#010#010#010#010#010#010#010#010#010#010#010#010#010#010#010#010#010#010#010#010#010#010#010#010#010#010#0154/4 [==============================] - 0s 3ms/step - loss: 0.5457 - accuracy: 0.7583\u001b[0m\n",
      "\u001b[34mEpoch 20/50\u001b[0m\n",
      "\u001b[34m1/4 [======>.......................] - ETA: 0s - loss: 0.5201 - accuracy: 0.7812\u001b[0m\n",
      "\u001b[34m#010#010#010#010#010#010#010#010#010#010#010#010#010#010#010#010#010#010#010#010#010#010#010#010#010#010#010#010#010#010#010#010#010#010#010#010#010#010#010#010#010#010#010#010#010#010#010#010#010#010#010#010#010#010#010#010#010#010#010#010#010#010#010#010#010#010#010#010#010#010#010#010#010#010#010#010#010#010#010#010#0154/4 [==============================] - 0s 3ms/step - loss: 0.4709 - accuracy: 0.7833\u001b[0m\n",
      "\u001b[34mEpoch 21/50\u001b[0m\n",
      "\u001b[34m1/4 [======>.......................] - ETA: 0s - loss: 0.4218 - accuracy: 0.8750\u001b[0m\n",
      "\u001b[34m#010#010#010#010#010#010#010#010#010#010#010#010#010#010#010#010#010#010#010#010#010#010#010#010#010#010#010#010#010#010#010#010#010#010#010#010#010#010#010#010#010#010#010#010#010#010#010#010#010#010#010#010#010#010#010#010#010#010#010#010#010#010#010#010#010#010#010#010#010#010#010#010#010#010#010#010#010#010#010#010#0154/4 [==============================] - 0s 3ms/step - loss: 0.4266 - accuracy: 0.8250\u001b[0m\n",
      "\u001b[34mEpoch 22/50\u001b[0m\n",
      "\u001b[34m1/4 [======>.......................] - ETA: 0s - loss: 0.5838 - accuracy: 0.7188\u001b[0m\n",
      "\u001b[34m#010#010#010#010#010#010#010#010#010#010#010#010#010#010#010#010#010#010#010#010#010#010#010#010#010#010#010#010#010#010#010#010#010#010#010#010#010#010#010#010#010#010#010#010#010#010#010#010#010#010#010#010#010#010#010#010#010#010#010#010#010#010#010#010#010#010#010#010#010#010#010#010#010#010#010#010#010#010#010#010#0154/4 [==============================] - 0s 3ms/step - loss: 0.5191 - accuracy: 0.7417\u001b[0m\n",
      "\u001b[34mEpoch 23/50\u001b[0m\n",
      "\u001b[34m1/4 [======>.......................] - ETA: 0s - loss: 0.5541 - accuracy: 0.7812\u001b[0m\n",
      "\u001b[34m#010#010#010#010#010#010#010#010#010#010#010#010#010#010#010#010#010#010#010#010#010#010#010#010#010#010#010#010#010#010#010#010#010#010#010#010#010#010#010#010#010#010#010#010#010#010#010#010#010#010#010#010#010#010#010#010#010#010#010#010#010#010#010#010#010#010#010#010#010#010#010#010#010#010#010#010#010#010#010#010#0154/4 [==============================] - 0s 3ms/step - loss: 0.4718 - accuracy: 0.8000\u001b[0m\n",
      "\u001b[34mEpoch 24/50\u001b[0m\n",
      "\u001b[34m1/4 [======>.......................] - ETA: 0s - loss: 0.4217 - accuracy: 0.7812\u001b[0m\n",
      "\u001b[34m#010#010#010#010#010#010#010#010#010#010#010#010#010#010#010#010#010#010#010#010#010#010#010#010#010#010#010#010#010#010#010#010#010#010#010#010#010#010#010#010#010#010#010#010#010#010#010#010#010#010#010#010#010#010#010#010#010#010#010#010#010#010#010#010#010#010#010#010#010#010#010#010#010#010#010#010#010#010#010#010#0154/4 [==============================] - 0s 3ms/step - loss: 0.4782 - accuracy: 0.7750\u001b[0m\n",
      "\u001b[34mEpoch 25/50\u001b[0m\n",
      "\u001b[34m1/4 [======>.......................] - ETA: 0s - loss: 0.4044 - accuracy: 0.7812\u001b[0m\n",
      "\u001b[34m#010#010#010#010#010#010#010#010#010#010#010#010#010#010#010#010#010#010#010#010#010#010#010#010#010#010#010#010#010#010#010#010#010#010#010#010#010#010#010#010#010#010#010#010#010#010#010#010#010#010#010#010#010#010#010#010#010#010#010#010#010#010#010#010#010#010#010#010#010#010#010#010#010#010#010#010#010#010#010#010#0154/4 [==============================] - 0s 3ms/step - loss: 0.4364 - accuracy: 0.7167\u001b[0m\n",
      "\u001b[34mEpoch 26/50\u001b[0m\n",
      "\u001b[34m1/4 [======>.......................] - ETA: 0s - loss: 0.4586 - accuracy: 0.7188\u001b[0m\n",
      "\u001b[34m#010#010#010#010#010#010#010#010#010#010#010#010#010#010#010#010#010#010#010#010#010#010#010#010#010#010#010#010#010#010#010#010#010#010#010#010#010#010#010#010#010#010#010#010#010#010#010#010#010#010#010#010#010#010#010#010#010#010#010#010#010#010#010#010#010#010#010#010#010#010#010#010#010#010#010#010#010#010#010#010#0154/4 [==============================] - 0s 3ms/step - loss: 0.4067 - accuracy: 0.7917\u001b[0m\n",
      "\u001b[34mEpoch 27/50\u001b[0m\n",
      "\u001b[34m1/4 [======>.......................] - ETA: 0s - loss: 0.3232 - accuracy: 0.8750\u001b[0m\n",
      "\u001b[34m#010#010#010#010#010#010#010#010#010#010#010#010#010#010#010#010#010#010#010#010#010#010#010#010#010#010#010#010#010#010#010#010#010#010#010#010#010#010#010#010#010#010#010#010#010#010#010#010#010#010#010#010#010#010#010#010#010#010#010#010#010#010#010#010#010#010#010#010#010#010#010#010#010#010#010#010#010#010#010#010#0154/4 [==============================] - 0s 3ms/step - loss: 0.3933 - accuracy: 0.8583\u001b[0m\n",
      "\u001b[34mEpoch 28/50\u001b[0m\n",
      "\u001b[34m1/4 [======>.......................] - ETA: 0s - loss: 0.4253 - accuracy: 0.8438\u001b[0m\n",
      "\u001b[34m#010#010#010#010#010#010#010#010#010#010#010#010#010#010#010#010#010#010#010#010#010#010#010#010#010#010#010#010#010#010#010#010#010#010#010#010#010#010#010#010#010#010#010#010#010#010#010#010#010#010#010#010#010#010#010#010#010#010#010#010#010#010#010#010#010#010#010#010#010#010#010#010#010#010#010#010#010#010#010#010#0154/4 [==============================] - 0s 3ms/step - loss: 0.4291 - accuracy: 0.8500\u001b[0m\n",
      "\u001b[34mEpoch 29/50\u001b[0m\n",
      "\u001b[34m1/4 [======>.......................] - ETA: 0s - loss: 0.3889 - accuracy: 0.8438\u001b[0m\n",
      "\u001b[34m#010#010#010#010#010#010#010#010#010#010#010#010#010#010#010#010#010#010#010#010#010#010#010#010#010#010#010#010#010#010#010#010#010#010#010#010#010#010#010#010#010#010#010#010#010#010#010#010#010#010#010#010#010#010#010#010#010#010#010#010#010#010#010#010#010#010#010#010#010#010#010#010#010#010#010#010#010#010#010#010#0154/4 [==============================] - 0s 3ms/step - loss: 0.3599 - accuracy: 0.8583\u001b[0m\n",
      "\u001b[34mEpoch 30/50\u001b[0m\n",
      "\u001b[34m1/4 [======>.......................] - ETA: 0s - loss: 0.4706 - accuracy: 0.8125\u001b[0m\n",
      "\u001b[34m#010#010#010#010#010#010#010#010#010#010#010#010#010#010#010#010#010#010#010#010#010#010#010#010#010#010#010#010#010#010#010#010#010#010#010#010#010#010#010#010#010#010#010#010#010#010#010#010#010#010#010#010#010#010#010#010#010#010#010#010#010#010#010#010#010#010#010#010#010#010#010#010#010#010#010#010#010#010#010#010#0154/4 [==============================] - 0s 3ms/step - loss: 0.3899 - accuracy: 0.8750\u001b[0m\n",
      "\u001b[34mEpoch 31/50\u001b[0m\n",
      "\u001b[34m1/4 [======>.......................] - ETA: 0s - loss: 0.3666 - accuracy: 0.8438\u001b[0m\n",
      "\u001b[34m#010#010#010#010#010#010#010#010#010#010#010#010#010#010#010#010#010#010#010#010#010#010#010#010#010#010#010#010#010#010#010#010#010#010#010#010#010#010#010#010#010#010#010#010#010#010#010#010#010#010#010#010#010#010#010#010#010#010#010#010#010#010#010#010#010#010#010#010#010#010#010#010#010#010#010#010#010#010#010#010#0154/4 [==============================] - 0s 3ms/step - loss: 0.3742 - accuracy: 0.8417\u001b[0m\n",
      "\u001b[34mEpoch 32/50\u001b[0m\n",
      "\u001b[34m1/4 [======>.......................] - ETA: 0s - loss: 0.3687 - accuracy: 0.8438\u001b[0m\n",
      "\u001b[34m#010#010#010#010#010#010#010#010#010#010#010#010#010#010#010#010#010#010#010#010#010#010#010#010#010#010#010#010#010#010#010#010#010#010#010#010#010#010#010#010#010#010#010#010#010#010#010#010#010#010#010#010#010#010#010#010#010#010#010#010#010#010#010#010#010#010#010#010#010#010#010#010#010#010#010#010#010#010#010#010#0154/4 [==============================] - 0s 3ms/step - loss: 0.3948 - accuracy: 0.8333\u001b[0m\n",
      "\u001b[34mEpoch 33/50\u001b[0m\n",
      "\u001b[34m1/4 [======>.......................] - ETA: 0s - loss: 0.3993 - accuracy: 0.8438\u001b[0m\n",
      "\u001b[34m#010#010#010#010#010#010#010#010#010#010#010#010#010#010#010#010#010#010#010#010#010#010#010#010#010#010#010#010#010#010#010#010#010#010#010#010#010#010#010#010#010#010#010#010#010#010#010#010#010#010#010#010#010#010#010#010#010#010#010#010#010#010#010#010#010#010#010#010#010#010#010#010#010#010#010#010#010#010#010#010#0154/4 [==============================] - 0s 3ms/step - loss: 0.3698 - accuracy: 0.8750\u001b[0m\n",
      "\u001b[34mEpoch 34/50\u001b[0m\n",
      "\u001b[34m1/4 [======>.......................] - ETA: 0s - loss: 0.3686 - accuracy: 0.8125\u001b[0m\n",
      "\u001b[34m#010#010#010#010#010#010#010#010#010#010#010#010#010#010#010#010#010#010#010#010#010#010#010#010#010#010#010#010#010#010#010#010#010#010#010#010#010#010#010#010#010#010#010#010#010#010#010#010#010#010#010#010#010#010#010#010#010#010#010#010#010#010#010#010#010#010#010#010#010#010#010#010#010#010#010#010#010#010#010#010#0154/4 [==============================] - 0s 3ms/step - loss: 0.3494 - accuracy: 0.8583\u001b[0m\n",
      "\u001b[34mEpoch 35/50\u001b[0m\n",
      "\u001b[34m1/4 [======>.......................] - ETA: 0s - loss: 0.3173 - accuracy: 0.9062\u001b[0m\n",
      "\u001b[34m#010#010#010#010#010#010#010#010#010#010#010#010#010#010#010#010#010#010#010#010#010#010#010#010#010#010#010#010#010#010#010#010#010#010#010#010#010#010#010#010#010#010#010#010#010#010#010#010#010#010#010#010#010#010#010#010#010#010#010#010#010#010#010#010#010#010#010#010#010#010#010#010#010#010#010#010#010#010#010#010#0154/4 [==============================] - 0s 3ms/step - loss: 0.3353 - accuracy: 0.8917\u001b[0m\n",
      "\u001b[34mEpoch 36/50\u001b[0m\n",
      "\u001b[34m1/4 [======>.......................] - ETA: 0s - loss: 0.3523 - accuracy: 0.8438\u001b[0m\n",
      "\u001b[34m#010#010#010#010#010#010#010#010#010#010#010#010#010#010#010#010#010#010#010#010#010#010#010#010#010#010#010#010#010#010#010#010#010#010#010#010#010#010#010#010#010#010#010#010#010#010#010#010#010#010#010#010#010#010#010#010#010#010#010#010#010#010#010#010#010#010#010#010#010#010#010#010#010#010#010#010#010#010#010#010#0154/4 [==============================] - 0s 3ms/step - loss: 0.3608 - accuracy: 0.8500\u001b[0m\n",
      "\u001b[34mEpoch 37/50\u001b[0m\n",
      "\u001b[34m1/4 [======>.......................] - ETA: 0s - loss: 0.3148 - accuracy: 0.8750\u001b[0m\n",
      "\u001b[34m#010#010#010#010#010#010#010#010#010#010#010#010#010#010#010#010#010#010#010#010#010#010#010#010#010#010#010#010#010#010#010#010#010#010#010#010#010#010#010#010#010#010#010#010#010#010#010#010#010#010#010#010#010#010#010#010#010#010#010#010#010#010#010#010#010#010#010#010#010#010#010#010#010#010#010#010#010#010#010#010#0154/4 [==============================] - 0s 3ms/step - loss: 0.3542 - accuracy: 0.8250\u001b[0m\n",
      "\u001b[34mEpoch 38/50\u001b[0m\n",
      "\u001b[34m1/4 [======>.......................] - ETA: 0s - loss: 0.4999 - accuracy: 0.7188\u001b[0m\n",
      "\u001b[34m#010#010#010#010#010#010#010#010#010#010#010#010#010#010#010#010#010#010#010#010#010#010#010#010#010#010#010#010#010#010#010#010#010#010#010#010#010#010#010#010#010#010#010#010#010#010#010#010#010#010#010#010#010#010#010#010#010#010#010#010#010#010#010#010#010#010#010#010#010#010#010#010#010#010#010#010#010#010#010#010#0154/4 [==============================] - 0s 3ms/step - loss: 0.3710 - accuracy: 0.8500\u001b[0m\n",
      "\u001b[34mEpoch 39/50\u001b[0m\n",
      "\u001b[34m1/4 [======>.......................] - ETA: 0s - loss: 0.3413 - accuracy: 0.9062\u001b[0m\n",
      "\u001b[34m#010#010#010#010#010#010#010#010#010#010#010#010#010#010#010#010#010#010#010#010#010#010#010#010#010#010#010#010#010#010#010#010#010#010#010#010#010#010#010#010#010#010#010#010#010#010#010#010#010#010#010#010#010#010#010#010#010#010#010#010#010#010#010#010#010#010#010#010#010#010#010#010#010#010#010#010#010#010#010#010#0154/4 [==============================] - 0s 3ms/step - loss: 0.3050 - accuracy: 0.9083\u001b[0m\n",
      "\u001b[34mEpoch 40/50\u001b[0m\n",
      "\u001b[34m1/4 [======>.......................] - ETA: 0s - loss: 0.3744 - accuracy: 0.8125\u001b[0m\n",
      "\u001b[34m#010#010#010#010#010#010#010#010#010#010#010#010#010#010#010#010#010#010#010#010#010#010#010#010#010#010#010#010#010#010#010#010#010#010#010#010#010#010#010#010#010#010#010#010#010#010#010#010#010#010#010#010#010#010#010#010#010#010#010#010#010#010#010#010#010#010#010#010#010#010#010#010#010#010#010#010#010#010#010#010#0154/4 [==============================] - 0s 3ms/step - loss: 0.3373 - accuracy: 0.8667\u001b[0m\n",
      "\u001b[34mEpoch 41/50\u001b[0m\n",
      "\u001b[34m1/4 [======>.......................] - ETA: 0s - loss: 0.2873 - accuracy: 0.9375\u001b[0m\n",
      "\u001b[34m#010#010#010#010#010#010#010#010#010#010#010#010#010#010#010#010#010#010#010#010#010#010#010#010#010#010#010#010#010#010#010#010#010#010#010#010#010#010#010#010#010#010#010#010#010#010#010#010#010#010#010#010#010#010#010#010#010#010#010#010#010#010#010#010#010#010#010#010#010#010#010#010#010#010#010#010#010#010#010#010#0154/4 [==============================] - 0s 3ms/step - loss: 0.2847 - accuracy: 0.9083\u001b[0m\n",
      "\u001b[34mEpoch 42/50\u001b[0m\n",
      "\u001b[34m1/4 [======>.......................] - ETA: 0s - loss: 0.3119 - accuracy: 0.8750\u001b[0m\n",
      "\u001b[34m#010#010#010#010#010#010#010#010#010#010#010#010#010#010#010#010#010#010#010#010#010#010#010#010#010#010#010#010#010#010#010#010#010#010#010#010#010#010#010#010#010#010#010#010#010#010#010#010#010#010#010#010#010#010#010#010#010#010#010#010#010#010#010#010#010#010#010#010#010#010#010#010#010#010#010#010#010#010#010#010#0154/4 [==============================] - 0s 3ms/step - loss: 0.3200 - accuracy: 0.8583\u001b[0m\n",
      "\u001b[34mEpoch 43/50\u001b[0m\n",
      "\u001b[34m1/4 [======>.......................] - ETA: 0s - loss: 0.2219 - accuracy: 0.9375\u001b[0m\n",
      "\u001b[34m#010#010#010#010#010#010#010#010#010#010#010#010#010#010#010#010#010#010#010#010#010#010#010#010#010#010#010#010#010#010#010#010#010#010#010#010#010#010#010#010#010#010#010#010#010#010#010#010#010#010#010#010#010#010#010#010#010#010#010#010#010#010#010#010#010#010#010#010#010#010#010#010#010#010#010#010#010#010#010#010#0154/4 [==============================] - 0s 3ms/step - loss: 0.3083 - accuracy: 0.8750\u001b[0m\n",
      "\u001b[34mEpoch 44/50\u001b[0m\n",
      "\u001b[34m1/4 [======>.......................] - ETA: 0s - loss: 0.4062 - accuracy: 0.7812\u001b[0m\n",
      "\u001b[34m#010#010#010#010#010#010#010#010#010#010#010#010#010#010#010#010#010#010#010#010#010#010#010#010#010#010#010#010#010#010#010#010#010#010#010#010#010#010#010#010#010#010#010#010#010#010#010#010#010#010#010#010#010#010#010#010#010#010#010#010#010#010#010#010#010#010#010#010#010#010#010#010#010#010#010#010#010#010#010#010#0154/4 [==============================] - 0s 3ms/step - loss: 0.3125 - accuracy: 0.8583\u001b[0m\n",
      "\u001b[34mEpoch 45/50\u001b[0m\n",
      "\u001b[34m1/4 [======>.......................] - ETA: 0s - loss: 0.1705 - accuracy: 1.0000\u001b[0m\n",
      "\u001b[34m#010#010#010#010#010#010#010#010#010#010#010#010#010#010#010#010#010#010#010#010#010#010#010#010#010#010#010#010#010#010#010#010#010#010#010#010#010#010#010#010#010#010#010#010#010#010#010#010#010#010#010#010#010#010#010#010#010#010#010#010#010#010#010#010#010#010#010#010#010#010#010#010#010#010#010#010#010#010#010#010#0154/4 [==============================] - 0s 3ms/step - loss: 0.2939 - accuracy: 0.9000\u001b[0m\n",
      "\u001b[34mEpoch 46/50\u001b[0m\n",
      "\u001b[34m1/4 [======>.......................] - ETA: 0s - loss: 0.2656 - accuracy: 0.9062\u001b[0m\n",
      "\u001b[34m#010#010#010#010#010#010#010#010#010#010#010#010#010#010#010#010#010#010#010#010#010#010#010#010#010#010#010#010#010#010#010#010#010#010#010#010#010#010#010#010#010#010#010#010#010#010#010#010#010#010#010#010#010#010#010#010#010#010#010#010#010#010#010#010#010#010#010#010#010#010#010#010#010#010#010#010#010#010#010#010#0154/4 [==============================] - 0s 3ms/step - loss: 0.2393 - accuracy: 0.9167\u001b[0m\n",
      "\u001b[34mEpoch 47/50\u001b[0m\n",
      "\u001b[34m1/4 [======>.......................] - ETA: 0s - loss: 0.3949 - accuracy: 0.8750\u001b[0m\n",
      "\u001b[34m#010#010#010#010#010#010#010#010#010#010#010#010#010#010#010#010#010#010#010#010#010#010#010#010#010#010#010#010#010#010#010#010#010#010#010#010#010#010#010#010#010#010#010#010#010#010#010#010#010#010#010#010#010#010#010#010#010#010#010#010#010#010#010#010#010#010#010#010#010#010#010#010#010#010#010#010#010#010#010#010#0154/4 [==============================] - 0s 3ms/step - loss: 0.3095 - accuracy: 0.8667\u001b[0m\n",
      "\u001b[34mEpoch 48/50\u001b[0m\n",
      "\u001b[34m1/4 [======>.......................] - ETA: 0s - loss: 0.1954 - accuracy: 0.9688\u001b[0m\n",
      "\u001b[34m#010#010#010#010#010#010#010#010#010#010#010#010#010#010#010#010#010#010#010#010#010#010#010#010#010#010#010#010#010#010#010#010#010#010#010#010#010#010#010#010#010#010#010#010#010#010#010#010#010#010#010#010#010#010#010#010#010#010#010#010#010#010#010#010#010#010#010#010#010#010#010#010#010#010#010#010#010#010#010#010#0154/4 [==============================] - 0s 3ms/step - loss: 0.2772 - accuracy: 0.9167\u001b[0m\n",
      "\u001b[34mEpoch 49/50\u001b[0m\n",
      "\u001b[34m1/4 [======>.......................] - ETA: 0s - loss: 0.2278 - accuracy: 0.8750\u001b[0m\n",
      "\u001b[34m#010#010#010#010#010#010#010#010#010#010#010#010#010#010#010#010#010#010#010#010#010#010#010#010#010#010#010#010#010#010#010#010#010#010#010#010#010#010#010#010#010#010#010#010#010#010#010#010#010#010#010#010#010#010#010#010#010#010#010#010#010#010#010#010#010#010#010#010#010#010#010#010#010#010#010#010#010#010#010#010#0154/4 [==============================] - 0s 3ms/step - loss: 0.2460 - accuracy: 0.9333\u001b[0m\n",
      "\u001b[34mEpoch 50/50\u001b[0m\n",
      "\u001b[34m1/4 [======>.......................] - ETA: 0s - loss: 0.1853 - accuracy: 0.9688\u001b[0m\n",
      "\u001b[34m#010#010#010#010#010#010#010#010#010#010#010#010#010#010#010#010#010#010#010#010#010#010#010#010#010#010#010#010#010#010#010#010#010#010#010#010#010#010#010#010#010#010#010#010#010#010#010#010#010#010#010#010#010#010#010#010#010#010#010#010#010#010#010#010#010#010#010#010#010#010#010#010#010#010#010#010#010#010#010#010#0154/4 [==============================] - 0s 3ms/step - loss: 0.2623 - accuracy: 0.8917\u001b[0m\n",
      "\u001b[34m1/1 [==============================] - ETA: 0s - loss: 0.2015 - accuracy: 0.9667\u001b[0m\n",
      "\u001b[34m#010#010#010#010#010#010#010#010#010#010#010#010#010#010#010#010#010#010#010#010#010#010#010#010#010#010#010#010#010#010#010#010#010#010#010#010#010#010#010#010#010#010#010#010#010#010#010#010#010#010#010#010#010#010#010#010#010#010#010#010#010#010#010#010#010#010#010#010#010#010#010#010#010#010#010#010#010#010#010#010#0151/1 [==============================] - 0s 165ms/step - loss: 0.2015 - accuracy: 0.9667\u001b[0m\n",
      "\u001b[34mTest accuracy: 0.9666666388511658\u001b[0m\n",
      "\u001b[34m2024-01-28 16:16:27,241 sagemaker-training-toolkit INFO     Waiting for the process to finish and give a return code.\u001b[0m\n",
      "\u001b[34m2024-01-28 16:16:27,242 sagemaker-training-toolkit INFO     Done waiting for a return code. Received 0 from exiting process.\u001b[0m\n",
      "\u001b[34m2024-01-28 16:16:27,242 sagemaker-training-toolkit INFO     Reporting training SUCCESS\u001b[0m\n",
      "\n",
      "2024-01-28 16:16:43 Uploading - Uploading generated training model\n",
      "2024-01-28 16:16:43 Completed - Training job completed\n",
      "Training seconds: 193\n",
      "Billable seconds: 193\n"
     ]
    }
   ],
   "source": [
    "from sagemaker.tensorflow import TensorFlow\n",
    "\n",
    "iris_estimator = TensorFlow(entry_point='train3.py',\n",
    "                          role=role,\n",
    "                          framework_version='2.13',\n",
    "                          py_version='py310',\n",
    "                          train_instance_count=1,\n",
    "                          train_instance_type='ml.g4dn.xlarge',\n",
    "                          hyperparameters={'learning_rate': 0.001, 'epochs': 100},\n",
    "                           output_path='s3://anomaly-model5/iris/model'\n",
    "                           )\n",
    "                \n",
    "\n",
    "iris_estimator.fit({'train': train_input_path, 'test': test_input_path})"
   ]
  },
  {
   "cell_type": "code",
   "execution_count": 64,
   "id": "8d273ccc-ad37-40a8-9fcd-8315331f2eeb",
   "metadata": {},
   "outputs": [
    {
     "name": "stderr",
     "output_type": "stream",
     "text": [
      "INFO:sagemaker.tensorflow.model:image_uri is not presented, retrieving image_uri based on instance_type, framework etc.\n",
      "INFO:sagemaker:Creating model with name: tensorflow-training-2024-01-28-16-17-28-935\n",
      "INFO:sagemaker:Creating endpoint-config with name tensorflow-training-2024-01-28-16-17-28-935\n",
      "INFO:sagemaker:Creating endpoint with name tensorflow-training-2024-01-28-16-17-28-935\n"
     ]
    },
    {
     "name": "stdout",
     "output_type": "stream",
     "text": [
      "-------!"
     ]
    }
   ],
   "source": [
    "predictor = iris_estimator.deploy(initial_instance_count=1, instance_type='ml.g4dn.xlarge')\n"
   ]
  },
  {
   "cell_type": "code",
   "execution_count": 68,
   "id": "551f738d-14e0-4ed7-a38a-58f5a785486b",
   "metadata": {},
   "outputs": [
    {
     "data": {
      "text/plain": [
       "{'predictions': [[0.00165985862, 0.63594377, 0.362396419],\n",
       "  [0.997208297, 0.00275599118, 3.56601959e-05],\n",
       "  [2.7627118e-07, 0.0408964455, 0.959103286],\n",
       "  [0.00173521321, 0.598545611, 0.399719238],\n",
       "  [0.00176696235, 0.725758791, 0.272474259],\n",
       "  [0.995565593, 0.00435964, 7.47212325e-05],\n",
       "  [0.0307704676, 0.845696211, 0.123533286],\n",
       "  [0.000134844435, 0.323551565, 0.676313639],\n",
       "  [0.000740162388, 0.497689486, 0.501570284],\n",
       "  [0.0132906968, 0.825321674, 0.161387682],\n",
       "  [0.000188961538, 0.338153273, 0.661657751],\n",
       "  [0.993761361, 0.0060966881, 0.000141917044],\n",
       "  [0.997817159, 0.00215134327, 3.15455545e-05],\n",
       "  [0.993932784, 0.00593905756, 0.000128026732],\n",
       "  [0.996561, 0.00337596, 6.30252907e-05],\n",
       "  [0.00188956968, 0.65293473, 0.345175743],\n",
       "  [5.42074395e-06, 0.0839177072, 0.916076839],\n",
       "  [0.00983500481, 0.784931183, 0.205233812],\n",
       "  [0.00158443477, 0.558496594, 0.439919],\n",
       "  [6.97981e-06, 0.0869399905, 0.913053036],\n",
       "  [0.991080225, 0.00870367885, 0.00021608136],\n",
       "  [0.000258905377, 0.337558627, 0.66218245],\n",
       "  [0.992954075, 0.00689453771, 0.000151422704],\n",
       "  [8.48604941e-06, 0.0967539, 0.903237641],\n",
       "  [3.22460037e-05, 0.321454227, 0.678513527],\n",
       "  [5.25437827e-05, 0.212677032, 0.787270427],\n",
       "  [8.89102648e-06, 0.121097833, 0.878893256],\n",
       "  [5.32722152e-06, 0.0915898234, 0.908404827],\n",
       "  [0.992058754, 0.00774579681, 0.000195341709],\n",
       "  [0.990864336, 0.0089241, 0.000211585037]]}"
      ]
     },
     "execution_count": 68,
     "metadata": {},
     "output_type": "execute_result"
    }
   ],
   "source": [
    "predictor.predict(X_test)"
   ]
  },
  {
   "cell_type": "code",
   "execution_count": 69,
   "id": "2a5cca3e-a204-40d9-ac4a-09e1af514ae6",
   "metadata": {},
   "outputs": [
    {
     "data": {
      "text/plain": [
       "array([[0, 1, 0],\n",
       "       [1, 0, 0],\n",
       "       [0, 0, 1],\n",
       "       [0, 1, 0],\n",
       "       [0, 1, 0],\n",
       "       [1, 0, 0],\n",
       "       [0, 1, 0],\n",
       "       [0, 0, 1],\n",
       "       [0, 1, 0],\n",
       "       [0, 1, 0],\n",
       "       [0, 0, 1],\n",
       "       [1, 0, 0],\n",
       "       [1, 0, 0],\n",
       "       [1, 0, 0],\n",
       "       [1, 0, 0],\n",
       "       [0, 1, 0],\n",
       "       [0, 0, 1],\n",
       "       [0, 1, 0],\n",
       "       [0, 1, 0],\n",
       "       [0, 0, 1],\n",
       "       [1, 0, 0],\n",
       "       [0, 0, 1],\n",
       "       [1, 0, 0],\n",
       "       [0, 0, 1],\n",
       "       [0, 0, 1],\n",
       "       [0, 0, 1],\n",
       "       [0, 0, 1],\n",
       "       [0, 0, 1],\n",
       "       [1, 0, 0],\n",
       "       [1, 0, 0]])"
      ]
     },
     "execution_count": 69,
     "metadata": {},
     "output_type": "execute_result"
    }
   ],
   "source": [
    "y_test"
   ]
  },
  {
   "cell_type": "code",
   "execution_count": 70,
   "id": "4464752a-7c1e-4d3b-b155-bb42a6b1a4a8",
   "metadata": {},
   "outputs": [
    {
     "name": "stderr",
     "output_type": "stream",
     "text": [
      "INFO:sagemaker:Deleting endpoint configuration with name: tensorflow-training-2024-01-28-16-17-28-935\n",
      "INFO:sagemaker:Deleting endpoint with name: tensorflow-training-2024-01-28-16-17-28-935\n"
     ]
    }
   ],
   "source": [
    "predictor.delete_endpoint()"
   ]
  },
  {
   "cell_type": "code",
   "execution_count": 180,
   "id": "6f5a9e1d-69ab-47b8-9d96-9437a411a4a8",
   "metadata": {
    "tags": []
   },
   "outputs": [
    {
     "name": "stderr",
     "output_type": "stream",
     "text": [
      "INFO:sagemaker.tensorflow.model:image_uri is not presented, retrieving image_uri based on instance_type, framework etc.\n",
      "INFO:sagemaker:Creating model with name: tensorflow-inference-2024-01-29-23-34-13-743\n",
      "INFO:sagemaker:Creating endpoint-config with name tensorflow-inference-2024-01-29-23-34-14-356\n",
      "INFO:sagemaker:Creating endpoint with name tensorflow-inference-2024-01-29-23-34-14-356\n"
     ]
    },
    {
     "name": "stdout",
     "output_type": "stream",
     "text": [
      "-------!"
     ]
    }
   ],
   "source": [
    "#model is stored here:\n",
    "model_data = 's3://anomaly-model5/iris/model/tensorflow-training-2024-01-28-16-11-52-553/output/model.tar.gz'\n",
    "\n",
    "tf_model = TensorFlowModel(model_data=model_data,\n",
    "                           role=role,\n",
    "                           framework_version='2.13',  # Replace with the version you used\n",
    "                           sagemaker_session=sagemaker_session,\n",
    "                           #entry_point = 'predict.py'\n",
    "                           #source_dir=\"model_directory\"\n",
    "                          )\n",
    "# Deploy the model to an endpoint\n",
    "predictor = tf_model.deploy(initial_instance_count=1,\n",
    "                            instance_type='ml.g4dn.xlarge')"
   ]
  },
  {
   "cell_type": "code",
   "execution_count": 229,
   "id": "6840684d-6790-4da5-9dcd-30941009ec61",
   "metadata": {
    "tags": []
   },
   "outputs": [
    {
     "name": "stderr",
     "output_type": "stream",
     "text": [
      "WARNING:sagemaker.deprecations:The endpoint attribute has been renamed in sagemaker>=2.\n",
      "See: https://sagemaker.readthedocs.io/en/stable/v2.html for details.\n"
     ]
    },
    {
     "data": {
      "text/plain": [
       "'tensorflow-inference-2024-01-30-01-45-49-702'"
      ]
     },
     "execution_count": 229,
     "metadata": {},
     "output_type": "execute_result"
    }
   ],
   "source": [
    "predictor.endpoint"
   ]
  },
  {
   "cell_type": "code",
   "execution_count": 188,
   "id": "6a175975-bf26-4841-9bcb-c20a4308a2e2",
   "metadata": {
    "tags": []
   },
   "outputs": [
    {
     "data": {
      "text/plain": [
       "{'predictions': [[0.00165985862, 0.63594377, 0.362396419],\n",
       "  [0.997208297, 0.00275599118, 3.56601959e-05],\n",
       "  [2.7627118e-07, 0.0408964455, 0.959103286],\n",
       "  [0.00173521321, 0.598545611, 0.399719238],\n",
       "  [0.00176696235, 0.725758791, 0.272474259],\n",
       "  [0.995565593, 0.00435964, 7.47212325e-05],\n",
       "  [0.0307704676, 0.845696211, 0.123533286],\n",
       "  [0.000134844435, 0.323551565, 0.676313639],\n",
       "  [0.000740162388, 0.497689486, 0.501570284],\n",
       "  [0.0132906968, 0.825321674, 0.161387682],\n",
       "  [0.000188961538, 0.338153273, 0.661657751],\n",
       "  [0.993761361, 0.0060966881, 0.000141917044],\n",
       "  [0.997817159, 0.00215134327, 3.15455545e-05],\n",
       "  [0.993932784, 0.00593905756, 0.000128026732],\n",
       "  [0.996561, 0.00337596, 6.30252907e-05],\n",
       "  [0.00188956968, 0.65293473, 0.345175743],\n",
       "  [5.42074395e-06, 0.0839177072, 0.916076839],\n",
       "  [0.00983500481, 0.784931183, 0.205233812],\n",
       "  [0.00158443477, 0.558496594, 0.439919],\n",
       "  [6.97981e-06, 0.0869399905, 0.913053036],\n",
       "  [0.991080225, 0.00870367885, 0.00021608136],\n",
       "  [0.000258905377, 0.337558627, 0.66218245],\n",
       "  [0.992954075, 0.00689453771, 0.000151422704],\n",
       "  [8.48604941e-06, 0.0967539, 0.903237641],\n",
       "  [3.22460037e-05, 0.321454227, 0.678513527],\n",
       "  [5.25437827e-05, 0.212677032, 0.787270427],\n",
       "  [8.89102648e-06, 0.121097833, 0.878893256],\n",
       "  [5.32722152e-06, 0.0915898234, 0.908404827],\n",
       "  [0.992058754, 0.00774579681, 0.000195341709],\n",
       "  [0.990864336, 0.0089241, 0.000211585037]]}"
      ]
     },
     "execution_count": 188,
     "metadata": {},
     "output_type": "execute_result"
    }
   ],
   "source": [
    "predictor.predict(X_test)"
   ]
  },
  {
   "cell_type": "code",
   "execution_count": 234,
   "id": "afd18a68-1fef-4484-a8af-11834170e93e",
   "metadata": {
    "tags": []
   },
   "outputs": [
    {
     "ename": "ModelError",
     "evalue": "An error occurred (ModelError) when calling the InvokeEndpoint operation: Received client error (400) from primary with message \"{    \"error\": \"Failed to process element: 0 of 'instances' list. Error: INVALID_ARGUMENT: JSON Value: \\\"xd\\\" Type: String is not of expected type: float\"}\". See https://eu-north-1.console.aws.amazon.com/cloudwatch/home?region=eu-north-1#logEventViewer:group=/aws/sagemaker/Endpoints/tensorflow-inference-2024-01-30-01-45-49-702 in account 700383664770 for more information.",
     "output_type": "error",
     "traceback": [
      "\u001b[0;31m---------------------------------------------------------------------------\u001b[0m",
      "\u001b[0;31mModelError\u001b[0m                                Traceback (most recent call last)",
      "Cell \u001b[0;32mIn[234], line 1\u001b[0m\n\u001b[0;32m----> 1\u001b[0m \u001b[43mpredictor\u001b[49m\u001b[38;5;241;43m.\u001b[39;49m\u001b[43mpredict\u001b[49m\u001b[43m(\u001b[49m\u001b[43m[\u001b[49m\u001b[38;5;241;43m.2\u001b[39;49m\u001b[43m,\u001b[49m\u001b[38;5;124;43m'\u001b[39;49m\u001b[38;5;124;43mxd\u001b[39;49m\u001b[38;5;124;43m'\u001b[39;49m\u001b[43m,\u001b[49m\u001b[38;5;241;43m3\u001b[39;49m\u001b[43m,\u001b[49m\u001b[38;5;241;43m4\u001b[39;49m\u001b[43m]\u001b[49m\u001b[43m)\u001b[49m\n",
      "File \u001b[0;32m~/anaconda3/envs/tensorflow2_p310/lib/python3.10/site-packages/sagemaker/tensorflow/model.py:119\u001b[0m, in \u001b[0;36mTensorFlowPredictor.predict\u001b[0;34m(self, data, initial_args)\u001b[0m\n\u001b[1;32m    116\u001b[0m     \u001b[38;5;28;01melse\u001b[39;00m:\n\u001b[1;32m    117\u001b[0m         args[\u001b[38;5;124m\"\u001b[39m\u001b[38;5;124mCustomAttributes\u001b[39m\u001b[38;5;124m\"\u001b[39m] \u001b[38;5;241m=\u001b[39m \u001b[38;5;28mself\u001b[39m\u001b[38;5;241m.\u001b[39m_model_attributes\n\u001b[0;32m--> 119\u001b[0m \u001b[38;5;28;01mreturn\u001b[39;00m \u001b[38;5;28;43msuper\u001b[39;49m\u001b[43m(\u001b[49m\u001b[43mTensorFlowPredictor\u001b[49m\u001b[43m,\u001b[49m\u001b[43m \u001b[49m\u001b[38;5;28;43mself\u001b[39;49m\u001b[43m)\u001b[49m\u001b[38;5;241;43m.\u001b[39;49m\u001b[43mpredict\u001b[49m\u001b[43m(\u001b[49m\u001b[43mdata\u001b[49m\u001b[43m,\u001b[49m\u001b[43m \u001b[49m\u001b[43margs\u001b[49m\u001b[43m)\u001b[49m\n",
      "File \u001b[0;32m~/anaconda3/envs/tensorflow2_p310/lib/python3.10/site-packages/sagemaker/base_predictor.py:209\u001b[0m, in \u001b[0;36mPredictor.predict\u001b[0;34m(self, data, initial_args, target_model, target_variant, inference_id, custom_attributes, component_name)\u001b[0m\n\u001b[1;32m    206\u001b[0m \u001b[38;5;28;01mif\u001b[39;00m inference_component_name:\n\u001b[1;32m    207\u001b[0m     request_args[\u001b[38;5;124m\"\u001b[39m\u001b[38;5;124mInferenceComponentName\u001b[39m\u001b[38;5;124m\"\u001b[39m] \u001b[38;5;241m=\u001b[39m inference_component_name\n\u001b[0;32m--> 209\u001b[0m response \u001b[38;5;241m=\u001b[39m \u001b[38;5;28;43mself\u001b[39;49m\u001b[38;5;241;43m.\u001b[39;49m\u001b[43msagemaker_session\u001b[49m\u001b[38;5;241;43m.\u001b[39;49m\u001b[43msagemaker_runtime_client\u001b[49m\u001b[38;5;241;43m.\u001b[39;49m\u001b[43minvoke_endpoint\u001b[49m\u001b[43m(\u001b[49m\u001b[38;5;241;43m*\u001b[39;49m\u001b[38;5;241;43m*\u001b[39;49m\u001b[43mrequest_args\u001b[49m\u001b[43m)\u001b[49m\n\u001b[1;32m    210\u001b[0m \u001b[38;5;28;01mreturn\u001b[39;00m \u001b[38;5;28mself\u001b[39m\u001b[38;5;241m.\u001b[39m_handle_response(response)\n",
      "File \u001b[0;32m~/anaconda3/envs/tensorflow2_p310/lib/python3.10/site-packages/botocore/client.py:553\u001b[0m, in \u001b[0;36mClientCreator._create_api_method.<locals>._api_call\u001b[0;34m(self, *args, **kwargs)\u001b[0m\n\u001b[1;32m    549\u001b[0m     \u001b[38;5;28;01mraise\u001b[39;00m \u001b[38;5;167;01mTypeError\u001b[39;00m(\n\u001b[1;32m    550\u001b[0m         \u001b[38;5;124mf\u001b[39m\u001b[38;5;124m\"\u001b[39m\u001b[38;5;132;01m{\u001b[39;00mpy_operation_name\u001b[38;5;132;01m}\u001b[39;00m\u001b[38;5;124m() only accepts keyword arguments.\u001b[39m\u001b[38;5;124m\"\u001b[39m\n\u001b[1;32m    551\u001b[0m     )\n\u001b[1;32m    552\u001b[0m \u001b[38;5;66;03m# The \"self\" in this scope is referring to the BaseClient.\u001b[39;00m\n\u001b[0;32m--> 553\u001b[0m \u001b[38;5;28;01mreturn\u001b[39;00m \u001b[38;5;28;43mself\u001b[39;49m\u001b[38;5;241;43m.\u001b[39;49m\u001b[43m_make_api_call\u001b[49m\u001b[43m(\u001b[49m\u001b[43moperation_name\u001b[49m\u001b[43m,\u001b[49m\u001b[43m \u001b[49m\u001b[43mkwargs\u001b[49m\u001b[43m)\u001b[49m\n",
      "File \u001b[0;32m~/anaconda3/envs/tensorflow2_p310/lib/python3.10/site-packages/botocore/client.py:1009\u001b[0m, in \u001b[0;36mBaseClient._make_api_call\u001b[0;34m(self, operation_name, api_params)\u001b[0m\n\u001b[1;32m   1005\u001b[0m     error_code \u001b[38;5;241m=\u001b[39m error_info\u001b[38;5;241m.\u001b[39mget(\u001b[38;5;124m\"\u001b[39m\u001b[38;5;124mQueryErrorCode\u001b[39m\u001b[38;5;124m\"\u001b[39m) \u001b[38;5;129;01mor\u001b[39;00m error_info\u001b[38;5;241m.\u001b[39mget(\n\u001b[1;32m   1006\u001b[0m         \u001b[38;5;124m\"\u001b[39m\u001b[38;5;124mCode\u001b[39m\u001b[38;5;124m\"\u001b[39m\n\u001b[1;32m   1007\u001b[0m     )\n\u001b[1;32m   1008\u001b[0m     error_class \u001b[38;5;241m=\u001b[39m \u001b[38;5;28mself\u001b[39m\u001b[38;5;241m.\u001b[39mexceptions\u001b[38;5;241m.\u001b[39mfrom_code(error_code)\n\u001b[0;32m-> 1009\u001b[0m     \u001b[38;5;28;01mraise\u001b[39;00m error_class(parsed_response, operation_name)\n\u001b[1;32m   1010\u001b[0m \u001b[38;5;28;01melse\u001b[39;00m:\n\u001b[1;32m   1011\u001b[0m     \u001b[38;5;28;01mreturn\u001b[39;00m parsed_response\n",
      "\u001b[0;31mModelError\u001b[0m: An error occurred (ModelError) when calling the InvokeEndpoint operation: Received client error (400) from primary with message \"{    \"error\": \"Failed to process element: 0 of 'instances' list. Error: INVALID_ARGUMENT: JSON Value: \\\"xd\\\" Type: String is not of expected type: float\"}\". See https://eu-north-1.console.aws.amazon.com/cloudwatch/home?region=eu-north-1#logEventViewer:group=/aws/sagemaker/Endpoints/tensorflow-inference-2024-01-30-01-45-49-702 in account 700383664770 for more information."
     ]
    }
   ],
   "source": [
    "predictor.predict([.2,'xd',3,4])"
   ]
  },
  {
   "cell_type": "code",
   "execution_count": 225,
   "id": "c50f8845-2435-4747-bb71-9bd7a41b48ad",
   "metadata": {
    "tags": []
   },
   "outputs": [
    {
     "name": "stderr",
     "output_type": "stream",
     "text": [
      "INFO:sagemaker:Deleting endpoint configuration with name: tensorflow-inference-2024-01-30-01-38-28-721\n",
      "INFO:sagemaker:Deleting endpoint with name: tensorflow-inference-2024-01-30-01-38-28-721\n"
     ]
    }
   ],
   "source": [
    "predictor.delete_endpoint()"
   ]
  },
  {
   "cell_type": "code",
   "execution_count": null,
   "id": "d9f6d344-3507-4d75-bb2e-e7d2e9d811ab",
   "metadata": {},
   "outputs": [],
   "source": []
  },
  {
   "cell_type": "code",
   "execution_count": null,
   "id": "d8077ed5-dc18-4f5c-aab3-307fe30c7b01",
   "metadata": {},
   "outputs": [],
   "source": []
  },
  {
   "cell_type": "code",
   "execution_count": 190,
   "id": "4fd05904-b097-4e2b-9f8e-92bf2ce34557",
   "metadata": {
    "tags": []
   },
   "outputs": [
    {
     "name": "stdout",
     "output_type": "stream",
     "text": [
      "AllTraffic/i-0b6f80222fed6de8d\n"
     ]
    }
   ],
   "source": [
    "import boto3\n",
    "\n",
    "# Create a CloudWatch Logs client\n",
    "log_client = boto3.client('logs')\n",
    "\n",
    "# Define your log group name (for SageMaker, it typically starts with '/aws/sagemaker/Endpoints')\n",
    "log_group_name = '/aws/sagemaker/Endpoints/tensorflow-inference-2024-01-29-23-41-50-377'\n",
    "\n",
    "# List the log streams (optional, helps to find the relevant stream)\n",
    "streams = log_client.describe_log_streams(logGroupName=log_group_name)\n",
    "for stream in streams['logStreams']:\n",
    "    print(stream['logStreamName'])\n",
    "\n"
   ]
  },
  {
   "cell_type": "code",
   "execution_count": 191,
   "id": "d5145959-59fa-4f0b-b65b-7a929163d797",
   "metadata": {
    "tags": []
   },
   "outputs": [
    {
     "name": "stdout",
     "output_type": "stream",
     "text": [
      "7 2024-01-29 23:44:48,094 INFO     PYTHON SERVICE: False\n",
      "7 2024-01-29 23:44:48,094 INFO     starting services\n",
      "7 2024-01-29 23:44:48,095 INFO     using default model name: model\n",
      "7 2024-01-29 23:44:48,095 INFO     tensorflow serving model config: \n",
      "model_config_list: {\n",
      "  config: {\n",
      "    name: 'model'\n",
      "    base_path: '/opt/ml/model'\n",
      "    model_platform: 'tensorflow'\n",
      "    model_version_policy: {\n",
      "      specific: {\n",
      "        versions: 1\n",
      "      }\n",
      "    }\n",
      "  }\n",
      "}\n",
      "7 2024-01-29 23:44:51,396 INFO     tensorflow version info:\n",
      "2024-01-29 23:44:48.166681: I external/org_tensorflow/tensorflow/core/util/port.cc:110] oneDNN custom operations are on. You may see slightly different numerical results due to floating-point round-off errors from different computation orders. To turn them off, set the environment variable `TF_ENABLE_ONEDNN_OPTS=0`.\n",
      "TensorFlow ModelServer: 2.13.0-rc2+dev.sha.no_git\n",
      "TensorFlow Library: 2.13.0\n",
      "7 2024-01-29 23:44:51,396 INFO     tensorflow serving command: tensorflow_model_server --port=25000 --rest_api_port=25001 --model_config_file=/sagemaker/model-config.cfg --max_num_load_retries=0    \n",
      "7 2024-01-29 23:44:51,405 INFO     started tensorflow serving (pid: 15)\n",
      "7 2024-01-29 23:44:51,407 INFO     Trying to connect with model server: http://localhost:25001/v1/models/model with timeout : 55 and retry : 8\n",
      "7 2024-01-29 23:44:51,411 WARNING  Retrying (Retry(total=7, connect=None, read=None, redirect=None, status=None)) after connection broken by 'NewConnectionError('<urllib3.connection.HTTPConnection object at 0x7f407c2d8cd0>: Failed to establish a new connection: [Errno 111] Connection refused')': /v1/models/model\n",
      "2024-01-29 23:44:51.464469: I external/org_tensorflow/tensorflow/core/util/port.cc:110] oneDNN custom operations are on. You may see slightly different numerical results due to floating-point round-off errors from different computation orders. To turn them off, set the environment variable `TF_ENABLE_ONEDNN_OPTS=0`.\n",
      "2024-01-29 23:44:51.467534: I tensorflow_serving/model_servers/server_core.cc:465] Adding/updating models.\n",
      "2024-01-29 23:44:51.467561: I tensorflow_serving/model_servers/server_core.cc:594]  (Re-)adding model: model\n",
      "7 2024-01-29 23:44:51,612 WARNING  Retrying (Retry(total=6, connect=None, read=None, redirect=None, status=None)) after connection broken by 'NewConnectionError('<urllib3.connection.HTTPConnection object at 0x7f407c2db460>: Failed to establish a new connection: [Errno 111] Connection refused')': /v1/models/model\n",
      "2024-01-29 23:44:51.646480: I tensorflow_serving/util/retrier.cc:46] Retrying of Reserving resources for servable: {name: model version: 1} exhausted max_num_retries: 0\n",
      "2024-01-29 23:44:51.646529: I tensorflow_serving/core/basic_manager.cc:739] Successfully reserved resources to load servable {name: model version: 1}\n",
      "2024-01-29 23:44:51.646539: I tensorflow_serving/core/loader_harness.cc:66] Approving load for servable version {name: model version: 1}\n",
      "2024-01-29 23:44:51.646552: I tensorflow_serving/core/loader_harness.cc:74] Loading servable version {name: model version: 1}\n",
      "2024-01-29 23:44:51.646627: I external/org_tensorflow/tensorflow/cc/saved_model/reader.cc:45] Reading SavedModel from: /opt/ml/model/1\n",
      "2024-01-29 23:44:51.648669: I external/org_tensorflow/tensorflow/cc/saved_model/reader.cc:91] Reading meta graph with tags { serve }\n",
      "2024-01-29 23:44:51.648702: I external/org_tensorflow/tensorflow/cc/saved_model/reader.cc:132] Reading SavedModel debug info (if present) from: /opt/ml/model/1\n",
      "2024-01-29 23:44:51.648805: I external/org_tensorflow/tensorflow/core/platform/cpu_feature_guard.cc:182] This TensorFlow binary is optimized to use available CPU instructions in performance-critical operations.\n",
      "To enable the following instructions: AVX2 AVX512F AVX512_VNNI FMA, in other operations, rebuild TensorFlow with the appropriate compiler flags.\n",
      "2024-01-29 23:44:51.689656: I external/org_tensorflow/tensorflow/compiler/xla/stream_executor/cuda/cuda_gpu_executor.cc:995] successful NUMA node read from SysFS had negative value (-1), but there must be at least one NUMA node, so returning NUMA node zero. See more at https://github.com/torvalds/linux/blob/v6.0/Documentation/ABI/testing/sysfs-bus-pci#L344-L355\n",
      "2024-01-29 23:44:51.720596: I external/org_tensorflow/tensorflow/compiler/xla/stream_executor/cuda/cuda_gpu_executor.cc:995] successful NUMA node read from SysFS had negative value (-1), but there must be at least one NUMA node, so returning NUMA node zero. See more at https://github.com/torvalds/linux/blob/v6.0/Documentation/ABI/testing/sysfs-bus-pci#L344-L355\n",
      "2024-01-29 23:44:51.720877: I external/org_tensorflow/tensorflow/compiler/xla/stream_executor/cuda/cuda_gpu_executor.cc:995] successful NUMA node read from SysFS had negative value (-1), but there must be at least one NUMA node, so returning NUMA node zero. See more at https://github.com/torvalds/linux/blob/v6.0/Documentation/ABI/testing/sysfs-bus-pci#L344-L355\n",
      "7 2024-01-29 23:44:52,013 WARNING  Retrying (Retry(total=5, connect=None, read=None, redirect=None, status=None)) after connection broken by 'NewConnectionError('<urllib3.connection.HTTPConnection object at 0x7f407c2db2b0>: Failed to establish a new connection: [Errno 111] Connection refused')': /v1/models/model\n",
      "2024-01-29 23:44:52.523347: I external/org_tensorflow/tensorflow/compiler/xla/stream_executor/cuda/cuda_gpu_executor.cc:995] successful NUMA node read from SysFS had negative value (-1), but there must be at least one NUMA node, so returning NUMA node zero. See more at https://github.com/torvalds/linux/blob/v6.0/Documentation/ABI/testing/sysfs-bus-pci#L344-L355\n",
      "2024-01-29 23:44:52.523598: I external/org_tensorflow/tensorflow/compiler/xla/stream_executor/cuda/cuda_gpu_executor.cc:995] successful NUMA node read from SysFS had negative value (-1), but there must be at least one NUMA node, so returning NUMA node zero. See more at https://github.com/torvalds/linux/blob/v6.0/Documentation/ABI/testing/sysfs-bus-pci#L344-L355\n",
      "2024-01-29 23:44:52.523802: I external/org_tensorflow/tensorflow/compiler/xla/stream_executor/cuda/cuda_gpu_executor.cc:995] successful NUMA node read from SysFS had negative value (-1), but there must be at least one NUMA node, so returning NUMA node zero. See more at https://github.com/torvalds/linux/blob/v6.0/Documentation/ABI/testing/sysfs-bus-pci#L344-L355\n",
      "2024-01-29 23:44:52.523999: I external/org_tensorflow/tensorflow/core/common_runtime/gpu/gpu_device.cc:1639] Created device /job:localhost/replica:0/task:0/device:GPU:0 with 13742 MB memory:  -> device: 0, name: Tesla T4, pci bus id: 0000:00:1e.0, compute capability: 7.5\n",
      "2024-01-29 23:44:52.557490: I external/org_tensorflow/tensorflow/compiler/mlir/mlir_graph_optimization_pass.cc:375] MLIR V1 optimization pass is not enabled\n",
      "2024-01-29 23:44:52.558728: I external/org_tensorflow/tensorflow/cc/saved_model/loader.cc:231] Restoring SavedModel bundle.\n",
      "7 2024-01-29 23:44:52,815 WARNING  Retrying (Retry(total=4, connect=None, read=None, redirect=None, status=None)) after connection broken by 'NewConnectionError('<urllib3.connection.HTTPConnection object at 0x7f407c2db0a0>: Failed to establish a new connection: [Errno 111] Connection refused')': /v1/models/model\n",
      "2024-01-29 23:44:52.869679: I external/org_tensorflow/tensorflow/cc/saved_model/loader.cc:215] Running initialization op on SavedModel bundle at path: /opt/ml/model/1\n",
      "2024-01-29 23:44:52.881817: I external/org_tensorflow/tensorflow/cc/saved_model/loader.cc:314] SavedModel load for tags { serve }; Status: success: OK. Took 1235191 microseconds.\n",
      "2024-01-29 23:44:52.882375: I tensorflow_serving/servables/tensorflow/saved_model_warmup_util.cc:62] No warmup data file found at /opt/ml/model/1/assets.extra/tf_serving_warmup_requests\n",
      "2024-01-29 23:44:52.953117: I tensorflow_serving/util/retrier.cc:46] Retrying of Loading servable: {name: model version: 1} exhausted max_num_retries: 0\n",
      "2024-01-29 23:44:52.953155: I tensorflow_serving/core/loader_harness.cc:95] Successfully loaded servable version {name: model version: 1}\n",
      "2024-01-29 23:44:52.954079: I tensorflow_serving/model_servers/server_core.cc:486] Finished adding/updating models\n",
      "2024-01-29 23:44:52.954134: I tensorflow_serving/model_servers/server.cc:118] Using InsecureServerCredentials\n",
      "2024-01-29 23:44:52.954148: I tensorflow_serving/model_servers/server.cc:383] Profiler service is enabled\n",
      "2024-01-29 23:44:52.955453: I tensorflow_serving/model_servers/server.cc:409] Running gRPC ModelServer at 0.0.0.0:25000 ...\n",
      "[warn] getaddrinfo: address family for nodename not supported\n",
      "[evhttp_server.cc : 245] NET_LOG: Entering the event loop ...\n",
      "2024-01-29 23:44:52.956132: I tensorflow_serving/model_servers/server.cc:430] Exporting HTTP/REST API at:localhost:25001 ...\n",
      "7 2024-01-29 23:44:54,418 WARNING  Retrying (Retry(total=3, connect=None, read=None, redirect=None, status=None)) after connection broken by 'NewConnectionError('<urllib3.connection.HTTPConnection object at 0x7f407c2dae90>: Failed to establish a new connection: [Errno 111] Connection refused')': /v1/models/model\n",
      "7 2024-01-29 23:44:54,419 INFO     tfs response status_code: 200 with content : {'model_version_status': [{'version': '1', 'state': 'AVAILABLE', 'status': {'error_code': 'OK', 'error_message': ''}}]}\n",
      "7 2024-01-29 23:44:54,420 INFO     nginx config: \n",
      "load_module modules/ngx_http_js_module.so;\n",
      "worker_processes auto;\n",
      "daemon off;\n",
      "pid /tmp/nginx.pid;\n",
      "error_log  /dev/stderr error;\n",
      "worker_rlimit_nofile 4096;\n",
      "events {\n",
      "  worker_connections 2048;\n",
      "}\n",
      "http {\n",
      "  include /etc/nginx/mime.types;\n",
      "  default_type application/json;\n",
      "  access_log /dev/stdout combined;\n",
      "  js_import tensorflowServing.js;\n",
      "  proxy_read_timeout 60;  \n",
      "  upstream tfs_upstream {\n",
      "    server localhost:25001;\n",
      "  }\n",
      "  upstream gunicorn_upstream {\n",
      "    server unix:/tmp/gunicorn.sock fail_timeout=1;\n",
      "  }\n",
      "  server {\n",
      "    listen 8080 deferred;\n",
      "    client_max_body_size 0;\n",
      "    client_body_buffer_size 100m;\n",
      "    subrequest_output_buffer_size 100m;\n",
      "    set $tfs_version 2.13;\n",
      "    set $default_tfs_model model;\n",
      "    location /tfs {\n",
      "        rewrite ^/tfs/(.*) /$1  break;\n",
      "        proxy_redirect off;\n",
      "        proxy_pass_request_headers off;\n",
      "        proxy_set_header Content-Type 'application/json';\n",
      "        proxy_set_header Accept 'application/json';\n",
      "        proxy_pass http://tfs_upstream;\n",
      "    }\n",
      "    location /ping {\n",
      "        js_content tensorflowServing.ping;\n",
      "    }\n",
      "    location /invocations {\n",
      "        js_content tensorflowServing.invocations;\n",
      "    }\n",
      "    location /models {\n",
      "        proxy_pass http://gunicorn_upstream/models;\n",
      "    }\n",
      "    location / {\n",
      "        return 404 '{\"error\": \"Not Found\"}';\n",
      "    }\n",
      "    keepalive_timeout 3;\n",
      "  }\n",
      "}\n",
      "  \n",
      "7 2024-01-29 23:44:54,423 INFO     nginx version info:\n",
      "nginx version: nginx/1.24.0\n",
      "built by gcc 9.3.0 (Ubuntu 9.3.0-10ubuntu2) \n",
      "built with OpenSSL 1.1.1f  31 Mar 2020\n",
      "TLS SNI support enabled\n",
      "configure arguments: --prefix=/etc/nginx --sbin-path=/usr/sbin/nginx --modules-path=/usr/lib/nginx/modules --conf-path=/etc/nginx/nginx.conf --error-log-path=/var/log/nginx/error.log --http-log-path=/var/log/nginx/access.log --pid-path=/var/run/nginx.pid --lock-path=/var/run/nginx.lock --http-client-body-temp-path=/var/cache/nginx/client_temp --http-proxy-temp-path=/var/cache/nginx/proxy_temp --http-fastcgi-temp-path=/var/cache/nginx/fastcgi_temp --http-uwsgi-temp-path=/var/cache/nginx/uwsgi_temp --http-scgi-temp-path=/var/cache/nginx/scgi_temp --user=nginx --group=nginx --with-compat --with-file-aio --with-threads --with-http_addition_module --with-http_auth_request_module --with-http_dav_module --with-http_flv_module --with-http_gunzip_module --with-http_gzip_static_module --with-http_mp4_module --with-http_random_index_module --with-http_realip_module --with-http_secure_link_module --with-http_slice_module --with-http_ssl_module --with-http_stub_status_module --with-http_sub_module --with-http_v2_module --with-mail --with-mail_ssl_module --with-stream --with-stream_realip_module --with-stream_ssl_module --with-stream_ssl_preread_module --with-cc-opt='-g -O2 -fdebug-prefix-map=/data/builder/debuild/nginx-1.24.0/debian/debuild-base/nginx-1.24.0=. -fstack-protector-strong -Wformat -Werror=format-security -Wp,-D_FORTIFY_SOURCE=2 -fPIC' --with-ld-opt='-Wl,-Bsymbolic-functions -Wl,-z,relro -Wl,-z,now -Wl,--as-needed -pie'\n",
      "7 2024-01-29 23:44:54,424 INFO     started nginx (pid: 1609)\n",
      "169.254.178.2 - - [29/Jan/2024:23:44:57 +0000] \"GET /ping HTTP/1.1\" 200 0 \"-\" \"AHC/2.0\"\n",
      "169.254.178.2 - - [29/Jan/2024:23:45:02 +0000] \"GET /ping HTTP/1.1\" 200 0 \"-\" \"AHC/2.0\"\n",
      "169.254.178.2 - - [29/Jan/2024:23:45:07 +0000] \"GET /ping HTTP/1.1\" 200 0 \"-\" \"AHC/2.0\"\n",
      "169.254.178.2 - - [29/Jan/2024:23:45:12 +0000] \"GET /ping HTTP/1.1\" 200 0 \"-\" \"AHC/2.0\"\n",
      "169.254.178.2 - - [29/Jan/2024:23:45:17 +0000] \"GET /ping HTTP/1.1\" 200 0 \"-\" \"AHC/2.0\"\n",
      "169.254.178.2 - - [29/Jan/2024:23:45:22 +0000] \"GET /ping HTTP/1.1\" 200 0 \"-\" \"AHC/2.0\"\n",
      "169.254.178.2 - - [29/Jan/2024:23:45:27 +0000] \"GET /ping HTTP/1.1\" 200 0 \"-\" \"AHC/2.0\"\n",
      "169.254.178.2 - - [29/Jan/2024:23:45:32 +0000] \"GET /ping HTTP/1.1\" 200 0 \"-\" \"AHC/2.0\"\n",
      "169.254.178.2 - - [29/Jan/2024:23:45:37 +0000] \"GET /ping HTTP/1.1\" 200 0 \"-\" \"AHC/2.0\"\n",
      "169.254.178.2 - - [29/Jan/2024:23:45:42 +0000] \"GET /ping HTTP/1.1\" 200 0 \"-\" \"AHC/2.0\"\n",
      "169.254.178.2 - - [29/Jan/2024:23:45:47 +0000] \"GET /ping HTTP/1.1\" 200 0 \"-\" \"AHC/2.0\"\n",
      "169.254.178.2 - - [29/Jan/2024:23:45:52 +0000] \"GET /ping HTTP/1.1\" 200 0 \"-\" \"AHC/2.0\"\n",
      "169.254.178.2 - - [29/Jan/2024:23:45:57 +0000] \"GET /ping HTTP/1.1\" 200 0 \"-\" \"AHC/2.0\"\n",
      "169.254.178.2 - - [29/Jan/2024:23:46:02 +0000] \"GET /ping HTTP/1.1\" 200 0 \"-\" \"AHC/2.0\"\n",
      "169.254.178.2 - - [29/Jan/2024:23:46:07 +0000] \"GET /ping HTTP/1.1\" 200 0 \"-\" \"AHC/2.0\"\n",
      "169.254.178.2 - - [29/Jan/2024:23:46:12 +0000] \"GET /ping HTTP/1.1\" 200 0 \"-\" \"AHC/2.0\"\n",
      "169.254.178.2 - - [29/Jan/2024:23:46:17 +0000] \"GET /ping HTTP/1.1\" 200 0 \"-\" \"AHC/2.0\"\n",
      "169.254.178.2 - - [29/Jan/2024:23:46:22 +0000] \"GET /ping HTTP/1.1\" 200 0 \"-\" \"AHC/2.0\"\n",
      "169.254.178.2 - - [29/Jan/2024:23:46:27 +0000] \"GET /ping HTTP/1.1\" 200 0 \"-\" \"AHC/2.0\"\n",
      "169.254.178.2 - - [29/Jan/2024:23:46:32 +0000] \"GET /ping HTTP/1.1\" 200 0 \"-\" \"AHC/2.0\"\n",
      "169.254.178.2 - - [29/Jan/2024:23:46:37 +0000] \"GET /ping HTTP/1.1\" 200 0 \"-\" \"AHC/2.0\"\n",
      "169.254.178.2 - - [29/Jan/2024:23:46:42 +0000] \"POST /invocations HTTP/1.1\" 400 154 \"-\" \"AHC/2.0\"\n",
      "169.254.178.2 - - [29/Jan/2024:23:46:42 +0000] \"GET /ping HTTP/1.1\" 200 0 \"-\" \"AHC/2.0\"\n",
      "169.254.178.2 - - [29/Jan/2024:23:46:47 +0000] \"GET /ping HTTP/1.1\" 200 0 \"-\" \"AHC/2.0\"\n",
      "169.254.178.2 - - [29/Jan/2024:23:46:52 +0000] \"GET /ping HTTP/1.1\" 200 0 \"-\" \"AHC/2.0\"\n",
      "169.254.178.2 - - [29/Jan/2024:23:46:57 +0000] \"GET /ping HTTP/1.1\" 200 0 \"-\" \"AHC/2.0\"\n",
      "169.254.178.2 - - [29/Jan/2024:23:47:02 +0000] \"POST /invocations HTTP/1.1\" 200 1332 \"-\" \"AHC/2.0\"\n",
      "169.254.178.2 - - [29/Jan/2024:23:47:02 +0000] \"GET /ping HTTP/1.1\" 200 0 \"-\" \"AHC/2.0\"\n",
      "169.254.178.2 - - [29/Jan/2024:23:47:06 +0000] \"POST /invocations HTTP/1.1\" 200 66 \"-\" \"AHC/2.0\"\n",
      "169.254.178.2 - - [29/Jan/2024:23:47:07 +0000] \"GET /ping HTTP/1.1\" 200 0 \"-\" \"AHC/2.0\"\n"
     ]
    }
   ],
   "source": [
    "# Get log events from a specific log stream\n",
    "log_stream_name = 'AllTraffic/i-0b6f80222fed6de8d'  # Replace with your log stream name\n",
    "events = log_client.get_log_events(logGroupName=log_group_name, logStreamName=log_stream_name)\n",
    "\n",
    "# Print log events\n",
    "for event in events['events']:\n",
    "    print(event['message'])\n"
   ]
  },
  {
   "cell_type": "code",
   "execution_count": 187,
   "id": "942d9ab6-310e-4319-8ce2-e21c53c700cc",
   "metadata": {
    "tags": []
   },
   "outputs": [
    {
     "ename": "ModelError",
     "evalue": "An error occurred (ModelError) when calling the InvokeEndpoint operation: Received client error (400) from primary with message \"{    \"error\": \"Failed to process element: 0 of 'instances' list. Error: INVALID_ARGUMENT: JSON Value: \\\"xd\\\" Type: String is not of expected type: float\"}\". See https://eu-north-1.console.aws.amazon.com/cloudwatch/home?region=eu-north-1#logEventViewer:group=/aws/sagemaker/Endpoints/tensorflow-inference-2024-01-29-23-41-50-377 in account 700383664770 for more information.",
     "output_type": "error",
     "traceback": [
      "\u001b[0;31m---------------------------------------------------------------------------\u001b[0m",
      "\u001b[0;31mModelError\u001b[0m                                Traceback (most recent call last)",
      "Cell \u001b[0;32mIn[187], line 1\u001b[0m\n\u001b[0;32m----> 1\u001b[0m \u001b[43mpredictor\u001b[49m\u001b[38;5;241;43m.\u001b[39;49m\u001b[43mpredict\u001b[49m\u001b[43m(\u001b[49m\u001b[38;5;124;43m'\u001b[39;49m\u001b[38;5;124;43mxd\u001b[39;49m\u001b[38;5;124;43m'\u001b[39;49m\u001b[43m)\u001b[49m\n",
      "File \u001b[0;32m~/anaconda3/envs/tensorflow2_p310/lib/python3.10/site-packages/sagemaker/tensorflow/model.py:119\u001b[0m, in \u001b[0;36mTensorFlowPredictor.predict\u001b[0;34m(self, data, initial_args)\u001b[0m\n\u001b[1;32m    116\u001b[0m     \u001b[38;5;28;01melse\u001b[39;00m:\n\u001b[1;32m    117\u001b[0m         args[\u001b[38;5;124m\"\u001b[39m\u001b[38;5;124mCustomAttributes\u001b[39m\u001b[38;5;124m\"\u001b[39m] \u001b[38;5;241m=\u001b[39m \u001b[38;5;28mself\u001b[39m\u001b[38;5;241m.\u001b[39m_model_attributes\n\u001b[0;32m--> 119\u001b[0m \u001b[38;5;28;01mreturn\u001b[39;00m \u001b[38;5;28;43msuper\u001b[39;49m\u001b[43m(\u001b[49m\u001b[43mTensorFlowPredictor\u001b[49m\u001b[43m,\u001b[49m\u001b[43m \u001b[49m\u001b[38;5;28;43mself\u001b[39;49m\u001b[43m)\u001b[49m\u001b[38;5;241;43m.\u001b[39;49m\u001b[43mpredict\u001b[49m\u001b[43m(\u001b[49m\u001b[43mdata\u001b[49m\u001b[43m,\u001b[49m\u001b[43m \u001b[49m\u001b[43margs\u001b[49m\u001b[43m)\u001b[49m\n",
      "File \u001b[0;32m~/anaconda3/envs/tensorflow2_p310/lib/python3.10/site-packages/sagemaker/base_predictor.py:209\u001b[0m, in \u001b[0;36mPredictor.predict\u001b[0;34m(self, data, initial_args, target_model, target_variant, inference_id, custom_attributes, component_name)\u001b[0m\n\u001b[1;32m    206\u001b[0m \u001b[38;5;28;01mif\u001b[39;00m inference_component_name:\n\u001b[1;32m    207\u001b[0m     request_args[\u001b[38;5;124m\"\u001b[39m\u001b[38;5;124mInferenceComponentName\u001b[39m\u001b[38;5;124m\"\u001b[39m] \u001b[38;5;241m=\u001b[39m inference_component_name\n\u001b[0;32m--> 209\u001b[0m response \u001b[38;5;241m=\u001b[39m \u001b[38;5;28;43mself\u001b[39;49m\u001b[38;5;241;43m.\u001b[39;49m\u001b[43msagemaker_session\u001b[49m\u001b[38;5;241;43m.\u001b[39;49m\u001b[43msagemaker_runtime_client\u001b[49m\u001b[38;5;241;43m.\u001b[39;49m\u001b[43minvoke_endpoint\u001b[49m\u001b[43m(\u001b[49m\u001b[38;5;241;43m*\u001b[39;49m\u001b[38;5;241;43m*\u001b[39;49m\u001b[43mrequest_args\u001b[49m\u001b[43m)\u001b[49m\n\u001b[1;32m    210\u001b[0m \u001b[38;5;28;01mreturn\u001b[39;00m \u001b[38;5;28mself\u001b[39m\u001b[38;5;241m.\u001b[39m_handle_response(response)\n",
      "File \u001b[0;32m~/anaconda3/envs/tensorflow2_p310/lib/python3.10/site-packages/botocore/client.py:553\u001b[0m, in \u001b[0;36mClientCreator._create_api_method.<locals>._api_call\u001b[0;34m(self, *args, **kwargs)\u001b[0m\n\u001b[1;32m    549\u001b[0m     \u001b[38;5;28;01mraise\u001b[39;00m \u001b[38;5;167;01mTypeError\u001b[39;00m(\n\u001b[1;32m    550\u001b[0m         \u001b[38;5;124mf\u001b[39m\u001b[38;5;124m\"\u001b[39m\u001b[38;5;132;01m{\u001b[39;00mpy_operation_name\u001b[38;5;132;01m}\u001b[39;00m\u001b[38;5;124m() only accepts keyword arguments.\u001b[39m\u001b[38;5;124m\"\u001b[39m\n\u001b[1;32m    551\u001b[0m     )\n\u001b[1;32m    552\u001b[0m \u001b[38;5;66;03m# The \"self\" in this scope is referring to the BaseClient.\u001b[39;00m\n\u001b[0;32m--> 553\u001b[0m \u001b[38;5;28;01mreturn\u001b[39;00m \u001b[38;5;28;43mself\u001b[39;49m\u001b[38;5;241;43m.\u001b[39;49m\u001b[43m_make_api_call\u001b[49m\u001b[43m(\u001b[49m\u001b[43moperation_name\u001b[49m\u001b[43m,\u001b[49m\u001b[43m \u001b[49m\u001b[43mkwargs\u001b[49m\u001b[43m)\u001b[49m\n",
      "File \u001b[0;32m~/anaconda3/envs/tensorflow2_p310/lib/python3.10/site-packages/botocore/client.py:1009\u001b[0m, in \u001b[0;36mBaseClient._make_api_call\u001b[0;34m(self, operation_name, api_params)\u001b[0m\n\u001b[1;32m   1005\u001b[0m     error_code \u001b[38;5;241m=\u001b[39m error_info\u001b[38;5;241m.\u001b[39mget(\u001b[38;5;124m\"\u001b[39m\u001b[38;5;124mQueryErrorCode\u001b[39m\u001b[38;5;124m\"\u001b[39m) \u001b[38;5;129;01mor\u001b[39;00m error_info\u001b[38;5;241m.\u001b[39mget(\n\u001b[1;32m   1006\u001b[0m         \u001b[38;5;124m\"\u001b[39m\u001b[38;5;124mCode\u001b[39m\u001b[38;5;124m\"\u001b[39m\n\u001b[1;32m   1007\u001b[0m     )\n\u001b[1;32m   1008\u001b[0m     error_class \u001b[38;5;241m=\u001b[39m \u001b[38;5;28mself\u001b[39m\u001b[38;5;241m.\u001b[39mexceptions\u001b[38;5;241m.\u001b[39mfrom_code(error_code)\n\u001b[0;32m-> 1009\u001b[0m     \u001b[38;5;28;01mraise\u001b[39;00m error_class(parsed_response, operation_name)\n\u001b[1;32m   1010\u001b[0m \u001b[38;5;28;01melse\u001b[39;00m:\n\u001b[1;32m   1011\u001b[0m     \u001b[38;5;28;01mreturn\u001b[39;00m parsed_response\n",
      "\u001b[0;31mModelError\u001b[0m: An error occurred (ModelError) when calling the InvokeEndpoint operation: Received client error (400) from primary with message \"{    \"error\": \"Failed to process element: 0 of 'instances' list. Error: INVALID_ARGUMENT: JSON Value: \\\"xd\\\" Type: String is not of expected type: float\"}\". See https://eu-north-1.console.aws.amazon.com/cloudwatch/home?region=eu-north-1#logEventViewer:group=/aws/sagemaker/Endpoints/tensorflow-inference-2024-01-29-23-41-50-377 in account 700383664770 for more information."
     ]
    }
   ],
   "source": [
    "predictor.predict('xd')"
   ]
  },
  {
   "cell_type": "code",
   "execution_count": null,
   "id": "de4522e7-bc84-4143-a286-7054cec107ae",
   "metadata": {},
   "outputs": [],
   "source": []
  },
  {
   "cell_type": "code",
   "execution_count": null,
   "id": "39ee2b66-39d6-485e-bc28-e183b2199c71",
   "metadata": {},
   "outputs": [],
   "source": []
  },
  {
   "cell_type": "code",
   "execution_count": null,
   "id": "e6deba55-7100-473e-a938-376376e33afd",
   "metadata": {},
   "outputs": [],
   "source": []
  },
  {
   "cell_type": "code",
   "execution_count": null,
   "id": "6530ed7b-b02a-46dc-b943-987484a0ca53",
   "metadata": {},
   "outputs": [],
   "source": []
  },
  {
   "cell_type": "code",
   "execution_count": null,
   "id": "fb8065eb-847a-402b-bc9a-4cd54f06701e",
   "metadata": {},
   "outputs": [],
   "source": []
  },
  {
   "cell_type": "code",
   "execution_count": null,
   "id": "5679a2e4-4023-4a60-8e4e-e9850ddc83c0",
   "metadata": {},
   "outputs": [],
   "source": []
  },
  {
   "cell_type": "code",
   "execution_count": null,
   "id": "12da3cfd-cd2f-46f9-80a7-f8d40214ecfe",
   "metadata": {},
   "outputs": [],
   "source": []
  },
  {
   "cell_type": "code",
   "execution_count": null,
   "id": "69f31789-e773-49ed-84f2-ba5992a68db7",
   "metadata": {},
   "outputs": [],
   "source": []
  },
  {
   "cell_type": "code",
   "execution_count": null,
   "id": "aa953a9a-f460-455a-8cab-65bd1c584fd0",
   "metadata": {},
   "outputs": [],
   "source": []
  },
  {
   "cell_type": "code",
   "execution_count": null,
   "id": "49b6411d-cd7a-4647-91f0-c12a6adc2a7d",
   "metadata": {},
   "outputs": [],
   "source": []
  },
  {
   "cell_type": "code",
   "execution_count": null,
   "id": "9d5b22ac-e22b-4aac-8f6e-a5c3398f4b37",
   "metadata": {},
   "outputs": [],
   "source": []
  },
  {
   "cell_type": "code",
   "execution_count": null,
   "id": "d71590e6-89d9-41df-9539-0ad5b116a2b5",
   "metadata": {},
   "outputs": [],
   "source": []
  },
  {
   "cell_type": "code",
   "execution_count": null,
   "id": "ac8ac57e-d923-4934-97ea-7e27ffade0ce",
   "metadata": {},
   "outputs": [],
   "source": []
  },
  {
   "cell_type": "code",
   "execution_count": null,
   "id": "fc2dc975-f3a4-4076-92d4-c596222c1e4d",
   "metadata": {},
   "outputs": [],
   "source": []
  },
  {
   "cell_type": "code",
   "execution_count": null,
   "id": "5d6c01df-0eca-4417-856f-3e31e50f5e75",
   "metadata": {},
   "outputs": [],
   "source": []
  },
  {
   "cell_type": "code",
   "execution_count": null,
   "id": "e14c07d1-ef47-43fd-b382-de91219ee7a0",
   "metadata": {},
   "outputs": [],
   "source": []
  },
  {
   "cell_type": "code",
   "execution_count": null,
   "id": "6767924d-1d3c-4529-986d-c59c11c56180",
   "metadata": {},
   "outputs": [],
   "source": []
  },
  {
   "cell_type": "code",
   "execution_count": 79,
   "id": "c9823b89-3991-41cf-9ecb-7a2f77e335f3",
   "metadata": {
    "tags": []
   },
   "outputs": [],
   "source": [
    "import numpy as np\n",
    "test = np.load('input_notsequenced.npy')\n",
    "sz = test.shape[0] - 10 + 1\n",
    "sequences = np.zeros((sz, 10, 256, 256, 1))\n",
    "# apply the sliding window technique to get the sequences\n",
    "for i in range(0, sz):\n",
    "    clip = np.zeros((10, 256, 256, 1))\n",
    "    for j in range(0, 10):\n",
    "        clip[j] = test[i + j, :, :, :]\n",
    "    sequences[i] = clip\n",
    "np.save('sequences.npy', sequences)"
   ]
  },
  {
   "cell_type": "code",
   "execution_count": 81,
   "id": "c571abf7-f835-40e0-a8ef-c446a691fde8",
   "metadata": {
    "tags": []
   },
   "outputs": [
    {
     "data": {
      "text/plain": [
       "'s3://anomaly-model5/iris2/data/sequences.npy'"
      ]
     },
     "execution_count": 81,
     "metadata": {},
     "output_type": "execute_result"
    }
   ],
   "source": [
    "train_IO = sagemaker_session.upload_data('./sequences.npy', bucket=bucket, key_prefix='iris2/data')\n",
    "train_IO"
   ]
  },
  {
   "cell_type": "code",
   "execution_count": 90,
   "id": "a3bbb747-aaa3-41dc-b8e2-4817aed1aaeb",
   "metadata": {
    "tags": []
   },
   "outputs": [],
   "source": []
  },
  {
   "cell_type": "code",
   "execution_count": 91,
   "id": "98e32961-5613-48dd-81ed-d27b19bcbbc2",
   "metadata": {
    "tags": []
   },
   "outputs": [
    {
     "name": "stderr",
     "output_type": "stream",
     "text": [
      "WARNING:sagemaker.deprecations:train_instance_type has been renamed in sagemaker>=2.\n",
      "See: https://sagemaker.readthedocs.io/en/stable/v2.html for details.\n",
      "WARNING:sagemaker.deprecations:train_instance_count has been renamed in sagemaker>=2.\n",
      "See: https://sagemaker.readthedocs.io/en/stable/v2.html for details.\n",
      "WARNING:sagemaker.deprecations:train_instance_type has been renamed in sagemaker>=2.\n",
      "See: https://sagemaker.readthedocs.io/en/stable/v2.html for details.\n",
      "INFO:sagemaker.image_uris:image_uri is not presented, retrieving image_uri based on instance_type, framework etc.\n",
      "INFO:sagemaker.image_uris:image_uri is not presented, retrieving image_uri based on instance_type, framework etc.\n",
      "INFO:sagemaker:Creating training-job with name: tensorflow-training-2024-01-29-21-07-41-619\n"
     ]
    },
    {
     "name": "stdout",
     "output_type": "stream",
     "text": [
      "2024-01-29 21:07:41 Starting - Starting the training job.........\n",
      "2024-01-29 21:08:57 Starting - Preparing the instances for training......\n",
      "2024-01-29 21:10:04 Downloading - Downloading input data.....................\n",
      "2024-01-29 21:13:35 Training - Training image download completed. Training in progress..\u001b[34m2024-01-29 21:13:38.405319: I tensorflow/core/util/port.cc:110] oneDNN custom operations are on. You may see slightly different numerical results due to floating-point round-off errors from different computation orders. To turn them off, set the environment variable `TF_ENABLE_ONEDNN_OPTS=0`.\u001b[0m\n",
      "\u001b[34m2024-01-29 21:13:38.456405: I tensorflow/core/platform/cpu_feature_guard.cc:182] This TensorFlow binary is optimized to use available CPU instructions in performance-critical operations.\u001b[0m\n",
      "\u001b[34mTo enable the following instructions: AVX512F AVX512_VNNI, in other operations, rebuild TensorFlow with the appropriate compiler flags.\u001b[0m\n",
      "\u001b[34m2024-01-29 21:13:40,770 sagemaker-training-toolkit INFO     Imported framework sagemaker_tensorflow_container.training\u001b[0m\n",
      "\u001b[34m2024-01-29 21:13:40,793 sagemaker-training-toolkit INFO     No Neurons detected (normal if no neurons installed)\u001b[0m\n",
      "\u001b[34m2024-01-29 21:13:41,198 sagemaker-training-toolkit INFO     No Neurons detected (normal if no neurons installed)\u001b[0m\n",
      "\u001b[34m2024-01-29 21:13:41,250 sagemaker-training-toolkit INFO     No Neurons detected (normal if no neurons installed)\u001b[0m\n",
      "\u001b[34m2024-01-29 21:13:41,286 sagemaker-training-toolkit INFO     No Neurons detected (normal if no neurons installed)\u001b[0m\n",
      "\u001b[34m2024-01-29 21:13:41,308 sagemaker-training-toolkit INFO     Invoking user script\u001b[0m\n",
      "\u001b[34mTraining Env:\u001b[0m\n",
      "\u001b[34m{\n",
      "    \"additional_framework_parameters\": {},\n",
      "    \"channel_input_dirs\": {\n",
      "        \"train\": \"/opt/ml/input/data/train\"\n",
      "    },\n",
      "    \"current_host\": \"algo-1\",\n",
      "    \"current_instance_group\": \"homogeneousCluster\",\n",
      "    \"current_instance_group_hosts\": [\n",
      "        \"algo-1\"\n",
      "    ],\n",
      "    \"current_instance_type\": \"ml.g4dn.2xlarge\",\n",
      "    \"distribution_hosts\": [],\n",
      "    \"distribution_instance_groups\": [],\n",
      "    \"framework_module\": \"sagemaker_tensorflow_container.training:main\",\n",
      "    \"hosts\": [\n",
      "        \"algo-1\"\n",
      "    ],\n",
      "    \"hyperparameters\": {\n",
      "        \"epochs\": 1,\n",
      "        \"learning_rate\": 0.01,\n",
      "        \"model_dir\": \"s3://anomaly-model5/iris4/model/tensorflow-training-2024-01-29-21-07-41-619/model\"\n",
      "    },\n",
      "    \"input_config_dir\": \"/opt/ml/input/config\",\n",
      "    \"input_data_config\": {\n",
      "        \"train\": {\n",
      "            \"TrainingInputMode\": \"File\",\n",
      "            \"S3DistributionType\": \"FullyReplicated\",\n",
      "            \"RecordWrapperType\": \"None\"\n",
      "        }\n",
      "    },\n",
      "    \"input_dir\": \"/opt/ml/input\",\n",
      "    \"instance_groups\": [\n",
      "        \"homogeneousCluster\"\n",
      "    ],\n",
      "    \"instance_groups_dict\": {\n",
      "        \"homogeneousCluster\": {\n",
      "            \"instance_group_name\": \"homogeneousCluster\",\n",
      "            \"instance_type\": \"ml.g4dn.2xlarge\",\n",
      "            \"hosts\": [\n",
      "                \"algo-1\"\n",
      "            ]\n",
      "        }\n",
      "    },\n",
      "    \"is_hetero\": false,\n",
      "    \"is_master\": true,\n",
      "    \"is_modelparallel_enabled\": null,\n",
      "    \"is_smddpmprun_installed\": false,\n",
      "    \"is_smddprun_installed\": false,\n",
      "    \"job_name\": \"tensorflow-training-2024-01-29-21-07-41-619\",\n",
      "    \"log_level\": 20,\n",
      "    \"master_hostname\": \"algo-1\",\n",
      "    \"model_dir\": \"/opt/ml/model\",\n",
      "    \"module_dir\": \"s3://anomaly-model5/tensorflow-training-2024-01-29-21-07-41-619/source/sourcedir.tar.gz\",\n",
      "    \"module_name\": \"train4\",\n",
      "    \"network_interface_name\": \"eth0\",\n",
      "    \"num_cpus\": 8,\n",
      "    \"num_gpus\": 1,\n",
      "    \"num_neurons\": 0,\n",
      "    \"output_data_dir\": \"/opt/ml/output/data\",\n",
      "    \"output_dir\": \"/opt/ml/output\",\n",
      "    \"output_intermediate_dir\": \"/opt/ml/output/intermediate\",\n",
      "    \"resource_config\": {\n",
      "        \"current_host\": \"algo-1\",\n",
      "        \"current_instance_type\": \"ml.g4dn.2xlarge\",\n",
      "        \"current_group_name\": \"homogeneousCluster\",\n",
      "        \"hosts\": [\n",
      "            \"algo-1\"\n",
      "        ],\n",
      "        \"instance_groups\": [\n",
      "            {\n",
      "                \"instance_group_name\": \"homogeneousCluster\",\n",
      "                \"instance_type\": \"ml.g4dn.2xlarge\",\n",
      "                \"hosts\": [\n",
      "                    \"algo-1\"\n",
      "                ]\n",
      "            }\n",
      "        ],\n",
      "        \"network_interface_name\": \"eth0\"\n",
      "    },\n",
      "    \"user_entry_point\": \"train4.py\"\u001b[0m\n",
      "\u001b[34m}\u001b[0m\n",
      "\u001b[34mEnvironment variables:\u001b[0m\n",
      "\u001b[34mSM_HOSTS=[\"algo-1\"]\u001b[0m\n",
      "\u001b[34mSM_NETWORK_INTERFACE_NAME=eth0\u001b[0m\n",
      "\u001b[34mSM_HPS={\"epochs\":1,\"learning_rate\":0.01,\"model_dir\":\"s3://anomaly-model5/iris4/model/tensorflow-training-2024-01-29-21-07-41-619/model\"}\u001b[0m\n",
      "\u001b[34mSM_USER_ENTRY_POINT=train4.py\u001b[0m\n",
      "\u001b[34mSM_FRAMEWORK_PARAMS={}\u001b[0m\n",
      "\u001b[34mSM_RESOURCE_CONFIG={\"current_group_name\":\"homogeneousCluster\",\"current_host\":\"algo-1\",\"current_instance_type\":\"ml.g4dn.2xlarge\",\"hosts\":[\"algo-1\"],\"instance_groups\":[{\"hosts\":[\"algo-1\"],\"instance_group_name\":\"homogeneousCluster\",\"instance_type\":\"ml.g4dn.2xlarge\"}],\"network_interface_name\":\"eth0\"}\u001b[0m\n",
      "\u001b[34mSM_INPUT_DATA_CONFIG={\"train\":{\"RecordWrapperType\":\"None\",\"S3DistributionType\":\"FullyReplicated\",\"TrainingInputMode\":\"File\"}}\u001b[0m\n",
      "\u001b[34mSM_OUTPUT_DATA_DIR=/opt/ml/output/data\u001b[0m\n",
      "\u001b[34mSM_CHANNELS=[\"train\"]\u001b[0m\n",
      "\u001b[34mSM_CURRENT_HOST=algo-1\u001b[0m\n",
      "\u001b[34mSM_CURRENT_INSTANCE_TYPE=ml.g4dn.2xlarge\u001b[0m\n",
      "\u001b[34mSM_CURRENT_INSTANCE_GROUP=homogeneousCluster\u001b[0m\n",
      "\u001b[34mSM_CURRENT_INSTANCE_GROUP_HOSTS=[\"algo-1\"]\u001b[0m\n",
      "\u001b[34mSM_INSTANCE_GROUPS=[\"homogeneousCluster\"]\u001b[0m\n",
      "\u001b[34mSM_INSTANCE_GROUPS_DICT={\"homogeneousCluster\":{\"hosts\":[\"algo-1\"],\"instance_group_name\":\"homogeneousCluster\",\"instance_type\":\"ml.g4dn.2xlarge\"}}\u001b[0m\n",
      "\u001b[34mSM_DISTRIBUTION_INSTANCE_GROUPS=[]\u001b[0m\n",
      "\u001b[34mSM_IS_HETERO=false\u001b[0m\n",
      "\u001b[34mSM_MODULE_NAME=train4\u001b[0m\n",
      "\u001b[34mSM_LOG_LEVEL=20\u001b[0m\n",
      "\u001b[34mSM_FRAMEWORK_MODULE=sagemaker_tensorflow_container.training:main\u001b[0m\n",
      "\u001b[34mSM_INPUT_DIR=/opt/ml/input\u001b[0m\n",
      "\u001b[34mSM_INPUT_CONFIG_DIR=/opt/ml/input/config\u001b[0m\n",
      "\u001b[34mSM_OUTPUT_DIR=/opt/ml/output\u001b[0m\n",
      "\u001b[34mSM_NUM_CPUS=8\u001b[0m\n",
      "\u001b[34mSM_NUM_GPUS=1\u001b[0m\n",
      "\u001b[34mSM_NUM_NEURONS=0\u001b[0m\n",
      "\u001b[34mSM_MODEL_DIR=/opt/ml/model\u001b[0m\n",
      "\u001b[34mSM_MODULE_DIR=s3://anomaly-model5/tensorflow-training-2024-01-29-21-07-41-619/source/sourcedir.tar.gz\u001b[0m\n",
      "\u001b[34mSM_TRAINING_ENV={\"additional_framework_parameters\":{},\"channel_input_dirs\":{\"train\":\"/opt/ml/input/data/train\"},\"current_host\":\"algo-1\",\"current_instance_group\":\"homogeneousCluster\",\"current_instance_group_hosts\":[\"algo-1\"],\"current_instance_type\":\"ml.g4dn.2xlarge\",\"distribution_hosts\":[],\"distribution_instance_groups\":[],\"framework_module\":\"sagemaker_tensorflow_container.training:main\",\"hosts\":[\"algo-1\"],\"hyperparameters\":{\"epochs\":1,\"learning_rate\":0.01,\"model_dir\":\"s3://anomaly-model5/iris4/model/tensorflow-training-2024-01-29-21-07-41-619/model\"},\"input_config_dir\":\"/opt/ml/input/config\",\"input_data_config\":{\"train\":{\"RecordWrapperType\":\"None\",\"S3DistributionType\":\"FullyReplicated\",\"TrainingInputMode\":\"File\"}},\"input_dir\":\"/opt/ml/input\",\"instance_groups\":[\"homogeneousCluster\"],\"instance_groups_dict\":{\"homogeneousCluster\":{\"hosts\":[\"algo-1\"],\"instance_group_name\":\"homogeneousCluster\",\"instance_type\":\"ml.g4dn.2xlarge\"}},\"is_hetero\":false,\"is_master\":true,\"is_modelparallel_enabled\":null,\"is_smddpmprun_installed\":false,\"is_smddprun_installed\":false,\"job_name\":\"tensorflow-training-2024-01-29-21-07-41-619\",\"log_level\":20,\"master_hostname\":\"algo-1\",\"model_dir\":\"/opt/ml/model\",\"module_dir\":\"s3://anomaly-model5/tensorflow-training-2024-01-29-21-07-41-619/source/sourcedir.tar.gz\",\"module_name\":\"train4\",\"network_interface_name\":\"eth0\",\"num_cpus\":8,\"num_gpus\":1,\"num_neurons\":0,\"output_data_dir\":\"/opt/ml/output/data\",\"output_dir\":\"/opt/ml/output\",\"output_intermediate_dir\":\"/opt/ml/output/intermediate\",\"resource_config\":{\"current_group_name\":\"homogeneousCluster\",\"current_host\":\"algo-1\",\"current_instance_type\":\"ml.g4dn.2xlarge\",\"hosts\":[\"algo-1\"],\"instance_groups\":[{\"hosts\":[\"algo-1\"],\"instance_group_name\":\"homogeneousCluster\",\"instance_type\":\"ml.g4dn.2xlarge\"}],\"network_interface_name\":\"eth0\"},\"user_entry_point\":\"train4.py\"}\u001b[0m\n",
      "\u001b[34mSM_USER_ARGS=[\"--epochs\",\"1\",\"--learning_rate\",\"0.01\",\"--model_dir\",\"s3://anomaly-model5/iris4/model/tensorflow-training-2024-01-29-21-07-41-619/model\"]\u001b[0m\n",
      "\u001b[34mSM_OUTPUT_INTERMEDIATE_DIR=/opt/ml/output/intermediate\u001b[0m\n",
      "\u001b[34mSM_CHANNEL_TRAIN=/opt/ml/input/data/train\u001b[0m\n",
      "\u001b[34mSM_HP_EPOCHS=1\u001b[0m\n",
      "\u001b[34mSM_HP_LEARNING_RATE=0.01\u001b[0m\n",
      "\u001b[34mSM_HP_MODEL_DIR=s3://anomaly-model5/iris4/model/tensorflow-training-2024-01-29-21-07-41-619/model\u001b[0m\n",
      "\u001b[34mPYTHONPATH=/opt/ml/code:/usr/local/bin:/usr/local/lib/python310.zip:/usr/local/lib/python3.10:/usr/local/lib/python3.10/lib-dynload:/usr/local/lib/python3.10/site-packages\u001b[0m\n",
      "\u001b[34mInvoking script with the following command:\u001b[0m\n",
      "\u001b[34m/usr/local/bin/python3.10 train4.py --epochs 1 --learning_rate 0.01 --model_dir s3://anomaly-model5/iris4/model/tensorflow-training-2024-01-29-21-07-41-619/model\u001b[0m\n",
      "\u001b[34m2024-01-29 21:13:41,308 sagemaker-training-toolkit INFO     Exceptions not imported for SageMaker Debugger as it is not installed.\u001b[0m\n",
      "\u001b[34m['ml', 'aws', 'amazon']\u001b[0m\n",
      "\u001b[34m['errors', 'input', 'model', 'output', 'sagemaker', 'code']\u001b[0m\n",
      "\u001b[34m['data', 'config']\u001b[0m\n",
      "\u001b[34m['train', 'train-manifest']\u001b[0m\n",
      "\u001b[34m['22.npy', '21.npy', '0.npy', '20.npy', '33.npy', '5.npy', '32.npy', '7.npy', '14.npy', '2.npy', '9.npy', '4.npy', '26.npy', '31.npy', '10.npy', '11.npy', '12.npy', '16.npy', '17.npy', '13.npy', '27.npy', '23.npy', '28.npy', '25.npy', '6.npy', '15.npy', '19.npy', '3.npy', '1.npy', '30.npy', '24.npy', '8.npy', '29.npy', '18.npy']\u001b[0m\n",
      "\u001b[34m(191, 10, 256, 256, 1)\u001b[0m\n",
      "\u001b[34mModel: \"sequential\"\u001b[0m\n",
      "\u001b[34m_________________________________________________________________\n",
      " Layer (type)                Output Shape              Param #   \u001b[0m\n",
      "\u001b[34m=================================================================\u001b[0m\n",
      "\u001b[34mtime_distributed (TimeDist  (None, 10, 64, 64, 128)   15616     \n",
      " ributed)\u001b[0m\n",
      "\u001b[34mlayer_normalization (Layer  (None, 10, 64, 64, 128)   256       \n",
      " Normalization)\u001b[0m\n",
      "\u001b[34mtime_distributed_1 (TimeDi  (None, 10, 32, 32, 64)    204864    \n",
      " stributed)\u001b[0m\n",
      "\u001b[34mlayer_normalization_1 (Lay  (None, 10, 32, 32, 64)    128       \n",
      " erNormalization)\u001b[0m\n",
      "\u001b[34mconv_lstm2d (ConvLSTM2D)    (None, 10, 32, 32, 64)    295168\u001b[0m\n",
      "\u001b[34mlayer_normalization_2 (Lay  (None, 10, 32, 32, 64)    128       \n",
      " erNormalization)\u001b[0m\n",
      "\u001b[34mconv_lstm2d_1 (ConvLSTM2D)  (None, 10, 32, 32, 32)    110720\u001b[0m\n",
      "\u001b[34mlayer_normalization_3 (Lay  (None, 10, 32, 32, 32)    64\u001b[0m\n",
      "\u001b[34merNormalization)\u001b[0m\n",
      "\u001b[34mconv_lstm2d_2 (ConvLSTM2D)  (None, 10, 32, 32, 64)    221440\u001b[0m\n",
      "\u001b[34mlayer_normalization_4 (Lay  (None, 10, 32, 32, 64)    128\u001b[0m\n",
      "\u001b[34merNormalization)\u001b[0m\n",
      "\u001b[34mtime_distributed_2 (TimeDi  (None, 10, 64, 64, 64)    102464\u001b[0m\n",
      "\u001b[34mstributed)\u001b[0m\n",
      "\u001b[34mlayer_normalization_5 (Lay  (None, 10, 64, 64, 64)    128       \n",
      " erNormalization)\u001b[0m\n",
      "\u001b[34mtime_distributed_3 (TimeDi  (None, 10, 256, 256, 12   991360\u001b[0m\n",
      "\u001b[34mstributed)                  8)\u001b[0m\n",
      "\u001b[34mlayer_normalization_6 (Lay  (None, 10, 256, 256, 12   256       \n",
      " erNormalization)            8)\u001b[0m\n",
      "\u001b[34mtime_distributed_4 (TimeDi  (None, 10, 256, 256, 1)   15489     \n",
      " stributed)                                                      \n",
      "                                                                 \u001b[0m\n",
      "\u001b[34m=================================================================\u001b[0m\n",
      "\u001b[34mTotal params: 1958209 (7.47 MB)\u001b[0m\n",
      "\u001b[34mTrainable params: 1958209 (7.47 MB)\u001b[0m\n",
      "\u001b[34mNon-trainable params: 0 (0.00 Byte)\u001b[0m\n",
      "\u001b[34m_________________________________________________________________\u001b[0m\n",
      "\u001b[34mNone\u001b[0m\n",
      "\u001b[34m1/48 [..............................] - ETA: 36:32 - loss: 0.1269\u001b[0m\n",
      "\u001b[34m#010#010#010#010#010#010#010#010#010#010#010#010#010#010#010#010#010#010#010#010#010#010#010#010#010#010#010#010#010#010#010#010#010#010#010#010#010#010#010#010#010#010#010#010#010#010#010#010#010#010#010#010#010#010#010#010#010#010#010#010#010#010#010#010#010#010#015 2/48 [>.............................] - ETA: 26:01 - loss: 0.1121\u001b[0m\n",
      "\u001b[34m#010#010#010#010#010#010#010#010#010#010#010#010#010#010#010#010#010#010#010#010#010#010#010#010#010#010#010#010#010#010#010#010#010#010#010#010#010#010#010#010#010#010#010#010#010#010#010#010#010#010#010#010#010#010#010#010#010#010#010#010#010#010#010#010#010#010#015 3/48 [>.............................] - ETA: 13:24 - loss: 0.1018\u001b[0m\n",
      "\u001b[34m#010#010#010#010#010#010#010#010#010#010#010#010#010#010#010#010#010#010#010#010#010#010#010#010#010#010#010#010#010#010#010#010#010#010#010#010#010#010#010#010#010#010#010#010#010#010#010#010#010#010#010#010#010#010#010#010#010#010#010#010#010#010#010#010#010#010#015 4/48 [=>............................] - ETA: 9:09 - loss: 0.0952\u001b[0m\n",
      "\u001b[34m#010#010#010#010#010#010#010#010#010#010#010#010#010#010#010#010#010#010#010#010#010#010#010#010#010#010#010#010#010#010#010#010#010#010#010#010#010#010#010#010#010#010#010#010#010#010#010#010#010#010#010#010#010#010#010#010#010#010#010#010#010#010#010#010#010#015 5/48 [==>...........................] - ETA: 6:59 - loss: 0.0903\u001b[0m\n",
      "\u001b[34m#010#010#010#010#010#010#010#010#010#010#010#010#010#010#010#010#010#010#010#010#010#010#010#010#010#010#010#010#010#010#010#010#010#010#010#010#010#010#010#010#010#010#010#010#010#010#010#010#010#010#010#010#010#010#010#010#010#010#010#010#010#010#010#010#010#015 6/48 [==>...........................] - ETA: 5:41 - loss: 0.0856\u001b[0m\n",
      "\u001b[34m#010#010#010#010#010#010#010#010#010#010#010#010#010#010#010#010#010#010#010#010#010#010#010#010#010#010#010#010#010#010#010#010#010#010#010#010#010#010#010#010#010#010#010#010#010#010#010#010#010#010#010#010#010#010#010#010#010#010#010#010#010#010#010#010#010#015 7/48 [===>..........................] - ETA: 4:48 - loss: 0.0812\u001b[0m\n",
      "\u001b[34m#010#010#010#010#010#010#010#010#010#010#010#010#010#010#010#010#010#010#010#010#010#010#010#010#010#010#010#010#010#010#010#010#010#010#010#010#010#010#010#010#010#010#010#010#010#010#010#010#010#010#010#010#010#010#010#010#010#010#010#010#010#010#010#010#010#015 8/48 [====>.........................] - ETA: 4:10 - loss: 0.0775\u001b[0m\n",
      "\u001b[34m#010#010#010#010#010#010#010#010#010#010#010#010#010#010#010#010#010#010#010#010#010#010#010#010#010#010#010#010#010#010#010#010#010#010#010#010#010#010#010#010#010#010#010#010#010#010#010#010#010#010#010#010#010#010#010#010#010#010#010#010#010#010#010#010#010#015 9/48 [====>.........................] - ETA: 3:40 - loss: 0.0744\u001b[0m\n",
      "\u001b[34m#010#010#010#010#010#010#010#010#010#010#010#010#010#010#010#010#010#010#010#010#010#010#010#010#010#010#010#010#010#010#010#010#010#010#010#010#010#010#010#010#010#010#010#010#010#010#010#010#010#010#010#010#010#010#010#010#010#010#010#010#010#010#010#010#010#01510/48 [=====>........................] - ETA: 3:18 - loss: 0.0712\u001b[0m\n",
      "\u001b[34m#010#010#010#010#010#010#010#010#010#010#010#010#010#010#010#010#010#010#010#010#010#010#010#010#010#010#010#010#010#010#010#010#010#010#010#010#010#010#010#010#010#010#010#010#010#010#010#010#010#010#010#010#010#010#010#010#010#010#010#010#010#010#010#010#010#01511/48 [=====>........................] - ETA: 2:59 - loss: 0.0683\u001b[0m\n",
      "\u001b[34m#010#010#010#010#010#010#010#010#010#010#010#010#010#010#010#010#010#010#010#010#010#010#010#010#010#010#010#010#010#010#010#010#010#010#010#010#010#010#010#010#010#010#010#010#010#010#010#010#010#010#010#010#010#010#010#010#010#010#010#010#010#010#010#010#010#01512/48 [======>.......................] - ETA: 2:43 - loss: 0.0659\u001b[0m\n",
      "\u001b[34m#010#010#010#010#010#010#010#010#010#010#010#010#010#010#010#010#010#010#010#010#010#010#010#010#010#010#010#010#010#010#010#010#010#010#010#010#010#010#010#010#010#010#010#010#010#010#010#010#010#010#010#010#010#010#010#010#010#010#010#010#010#010#010#010#010#01513/48 [=======>......................] - ETA: 2:30 - loss: 0.0639\u001b[0m\n",
      "\u001b[34m#010#010#010#010#010#010#010#010#010#010#010#010#010#010#010#010#010#010#010#010#010#010#010#010#010#010#010#010#010#010#010#010#010#010#010#010#010#010#010#010#010#010#010#010#010#010#010#010#010#010#010#010#010#010#010#010#010#010#010#010#010#010#010#010#010#01514/48 [=======>......................] - ETA: 2:19 - loss: 0.0620\u001b[0m\n",
      "\u001b[34m#010#010#010#010#010#010#010#010#010#010#010#010#010#010#010#010#010#010#010#010#010#010#010#010#010#010#010#010#010#010#010#010#010#010#010#010#010#010#010#010#010#010#010#010#010#010#010#010#010#010#010#010#010#010#010#010#010#010#010#010#010#010#010#010#010#01515/48 [========>.....................] - ETA: 2:09 - loss: 0.0602\u001b[0m\n",
      "\u001b[34m#010#010#010#010#010#010#010#010#010#010#010#010#010#010#010#010#010#010#010#010#010#010#010#010#010#010#010#010#010#010#010#010#010#010#010#010#010#010#010#010#010#010#010#010#010#010#010#010#010#010#010#010#010#010#010#010#010#010#010#010#010#010#010#010#010#01516/48 [=========>....................] - ETA: 2:00 - loss: 0.0583\u001b[0m\n",
      "\u001b[34m#010#010#010#010#010#010#010#010#010#010#010#010#010#010#010#010#010#010#010#010#010#010#010#010#010#010#010#010#010#010#010#010#010#010#010#010#010#010#010#010#010#010#010#010#010#010#010#010#010#010#010#010#010#010#010#010#010#010#010#010#010#010#010#010#010#01517/48 [=========>....................] - ETA: 1:52 - loss: 0.0566\u001b[0m\n",
      "\u001b[34m#010#010#010#010#010#010#010#010#010#010#010#010#010#010#010#010#010#010#010#010#010#010#010#010#010#010#010#010#010#010#010#010#010#010#010#010#010#010#010#010#010#010#010#010#010#010#010#010#010#010#010#010#010#010#010#010#010#010#010#010#010#010#010#010#010#01518/48 [==========>...................] - ETA: 1:44 - loss: 0.0559\u001b[0m\n",
      "\u001b[34m#010#010#010#010#010#010#010#010#010#010#010#010#010#010#010#010#010#010#010#010#010#010#010#010#010#010#010#010#010#010#010#010#010#010#010#010#010#010#010#010#010#010#010#010#010#010#010#010#010#010#010#010#010#010#010#010#010#010#010#010#010#010#010#010#010#01519/48 [==========>...................] - ETA: 1:38 - loss: 0.0555\u001b[0m\n",
      "\u001b[34m#010#010#010#010#010#010#010#010#010#010#010#010#010#010#010#010#010#010#010#010#010#010#010#010#010#010#010#010#010#010#010#010#010#010#010#010#010#010#010#010#010#010#010#010#010#010#010#010#010#010#010#010#010#010#010#010#010#010#010#010#010#010#010#010#010#01520/48 [===========>..................] - ETA: 1:32 - loss: 0.0540\u001b[0m\n",
      "\u001b[34m#010#010#010#010#010#010#010#010#010#010#010#010#010#010#010#010#010#010#010#010#010#010#010#010#010#010#010#010#010#010#010#010#010#010#010#010#010#010#010#010#010#010#010#010#010#010#010#010#010#010#010#010#010#010#010#010#010#010#010#010#010#010#010#010#010#01521/48 [============>.................] - ETA: 1:26 - loss: 0.0533\u001b[0m\n",
      "\u001b[34m#010#010#010#010#010#010#010#010#010#010#010#010#010#010#010#010#010#010#010#010#010#010#010#010#010#010#010#010#010#010#010#010#010#010#010#010#010#010#010#010#010#010#010#010#010#010#010#010#010#010#010#010#010#010#010#010#010#010#010#010#010#010#010#010#010#01522/48 [============>.................] - ETA: 1:21 - loss: 0.0522\u001b[0m\n",
      "\u001b[34m#010#010#010#010#010#010#010#010#010#010#010#010#010#010#010#010#010#010#010#010#010#010#010#010#010#010#010#010#010#010#010#010#010#010#010#010#010#010#010#010#010#010#010#010#010#010#010#010#010#010#010#010#010#010#010#010#010#010#010#010#010#010#010#010#010#01523/48 [=============>................] - ETA: 1:16 - loss: 0.0513\u001b[0m\n",
      "\u001b[34m#010#010#010#010#010#010#010#010#010#010#010#010#010#010#010#010#010#010#010#010#010#010#010#010#010#010#010#010#010#010#010#010#010#010#010#010#010#010#010#010#010#010#010#010#010#010#010#010#010#010#010#010#010#010#010#010#010#010#010#010#010#010#010#010#010#01524/48 [==============>...............] - ETA: 1:11 - loss: 0.0504\u001b[0m\n",
      "\u001b[34m#010#010#010#010#010#010#010#010#010#010#010#010#010#010#010#010#010#010#010#010#010#010#010#010#010#010#010#010#010#010#010#010#010#010#010#010#010#010#010#010#010#010#010#010#010#010#010#010#010#010#010#010#010#010#010#010#010#010#010#010#010#010#010#010#010#01525/48 [==============>...............] - ETA: 1:07 - loss: 0.0494\u001b[0m\n",
      "\u001b[34m#010#010#010#010#010#010#010#010#010#010#010#010#010#010#010#010#010#010#010#010#010#010#010#010#010#010#010#010#010#010#010#010#010#010#010#010#010#010#010#010#010#010#010#010#010#010#010#010#010#010#010#010#010#010#010#010#010#010#010#010#010#010#010#010#010#01526/48 [===============>..............] - ETA: 1:03 - loss: 0.0487\u001b[0m\n",
      "\u001b[34m#010#010#010#010#010#010#010#010#010#010#010#010#010#010#010#010#010#010#010#010#010#010#010#010#010#010#010#010#010#010#010#010#010#010#010#010#010#010#010#010#010#010#010#010#010#010#010#010#010#010#010#010#010#010#010#010#010#010#010#010#010#010#010#010#010#01527/48 [===============>..............] - ETA: 59s - loss: 0.0479\u001b[0m\n",
      "\u001b[34m#010#010#010#010#010#010#010#010#010#010#010#010#010#010#010#010#010#010#010#010#010#010#010#010#010#010#010#010#010#010#010#010#010#010#010#010#010#010#010#010#010#010#010#010#010#010#010#010#010#010#010#010#010#010#010#010#010#010#010#010#010#010#010#010#01528/48 [================>.............] - ETA: 55s - loss: 0.0471\u001b[0m\n",
      "\u001b[34m#010#010#010#010#010#010#010#010#010#010#010#010#010#010#010#010#010#010#010#010#010#010#010#010#010#010#010#010#010#010#010#010#010#010#010#010#010#010#010#010#010#010#010#010#010#010#010#010#010#010#010#010#010#010#010#010#010#010#010#010#010#010#010#010#01529/48 [=================>............] - ETA: 52s - loss: 0.0465\u001b[0m\n",
      "\u001b[34m#010#010#010#010#010#010#010#010#010#010#010#010#010#010#010#010#010#010#010#010#010#010#010#010#010#010#010#010#010#010#010#010#010#010#010#010#010#010#010#010#010#010#010#010#010#010#010#010#010#010#010#010#010#010#010#010#010#010#010#010#010#010#010#010#01530/48 [=================>............] - ETA: 48s - loss: 0.0457\u001b[0m\n",
      "\u001b[34m#010#010#010#010#010#010#010#010#010#010#010#010#010#010#010#010#010#010#010#010#010#010#010#010#010#010#010#010#010#010#010#010#010#010#010#010#010#010#010#010#010#010#010#010#010#010#010#010#010#010#010#010#010#010#010#010#010#010#010#010#010#010#010#010#01531/48 [==================>...........] - ETA: 45s - loss: 0.0450\u001b[0m\n",
      "\u001b[34m#010#010#010#010#010#010#010#010#010#010#010#010#010#010#010#010#010#010#010#010#010#010#010#010#010#010#010#010#010#010#010#010#010#010#010#010#010#010#010#010#010#010#010#010#010#010#010#010#010#010#010#010#010#010#010#010#010#010#010#010#010#010#010#010#01532/48 [===================>..........] - ETA: 42s - loss: 0.0444\u001b[0m\n",
      "\u001b[34m#010#010#010#010#010#010#010#010#010#010#010#010#010#010#010#010#010#010#010#010#010#010#010#010#010#010#010#010#010#010#010#010#010#010#010#010#010#010#010#010#010#010#010#010#010#010#010#010#010#010#010#010#010#010#010#010#010#010#010#010#010#010#010#010#01533/48 [===================>..........] - ETA: 38s - loss: 0.0438\u001b[0m\n",
      "\u001b[34m#010#010#010#010#010#010#010#010#010#010#010#010#010#010#010#010#010#010#010#010#010#010#010#010#010#010#010#010#010#010#010#010#010#010#010#010#010#010#010#010#010#010#010#010#010#010#010#010#010#010#010#010#010#010#010#010#010#010#010#010#010#010#010#010#01534/48 [====================>.........] - ETA: 35s - loss: 0.0431\u001b[0m\n",
      "\u001b[34m#010#010#010#010#010#010#010#010#010#010#010#010#010#010#010#010#010#010#010#010#010#010#010#010#010#010#010#010#010#010#010#010#010#010#010#010#010#010#010#010#010#010#010#010#010#010#010#010#010#010#010#010#010#010#010#010#010#010#010#010#010#010#010#010#01535/48 [====================>.........] - ETA: 32s - loss: 0.0425\u001b[0m\n",
      "\u001b[34m#010#010#010#010#010#010#010#010#010#010#010#010#010#010#010#010#010#010#010#010#010#010#010#010#010#010#010#010#010#010#010#010#010#010#010#010#010#010#010#010#010#010#010#010#010#010#010#010#010#010#010#010#010#010#010#010#010#010#010#010#010#010#010#010#01536/48 [=====================>........] - ETA: 30s - loss: 0.0418\u001b[0m\n",
      "\u001b[34m#010#010#010#010#010#010#010#010#010#010#010#010#010#010#010#010#010#010#010#010#010#010#010#010#010#010#010#010#010#010#010#010#010#010#010#010#010#010#010#010#010#010#010#010#010#010#010#010#010#010#010#010#010#010#010#010#010#010#010#010#010#010#010#010#01537/48 [======================>.......] - ETA: 27s - loss: 0.0412\u001b[0m\n",
      "\u001b[34m#010#010#010#010#010#010#010#010#010#010#010#010#010#010#010#010#010#010#010#010#010#010#010#010#010#010#010#010#010#010#010#010#010#010#010#010#010#010#010#010#010#010#010#010#010#010#010#010#010#010#010#010#010#010#010#010#010#010#010#010#010#010#010#010#01538/48 [======================>.......] - ETA: 24s - loss: 0.0406\u001b[0m\n",
      "\u001b[34m#010#010#010#010#010#010#010#010#010#010#010#010#010#010#010#010#010#010#010#010#010#010#010#010#010#010#010#010#010#010#010#010#010#010#010#010#010#010#010#010#010#010#010#010#010#010#010#010#010#010#010#010#010#010#010#010#010#010#010#010#010#010#010#010#01539/48 [=======================>......] - ETA: 21s - loss: 0.0400\u001b[0m\n",
      "\u001b[34m#010#010#010#010#010#010#010#010#010#010#010#010#010#010#010#010#010#010#010#010#010#010#010#010#010#010#010#010#010#010#010#010#010#010#010#010#010#010#010#010#010#010#010#010#010#010#010#010#010#010#010#010#010#010#010#010#010#010#010#010#010#010#010#010#01540/48 [========================>.....] - ETA: 19s - loss: 0.0394\u001b[0m\n",
      "\u001b[34m#010#010#010#010#010#010#010#010#010#010#010#010#010#010#010#010#010#010#010#010#010#010#010#010#010#010#010#010#010#010#010#010#010#010#010#010#010#010#010#010#010#010#010#010#010#010#010#010#010#010#010#010#010#010#010#010#010#010#010#010#010#010#010#010#01541/48 [========================>.....] - ETA: 16s - loss: 0.0388\u001b[0m\n",
      "\u001b[34m#010#010#010#010#010#010#010#010#010#010#010#010#010#010#010#010#010#010#010#010#010#010#010#010#010#010#010#010#010#010#010#010#010#010#010#010#010#010#010#010#010#010#010#010#010#010#010#010#010#010#010#010#010#010#010#010#010#010#010#010#010#010#010#010#01542/48 [=========================>....] - ETA: 14s - loss: 0.0382\u001b[0m\n",
      "\u001b[34m#010#010#010#010#010#010#010#010#010#010#010#010#010#010#010#010#010#010#010#010#010#010#010#010#010#010#010#010#010#010#010#010#010#010#010#010#010#010#010#010#010#010#010#010#010#010#010#010#010#010#010#010#010#010#010#010#010#010#010#010#010#010#010#010#01543/48 [=========================>....] - ETA: 11s - loss: 0.0376\u001b[0m\n",
      "\u001b[34m#010#010#010#010#010#010#010#010#010#010#010#010#010#010#010#010#010#010#010#010#010#010#010#010#010#010#010#010#010#010#010#010#010#010#010#010#010#010#010#010#010#010#010#010#010#010#010#010#010#010#010#010#010#010#010#010#010#010#010#010#010#010#010#010#01544/48 [==========================>...] - ETA: 9s - loss: 0.0371\u001b[0m\n",
      "\u001b[34m#010#010#010#010#010#010#010#010#010#010#010#010#010#010#010#010#010#010#010#010#010#010#010#010#010#010#010#010#010#010#010#010#010#010#010#010#010#010#010#010#010#010#010#010#010#010#010#010#010#010#010#010#010#010#010#010#010#010#010#010#010#010#010#01545/48 [===========================>..] - ETA: 6s - loss: 0.0365\u001b[0m\n",
      "\u001b[34m#010#010#010#010#010#010#010#010#010#010#010#010#010#010#010#010#010#010#010#010#010#010#010#010#010#010#010#010#010#010#010#010#010#010#010#010#010#010#010#010#010#010#010#010#010#010#010#010#010#010#010#010#010#010#010#010#010#010#010#010#010#010#010#01546/48 [===========================>..] - ETA: 4s - loss: 0.0360\u001b[0m\n",
      "\u001b[34m#010#010#010#010#010#010#010#010#010#010#010#010#010#010#010#010#010#010#010#010#010#010#010#010#010#010#010#010#010#010#010#010#010#010#010#010#010#010#010#010#010#010#010#010#010#010#010#010#010#010#010#010#010#010#010#010#010#010#010#010#010#010#010#01547/48 [============================>.] - ETA: 2s - loss: 0.0355\u001b[0m\n",
      "\u001b[34m#010#010#010#010#010#010#010#010#010#010#010#010#010#010#010#010#010#010#010#010#010#010#010#010#010#010#010#010#010#010#010#010#010#010#010#010#010#010#010#010#010#010#010#010#010#010#010#010#010#010#010#010#010#010#010#010#010#010#010#010#010#010#010#01548/48 [==============================] - ETA: 0s - loss: 0.0351\u001b[0m\n",
      "\u001b[34m#010#010#010#010#010#010#010#010#010#010#010#010#010#010#010#010#010#010#010#010#010#010#010#010#010#010#010#010#010#010#010#010#010#010#010#010#010#010#010#010#010#010#010#010#010#010#010#010#010#010#010#010#010#010#010#010#010#010#010#010#010#010#010#01548/48 [==============================] - 178s 3s/step - loss: 0.0351\u001b[0m\n",
      "\u001b[34m2024-01-29 21:16:58,946 sagemaker-training-toolkit INFO     Waiting for the process to finish and give a return code.\u001b[0m\n",
      "\u001b[34m2024-01-29 21:16:58,946 sagemaker-training-toolkit INFO     Done waiting for a return code. Received 0 from exiting process.\u001b[0m\n",
      "\u001b[34m2024-01-29 21:16:58,946 sagemaker-training-toolkit INFO     Reporting training SUCCESS\u001b[0m\n",
      "\n",
      "2024-01-29 21:17:17 Uploading - Uploading generated training model\n",
      "2024-01-29 21:17:17 Completed - Training job completed\n",
      "Training seconds: 433\n",
      "Billable seconds: 433\n"
     ]
    }
   ],
   "source": [
    "train_IO = 's3://anomaly-model5/iris3'\n",
    "\n",
    "from sagemaker.tensorflow import TensorFlow\n",
    "\n",
    "anom_estimator = TensorFlow(entry_point='train4.py',\n",
    "                          role=role,\n",
    "                          framework_version='2.13',\n",
    "                          py_version='py310',\n",
    "                          train_instance_count=1,\n",
    "                          train_instance_type='ml.g4dn.2xlarge',\n",
    "                          hyperparameters={'learning_rate': 0.01, 'epochs': 1},\n",
    "                           output_path='s3://anomaly-model5/iris6/model'\n",
    "                           )\n",
    "                \n",
    "\n",
    "anom_estimator.fit({'train': train_IO})"
   ]
  },
  {
   "cell_type": "code",
   "execution_count": null,
   "id": "bc7b2c0e-2027-4fbb-a6cd-abaf043cf8ff",
   "metadata": {},
   "outputs": [],
   "source": []
  },
  {
   "cell_type": "code",
   "execution_count": 5,
   "id": "ec0d77c1-8103-4cde-88e6-60395f023b21",
   "metadata": {
    "tags": []
   },
   "outputs": [
    {
     "name": "stdout",
     "output_type": "stream",
     "text": [
      "sagemaker.config INFO - Not applying SDK defaults from location: /etc/xdg/sagemaker/config.yaml\n",
      "sagemaker.config INFO - Not applying SDK defaults from location: /home/ec2-user/.config/sagemaker/config.yaml\n",
      "-------!"
     ]
    }
   ],
   "source": [
    "model_data2 = 's3://anomaly-model5/iris4/model/tensorflow-training-2024-01-29-21-07-41-619/output/model.tar.gz'\n",
    "\n",
    "\n",
    "import sagemaker\n",
    "from sagemaker.tensorflow import TensorFlowModel\n",
    "\n",
    "# Set up the SageMaker session and role\n",
    "sagemaker_session = sagemaker.Session()\n",
    "role = sagemaker.get_execution_role()  # Replace with your IAM role ARN if not running on SageMaker notebook\n",
    "\n",
    "# Define model data (S3 path where the model artifact is saved)\n",
    "#model_data = 's3://anomaly-model5/iris/model/tensorflow-training-2024-01-28-16-11-52-553/output/model.tar.gz'\n",
    "\n",
    "# Create a TensorFlow model\n",
    "tf_model = TensorFlowModel(model_data=model_data2,\n",
    "                           role=role,\n",
    "                           framework_version='2.13',  # Replace with the version you used\n",
    "                           sagemaker_session=sagemaker_session,\n",
    "                           #entry_point = 'predict.py',\n",
    "                           # source_dir=\"model_directory\"\n",
    "                          )\n",
    "\n",
    "# Deploy the model to an endpoint\n",
    "predictor2 = tf_model.deploy(initial_instance_count=1,\n",
    "                            instance_type='ml.g4dn.2xlarge')"
   ]
  },
  {
   "cell_type": "code",
   "execution_count": null,
   "id": "e87b9a05-31e4-4695-b2ec-0ab760d74f35",
   "metadata": {},
   "outputs": [],
   "source": [
    "predictor2.endpoint"
   ]
  },
  {
   "cell_type": "code",
   "execution_count": 6,
   "id": "76e252ae-0b73-4b4c-96dd-6674c3e11150",
   "metadata": {
    "tags": []
   },
   "outputs": [
    {
     "data": {
      "text/plain": [
       "(191, 10, 256, 256, 1)"
      ]
     },
     "execution_count": 6,
     "metadata": {},
     "output_type": "execute_result"
    }
   ],
   "source": [
    "test = np.load('sequences.npy')\n",
    "test.shape"
   ]
  },
  {
   "cell_type": "code",
   "execution_count": 7,
   "id": "35f848cf-856a-4d69-9dee-9d57ea73bc5e",
   "metadata": {
    "tags": []
   },
   "outputs": [],
   "source": [
    "import numpy as np"
   ]
  },
  {
   "cell_type": "code",
   "execution_count": 8,
   "id": "b99af882-7ccc-4754-a634-e199914acc7b",
   "metadata": {
    "tags": []
   },
   "outputs": [
    {
     "data": {
      "text/plain": [
       "(1, 10, 256, 256, 1)"
      ]
     },
     "execution_count": 8,
     "metadata": {},
     "output_type": "execute_result"
    }
   ],
   "source": [
    "test = test[0:1]\n",
    "test.shape"
   ]
  },
  {
   "cell_type": "code",
   "execution_count": 12,
   "id": "4d3b3dee-00b7-4044-8a14-685d31475a43",
   "metadata": {
    "tags": []
   },
   "outputs": [
    {
     "ename": "ModelError",
     "evalue": "An error occurred (ModelError) when calling the InvokeEndpoint operation: Received client error (400) from primary with message \"{    \"error\": \"2 root error(s) found.\\n  (0) INVALID_ARGUMENT: Input to reshape is a tensor with 2 values, but the requested shape requires a multiple of 65536\\n\\t [[{{function_node __inference__wrapped_model_15235}}{{node sequential/time_distributed/Reshape}}]]\\n\\t [[StatefulPartitionedCall/_223]]\\n  (1) INVALID_ARGUMENT: Input to reshape is a tensor with 2 values, but the requested shape requires a multiple of 65536\\n\\t [[{{function_node __inference__wrapped_model_15235}}{{node sequential/time_distributed/Reshape}}]]\\n0 successful operations.\\n0 derived errors ignored.\"}\". See https://eu-north-1.console.aws.amazon.com/cloudwatch/home?region=eu-north-1#logEventViewer:group=/aws/sagemaker/Endpoints/tensorflow-inference-2024-01-30-07-35-40-580 in account 700383664770 for more information.",
     "output_type": "error",
     "traceback": [
      "\u001b[0;31m---------------------------------------------------------------------------\u001b[0m",
      "\u001b[0;31mModelError\u001b[0m                                Traceback (most recent call last)",
      "Cell \u001b[0;32mIn[12], line 1\u001b[0m\n\u001b[0;32m----> 1\u001b[0m \u001b[43mpredictor2\u001b[49m\u001b[38;5;241;43m.\u001b[39;49m\u001b[43mpredict\u001b[49m\u001b[43m(\u001b[49m\u001b[43m[\u001b[49m\u001b[38;5;241;43m.1\u001b[39;49m\u001b[43m,\u001b[49m\u001b[38;5;241;43m.2\u001b[39;49m\u001b[43m]\u001b[49m\u001b[43m)\u001b[49m\n",
      "File \u001b[0;32m~/anaconda3/envs/tensorflow2_p310/lib/python3.10/site-packages/sagemaker/tensorflow/model.py:119\u001b[0m, in \u001b[0;36mTensorFlowPredictor.predict\u001b[0;34m(self, data, initial_args)\u001b[0m\n\u001b[1;32m    116\u001b[0m     \u001b[38;5;28;01melse\u001b[39;00m:\n\u001b[1;32m    117\u001b[0m         args[\u001b[38;5;124m\"\u001b[39m\u001b[38;5;124mCustomAttributes\u001b[39m\u001b[38;5;124m\"\u001b[39m] \u001b[38;5;241m=\u001b[39m \u001b[38;5;28mself\u001b[39m\u001b[38;5;241m.\u001b[39m_model_attributes\n\u001b[0;32m--> 119\u001b[0m \u001b[38;5;28;01mreturn\u001b[39;00m \u001b[38;5;28;43msuper\u001b[39;49m\u001b[43m(\u001b[49m\u001b[43mTensorFlowPredictor\u001b[49m\u001b[43m,\u001b[49m\u001b[43m \u001b[49m\u001b[38;5;28;43mself\u001b[39;49m\u001b[43m)\u001b[49m\u001b[38;5;241;43m.\u001b[39;49m\u001b[43mpredict\u001b[49m\u001b[43m(\u001b[49m\u001b[43mdata\u001b[49m\u001b[43m,\u001b[49m\u001b[43m \u001b[49m\u001b[43margs\u001b[49m\u001b[43m)\u001b[49m\n",
      "File \u001b[0;32m~/anaconda3/envs/tensorflow2_p310/lib/python3.10/site-packages/sagemaker/base_predictor.py:209\u001b[0m, in \u001b[0;36mPredictor.predict\u001b[0;34m(self, data, initial_args, target_model, target_variant, inference_id, custom_attributes, component_name)\u001b[0m\n\u001b[1;32m    206\u001b[0m \u001b[38;5;28;01mif\u001b[39;00m inference_component_name:\n\u001b[1;32m    207\u001b[0m     request_args[\u001b[38;5;124m\"\u001b[39m\u001b[38;5;124mInferenceComponentName\u001b[39m\u001b[38;5;124m\"\u001b[39m] \u001b[38;5;241m=\u001b[39m inference_component_name\n\u001b[0;32m--> 209\u001b[0m response \u001b[38;5;241m=\u001b[39m \u001b[38;5;28;43mself\u001b[39;49m\u001b[38;5;241;43m.\u001b[39;49m\u001b[43msagemaker_session\u001b[49m\u001b[38;5;241;43m.\u001b[39;49m\u001b[43msagemaker_runtime_client\u001b[49m\u001b[38;5;241;43m.\u001b[39;49m\u001b[43minvoke_endpoint\u001b[49m\u001b[43m(\u001b[49m\u001b[38;5;241;43m*\u001b[39;49m\u001b[38;5;241;43m*\u001b[39;49m\u001b[43mrequest_args\u001b[49m\u001b[43m)\u001b[49m\n\u001b[1;32m    210\u001b[0m \u001b[38;5;28;01mreturn\u001b[39;00m \u001b[38;5;28mself\u001b[39m\u001b[38;5;241m.\u001b[39m_handle_response(response)\n",
      "File \u001b[0;32m~/anaconda3/envs/tensorflow2_p310/lib/python3.10/site-packages/botocore/client.py:553\u001b[0m, in \u001b[0;36mClientCreator._create_api_method.<locals>._api_call\u001b[0;34m(self, *args, **kwargs)\u001b[0m\n\u001b[1;32m    549\u001b[0m     \u001b[38;5;28;01mraise\u001b[39;00m \u001b[38;5;167;01mTypeError\u001b[39;00m(\n\u001b[1;32m    550\u001b[0m         \u001b[38;5;124mf\u001b[39m\u001b[38;5;124m\"\u001b[39m\u001b[38;5;132;01m{\u001b[39;00mpy_operation_name\u001b[38;5;132;01m}\u001b[39;00m\u001b[38;5;124m() only accepts keyword arguments.\u001b[39m\u001b[38;5;124m\"\u001b[39m\n\u001b[1;32m    551\u001b[0m     )\n\u001b[1;32m    552\u001b[0m \u001b[38;5;66;03m# The \"self\" in this scope is referring to the BaseClient.\u001b[39;00m\n\u001b[0;32m--> 553\u001b[0m \u001b[38;5;28;01mreturn\u001b[39;00m \u001b[38;5;28;43mself\u001b[39;49m\u001b[38;5;241;43m.\u001b[39;49m\u001b[43m_make_api_call\u001b[49m\u001b[43m(\u001b[49m\u001b[43moperation_name\u001b[49m\u001b[43m,\u001b[49m\u001b[43m \u001b[49m\u001b[43mkwargs\u001b[49m\u001b[43m)\u001b[49m\n",
      "File \u001b[0;32m~/anaconda3/envs/tensorflow2_p310/lib/python3.10/site-packages/botocore/client.py:1009\u001b[0m, in \u001b[0;36mBaseClient._make_api_call\u001b[0;34m(self, operation_name, api_params)\u001b[0m\n\u001b[1;32m   1005\u001b[0m     error_code \u001b[38;5;241m=\u001b[39m error_info\u001b[38;5;241m.\u001b[39mget(\u001b[38;5;124m\"\u001b[39m\u001b[38;5;124mQueryErrorCode\u001b[39m\u001b[38;5;124m\"\u001b[39m) \u001b[38;5;129;01mor\u001b[39;00m error_info\u001b[38;5;241m.\u001b[39mget(\n\u001b[1;32m   1006\u001b[0m         \u001b[38;5;124m\"\u001b[39m\u001b[38;5;124mCode\u001b[39m\u001b[38;5;124m\"\u001b[39m\n\u001b[1;32m   1007\u001b[0m     )\n\u001b[1;32m   1008\u001b[0m     error_class \u001b[38;5;241m=\u001b[39m \u001b[38;5;28mself\u001b[39m\u001b[38;5;241m.\u001b[39mexceptions\u001b[38;5;241m.\u001b[39mfrom_code(error_code)\n\u001b[0;32m-> 1009\u001b[0m     \u001b[38;5;28;01mraise\u001b[39;00m error_class(parsed_response, operation_name)\n\u001b[1;32m   1010\u001b[0m \u001b[38;5;28;01melse\u001b[39;00m:\n\u001b[1;32m   1011\u001b[0m     \u001b[38;5;28;01mreturn\u001b[39;00m parsed_response\n",
      "\u001b[0;31mModelError\u001b[0m: An error occurred (ModelError) when calling the InvokeEndpoint operation: Received client error (400) from primary with message \"{    \"error\": \"2 root error(s) found.\\n  (0) INVALID_ARGUMENT: Input to reshape is a tensor with 2 values, but the requested shape requires a multiple of 65536\\n\\t [[{{function_node __inference__wrapped_model_15235}}{{node sequential/time_distributed/Reshape}}]]\\n\\t [[StatefulPartitionedCall/_223]]\\n  (1) INVALID_ARGUMENT: Input to reshape is a tensor with 2 values, but the requested shape requires a multiple of 65536\\n\\t [[{{function_node __inference__wrapped_model_15235}}{{node sequential/time_distributed/Reshape}}]]\\n0 successful operations.\\n0 derived errors ignored.\"}\". See https://eu-north-1.console.aws.amazon.com/cloudwatch/home?region=eu-north-1#logEventViewer:group=/aws/sagemaker/Endpoints/tensorflow-inference-2024-01-30-07-35-40-580 in account 700383664770 for more information."
     ]
    }
   ],
   "source": [
    "predictor2.predict([.1,.2])"
   ]
  },
  {
   "cell_type": "code",
   "execution_count": null,
   "id": "85fa6404-416f-489f-9df9-de3b288ae3b6",
   "metadata": {
    "tags": []
   },
   "outputs": [],
   "source": [
    "#test = test[0:10]\n",
    "predictor2.predict(test)"
   ]
  }
 ],
 "metadata": {
  "kernelspec": {
   "display_name": "conda_tensorflow2_p310",
   "language": "python",
   "name": "conda_tensorflow2_p310"
  },
  "language_info": {
   "codemirror_mode": {
    "name": "ipython",
    "version": 3
   },
   "file_extension": ".py",
   "mimetype": "text/x-python",
   "name": "python",
   "nbconvert_exporter": "python",
   "pygments_lexer": "ipython3",
   "version": "3.10.13"
  }
 },
 "nbformat": 4,
 "nbformat_minor": 5
}

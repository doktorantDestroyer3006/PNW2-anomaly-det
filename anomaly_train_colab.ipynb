{
  "nbformat": 4,
  "nbformat_minor": 0,
  "metadata": {
    "colab": {
      "provenance": [],
      "gpuType": "T4"
    },
    "kernelspec": {
      "name": "python3",
      "display_name": "Python 3"
    },
    "language_info": {
      "name": "python"
    },
    "accelerator": "GPU"
  },
  "cells": [
    {
      "cell_type": "markdown",
      "source": [
        "**1 Przygotowanie datasetu do treningu modelu**\n",
        "\n",
        "W celu wytrenowania modelu udostepnilismy zbior treningowy UCDS Peds1 w Google Drive - skladajacego sie z 32 filmow bez anomalii (w tym przypadku pokazujemy tylko jego czesc - filmy 1-8).\n",
        "\n",
        "Po zamontowaniu google drive do google colab otrzymujemy widocznosc dodatkowego folderu (`drive`) ; a po uzyciu funkcji systemowej `!ls` mozemy wyswietlic nasz zbior treningowy (widzimy np. 200 klatek w formacie `.tif` dla filmu Train001)."
      ],
      "metadata": {
        "id": "uFWEVSlocu5d"
      }
    },
    {
      "cell_type": "code",
      "execution_count": 1,
      "metadata": {
        "colab": {
          "base_uri": "https://localhost:8080/"
        },
        "id": "kmnbctPLquSz",
        "outputId": "47d1b7b4-4580-44de-8d17-bb84f8484f0a"
      },
      "outputs": [
        {
          "output_type": "stream",
          "name": "stdout",
          "text": [
            "Mounted at /content/drive\n"
          ]
        }
      ],
      "source": [
        "from google.colab import drive\n",
        "drive.mount('/content/drive')"
      ]
    },
    {
      "cell_type": "code",
      "source": [
        "!ls drive/MyDrive/datasets2/UCSD1/train"
      ],
      "metadata": {
        "colab": {
          "base_uri": "https://localhost:8080/"
        },
        "id": "ntOFmXZnrhxU",
        "outputId": "784874b7-e5a4-4547-ff10-ce620c6c6fe2"
      },
      "execution_count": 2,
      "outputs": [
        {
          "output_type": "stream",
          "name": "stdout",
          "text": [
            "Train001  Train002  Train003  Train004\tTrain005  Train006  Train007  Train008\n"
          ]
        }
      ]
    },
    {
      "cell_type": "code",
      "source": [
        "!ls drive/MyDrive/datasets2/UCSD1/train/Train001"
      ],
      "metadata": {
        "id": "35VOwQQYruC8",
        "colab": {
          "base_uri": "https://localhost:8080/"
        },
        "outputId": "e6ae0939-bf1b-4c3f-a6bf-73275ce929b6"
      },
      "execution_count": 3,
      "outputs": [
        {
          "output_type": "stream",
          "name": "stdout",
          "text": [
            "001.tif  020.tif  039.tif  058.tif  077.tif  096.tif  115.tif  134.tif\t153.tif  172.tif  191.tif\n",
            "002.tif  021.tif  040.tif  059.tif  078.tif  097.tif  116.tif  135.tif\t154.tif  173.tif  192.tif\n",
            "003.tif  022.tif  041.tif  060.tif  079.tif  098.tif  117.tif  136.tif\t155.tif  174.tif  193.tif\n",
            "004.tif  023.tif  042.tif  061.tif  080.tif  099.tif  118.tif  137.tif\t156.tif  175.tif  194.tif\n",
            "005.tif  024.tif  043.tif  062.tif  081.tif  100.tif  119.tif  138.tif\t157.tif  176.tif  195.tif\n",
            "006.tif  025.tif  044.tif  063.tif  082.tif  101.tif  120.tif  139.tif\t158.tif  177.tif  196.tif\n",
            "007.tif  026.tif  045.tif  064.tif  083.tif  102.tif  121.tif  140.tif\t159.tif  178.tif  197.tif\n",
            "008.tif  027.tif  046.tif  065.tif  084.tif  103.tif  122.tif  141.tif\t160.tif  179.tif  198.tif\n",
            "009.tif  028.tif  047.tif  066.tif  085.tif  104.tif  123.tif  142.tif\t161.tif  180.tif  199.tif\n",
            "010.tif  029.tif  048.tif  067.tif  086.tif  105.tif  124.tif  143.tif\t162.tif  181.tif  200.tif\n",
            "011.tif  030.tif  049.tif  068.tif  087.tif  106.tif  125.tif  144.tif\t163.tif  182.tif\n",
            "012.tif  031.tif  050.tif  069.tif  088.tif  107.tif  126.tif  145.tif\t164.tif  183.tif\n",
            "013.tif  032.tif  051.tif  070.tif  089.tif  108.tif  127.tif  146.tif\t165.tif  184.tif\n",
            "014.tif  033.tif  052.tif  071.tif  090.tif  109.tif  128.tif  147.tif\t166.tif  185.tif\n",
            "015.tif  034.tif  053.tif  072.tif  091.tif  110.tif  129.tif  148.tif\t167.tif  186.tif\n",
            "016.tif  035.tif  054.tif  073.tif  092.tif  111.tif  130.tif  149.tif\t168.tif  187.tif\n",
            "017.tif  036.tif  055.tif  074.tif  093.tif  112.tif  131.tif  150.tif\t169.tif  188.tif\n",
            "018.tif  037.tif  056.tif  075.tif  094.tif  113.tif  132.tif  151.tif\t170.tif  189.tif\n",
            "019.tif  038.tif  057.tif  076.tif  095.tif  114.tif  133.tif  152.tif\t171.tif  190.tif\n"
          ]
        }
      ]
    },
    {
      "cell_type": "markdown",
      "source": [
        "**2 Instalacja niezbednych bibliotek**\n",
        "\n",
        "Nasz model uzywa biblioteki keras-layer-normalization, ktora nie jest 'defaultowo' zainstalowana w google colab. To jedyna biblioteka ktorej instalacja w trybie 'explicite' jest niezbedna."
      ],
      "metadata": {
        "id": "nSzYwlTddwqr"
      }
    },
    {
      "cell_type": "code",
      "source": [
        "!pip install keras-layer-normalization"
      ],
      "metadata": {
        "colab": {
          "base_uri": "https://localhost:8080/"
        },
        "id": "ph68F77VruKl",
        "outputId": "7b608356-e4ec-4e62-d341-09577e5d57be"
      },
      "execution_count": null,
      "outputs": [
        {
          "output_type": "stream",
          "name": "stdout",
          "text": [
            "Requirement already satisfied: keras-layer-normalization in /usr/local/lib/python3.10/dist-packages (0.16.0)\n",
            "Requirement already satisfied: numpy in /usr/local/lib/python3.10/dist-packages (from keras-layer-normalization) (1.23.5)\n"
          ]
        }
      ]
    },
    {
      "cell_type": "markdown",
      "source": [
        "**3 Plik konfiguracyjny**\n",
        "\n",
        "W celu ulatwienia pracy tworzymy prosty plik konfiguracyjny, ktory zawiera sciezke do zbioru treningowego, sciezke do pojedynczego filmu testowego, sciezke do miejsca w ktorym zapiszemy nasz wytrenowany model, oraz dwie zmienne uzywane w trakcie treningu - zmienne te (batch size oraz epochs) sa ustawione na bardzo niskie, poniewaz ten notatnik zawierajacy kod zrodlowy jest notatnikiem podgladowym, wlasciwy trening odbywal sie w innej jego instancji : epochs = 1 pokazuje, ze model jest kompilowalny, a batch size = 2 zmniejsza potrzebny naklad GPU_RAM potrzebny do treningu."
      ],
      "metadata": {
        "id": "Dgj0MorGeMcA"
      }
    },
    {
      "cell_type": "code",
      "source": [
        "class Config:\n",
        "  DATASET_PATH =\"drive/MyDrive/datasets2/UCSD1/train\"\n",
        "  SINGLE_TEST_PATH = \"drive/MyDrive/datasets2/UCSD1/train/Train007\"\n",
        "  BATCH_SIZE = 2\n",
        "  EPOCHS = 1\n",
        "  MODEL_PATH = \"./model.hdf5\""
      ],
      "metadata": {
        "id": "_ubn1gw4ruOO"
      },
      "execution_count": null,
      "outputs": []
    },
    {
      "cell_type": "markdown",
      "source": [
        "**4 Przygotowanie training_setu**\n",
        "\n",
        "Aby przygotowac training set iterujemy po wszystkich folderach wewnatrz sciezki prowadzacej do Train, gdzie w kazdym folderze mamy inny film podzielony na klatki. Dla kazdego folderu klatki te sortujemy, wczytujemy, uzywamy operacji resize przeksztalcajac je na wymiar 256x256, nastepnie normalizujemy kazda wartosc rzutujac ja do [0-1), a nastepnie przy pomocy funkcji get_clips_by_stride() oknujemy nasze filmy tworzac sekwencje dziesiecioklatkowe. W ten sposob z jednego filmu o 200 klatkach uzyskujemy tablice numpy o rozmiarze (191, 10, 256, 256, 1) (ostatni wymiar to 1 poniewaz filmy sa juz w odcieniu szarosci). Podobnie robimy dla filmu testowego uzywajac funkcji get_single_test() pobierajacej klatki ze sciezki dla filmu testowego, a nastepnie konwertujac do tablicy numpy i oknujac."
      ],
      "metadata": {
        "id": "VKggvjEFgALk"
      }
    },
    {
      "cell_type": "code",
      "source": [
        "def get_training_set():\n",
        "    \"\"\"\n",
        "    Returns\n",
        "    -------\n",
        "    list\n",
        "        A list of training sequences of shape (NUMBER_OF_SEQUENCES,SINGLE_SEQUENCE_SIZE,FRAME_WIDTH,FRAME_HEIGHT,1)\n",
        "    \"\"\"\n",
        "    #####################################\n",
        "    # cache = shelve.open(Config.CACHE_PATH)\n",
        "    # return cache[\"datasetLSTM\"]\n",
        "    #####################################\n",
        "    clips = []\n",
        "    # loop over the training folders (Train000,Train001,..)\n",
        "    for f in sorted(listdir(Config.DATASET_PATH)):\n",
        "        if isdir(join(Config.DATASET_PATH, f)):\n",
        "            all_frames = []\n",
        "            # loop over all the images in the folder (0.tif,1.tif,..,199.tif)\n",
        "            for c in sorted(listdir(join(Config.DATASET_PATH, f))):\n",
        "                if str(join(join(Config.DATASET_PATH, f), c))[-3:] == \"tif\":\n",
        "                    img = Image.open(join(join(Config.DATASET_PATH, f), c)).resize((256, 256))\n",
        "                    img = np.array(img, dtype=np.float32) / 256.0\n",
        "                    all_frames.append(img)\n",
        "            # get the 10-frames sequences from the list of images after applying data augmentation\n",
        "            for stride in range(1, 3):\n",
        "                clips.extend(get_clips_by_stride(stride=stride, frames_list=all_frames, sequence_size=10))\n",
        "    return clips"
      ],
      "metadata": {
        "id": "a2ocE9P6wRYU"
      },
      "execution_count": null,
      "outputs": []
    },
    {
      "cell_type": "code",
      "source": [
        "from os import listdir\n",
        "from os.path import isfile, join, isdir\n",
        "from PIL import Image\n",
        "import numpy as np\n",
        "import shelve\n",
        "def get_clips_by_stride(stride, frames_list, sequence_size):\n",
        "    \"\"\" For data augmenting purposes.\n",
        "    Parameters\n",
        "    ----------\n",
        "    stride : int\n",
        "        The desired distance between two consecutive frames\n",
        "    frames_list : list\n",
        "        A list of sorted frames of shape 256 X 256\n",
        "    sequence_size: int\n",
        "        The size of the desired LSTM sequence\n",
        "    Returns\n",
        "    -------\n",
        "    list\n",
        "        A list of clips , 10 frames each\n",
        "    \"\"\"\n",
        "    clips = []\n",
        "    sz = len(frames_list)\n",
        "    clip = np.zeros(shape=(sequence_size, 256, 256, 1))\n",
        "    cnt = 0\n",
        "    for start in range(0, stride):\n",
        "        for i in range(start, sz, stride):\n",
        "            clip[cnt, :, :, 0] = frames_list[i]\n",
        "            cnt = cnt + 1\n",
        "            if cnt == sequence_size:\n",
        "                clips.append(np.copy(clip))\n",
        "                cnt = 0\n",
        "    return clips\n"
      ],
      "metadata": {
        "id": "d5OSr_HCrVcE"
      },
      "execution_count": null,
      "outputs": []
    },
    {
      "cell_type": "code",
      "source": [
        "def get_single_test():\n",
        "    sz = 200\n",
        "    test = np.zeros(shape=(sz, 256, 256, 1))\n",
        "    cnt = 0\n",
        "    for f in sorted(listdir(Config.SINGLE_TEST_PATH)):\n",
        "        if str(join(Config.SINGLE_TEST_PATH, f))[-3:] == \"tif\":\n",
        "            img = Image.open(join(Config.SINGLE_TEST_PATH, f)).resize((256, 256))\n",
        "            img = np.array(img, dtype=np.float32) / 256.0\n",
        "            test[cnt, :, :, 0] = img\n",
        "            cnt = cnt + 1\n",
        "    return test"
      ],
      "metadata": {
        "id": "5XCI1YB5waz4"
      },
      "execution_count": null,
      "outputs": []
    },
    {
      "cell_type": "markdown",
      "source": [
        "**5 Model**\n",
        "\n",
        "W naszym modelu uzywamy architektury autoencodera o formacie 2DCNN-LSTM-2DCNN. Model sklada sie z dwoch warst konwolucyjnych , po ktorych nastepuja trzy warstwy ConvLSTM badajace warstwe temporalna filmu ; po ktorych znowu wystepuja warsty konwolucyjne, teraz oczywiscie upsamplingujac nasze wymiary. Widzimy, ze model ma w sumie 1958209 parametrow, z czego wszystkie sa trenowalne."
      ],
      "metadata": {
        "id": "XReewSpehY4E"
      }
    },
    {
      "cell_type": "code",
      "source": [
        "import keras\n",
        "from keras.layers import Conv2DTranspose, ConvLSTM2D, BatchNormalization, TimeDistributed, Conv2D, LayerNormalization\n",
        "from keras.models import Sequential, load_model\n",
        "def get_model(reload_model=True):\n",
        "    \"\"\"\n",
        "    Parameters\n",
        "    ----------\n",
        "    reload_model : bool\n",
        "        Load saved model or retrain it\n",
        "    \"\"\"\n",
        "    if not reload_model:\n",
        "        return load_model(Config.MODEL_PATH,custom_objects={'LayerNormalization': LayerNormalization})\n",
        "    training_set = get_training_set()\n",
        "    training_set = np.array(training_set)\n",
        "    training_set = training_set.reshape(-1,10,256,256,1)\n",
        "    seq = Sequential()\n",
        "    seq.add(TimeDistributed(Conv2D(128, (11, 11), strides=4, padding=\"same\"), batch_input_shape=(None, 10, 256, 256, 1)))\n",
        "    seq.add(LayerNormalization())\n",
        "    seq.add(TimeDistributed(Conv2D(64, (5, 5), strides=2, padding=\"same\")))\n",
        "    seq.add(LayerNormalization())\n",
        "    # # # # #\n",
        "    seq.add(ConvLSTM2D(64, (3, 3), padding=\"same\", return_sequences=True))\n",
        "    seq.add(LayerNormalization())\n",
        "    seq.add(ConvLSTM2D(32, (3, 3), padding=\"same\", return_sequences=True))\n",
        "    seq.add(LayerNormalization())\n",
        "    seq.add(ConvLSTM2D(64, (3, 3), padding=\"same\", return_sequences=True))\n",
        "    seq.add(LayerNormalization())\n",
        "    # # # # #\n",
        "    seq.add(TimeDistributed(Conv2DTranspose(64, (5, 5), strides=2, padding=\"same\")))\n",
        "    seq.add(LayerNormalization())\n",
        "    seq.add(TimeDistributed(Conv2DTranspose(128, (11, 11), strides=4, padding=\"same\")))\n",
        "    seq.add(LayerNormalization())\n",
        "    seq.add(TimeDistributed(Conv2D(1, (11, 11), activation=\"sigmoid\", padding=\"same\")))\n",
        "    print(seq.summary())\n",
        "    seq.compile(loss='mse', optimizer=keras.optimizers.Adam(learning_rate=1e-4, epsilon=1e-6 ))#decay=1e-5, ))\n",
        "    seq.fit(training_set, training_set,\n",
        "            batch_size=Config.BATCH_SIZE, epochs=Config.EPOCHS, shuffle=False)\n",
        "    seq.save(Config.MODEL_PATH)\n",
        "    return seq"
      ],
      "metadata": {
        "id": "Wt4DezVywRbN"
      },
      "execution_count": null,
      "outputs": []
    },
    {
      "cell_type": "code",
      "source": [
        "model = get_model(True)"
      ],
      "metadata": {
        "id": "qDce51Nnw7Dh",
        "colab": {
          "base_uri": "https://localhost:8080/"
        },
        "outputId": "82580c61-dea0-4452-dda1-83c06901104a"
      },
      "execution_count": null,
      "outputs": [
        {
          "output_type": "stream",
          "name": "stdout",
          "text": [
            "Model: \"sequential\"\n",
            "_________________________________________________________________\n",
            " Layer (type)                Output Shape              Param #   \n",
            "=================================================================\n",
            " time_distributed (TimeDist  (None, 7, 64, 64, 128)    15616     \n",
            " ributed)                                                        \n",
            "                                                                 \n",
            " layer_normalization (Layer  (None, 7, 64, 64, 128)    256       \n",
            " Normalization)                                                  \n",
            "                                                                 \n",
            " time_distributed_1 (TimeDi  (None, 7, 32, 32, 64)     204864    \n",
            " stributed)                                                      \n",
            "                                                                 \n",
            " layer_normalization_1 (Lay  (None, 7, 32, 32, 64)     128       \n",
            " erNormalization)                                                \n",
            "                                                                 \n",
            " conv_lstm2d (ConvLSTM2D)    (None, 7, 32, 32, 64)     295168    \n",
            "                                                                 \n",
            " layer_normalization_2 (Lay  (None, 7, 32, 32, 64)     128       \n",
            " erNormalization)                                                \n",
            "                                                                 \n",
            " conv_lstm2d_1 (ConvLSTM2D)  (None, 7, 32, 32, 32)     110720    \n",
            "                                                                 \n",
            " layer_normalization_3 (Lay  (None, 7, 32, 32, 32)     64        \n",
            " erNormalization)                                                \n",
            "                                                                 \n",
            " conv_lstm2d_2 (ConvLSTM2D)  (None, 7, 32, 32, 64)     221440    \n",
            "                                                                 \n",
            " layer_normalization_4 (Lay  (None, 7, 32, 32, 64)     128       \n",
            " erNormalization)                                                \n",
            "                                                                 \n",
            " time_distributed_2 (TimeDi  (None, 7, 64, 64, 64)     102464    \n",
            " stributed)                                                      \n",
            "                                                                 \n",
            " layer_normalization_5 (Lay  (None, 7, 64, 64, 64)     128       \n",
            " erNormalization)                                                \n",
            "                                                                 \n",
            " time_distributed_3 (TimeDi  (None, 7, 256, 256, 128   991360    \n",
            " stributed)                  )                                   \n",
            "                                                                 \n",
            " layer_normalization_6 (Lay  (None, 7, 256, 256, 128   256       \n",
            " erNormalization)            )                                   \n",
            "                                                                 \n",
            " time_distributed_4 (TimeDi  (None, 7, 256, 256, 1)    15489     \n",
            " stributed)                                                      \n",
            "                                                                 \n",
            "=================================================================\n",
            "Total params: 1958209 (7.47 MB)\n",
            "Trainable params: 1958209 (7.47 MB)\n",
            "Non-trainable params: 0 (0.00 Byte)\n",
            "_________________________________________________________________\n",
            "None\n",
            "224/224 [==============================] - 143s 516ms/step - loss: 0.0135\n"
          ]
        },
        {
          "output_type": "stream",
          "name": "stderr",
          "text": [
            "/usr/local/lib/python3.10/dist-packages/keras/src/engine/training.py:3103: UserWarning: You are saving your model as an HDF5 file via `model.save()`. This file format is considered legacy. We recommend using instead the native Keras format, e.g. `model.save('my_model.keras')`.\n",
            "  saving_api.save_model(\n"
          ]
        }
      ]
    },
    {
      "cell_type": "markdown",
      "source": [
        "**Ewaluacja Modelu**\n",
        "\n",
        "Nastepnie dokonujemy ewaluacji wytrenowanego wczesniej (wczesniej - czyli nie w tej poprzedniej komorce, gdzie trenujemy go przez jedna epoke) modelu dla filmu testowego. W tym fragmencie kodu obliczany jest tzw. \"regularity score\" dla sekwencji danych. Obliczamy koszt rekonstrukcji sekwencji (sequences_reconstruction_cost - gdzie np.linalg.norm(np.subtract(sequences[i],reconstructed_sequences[i])) oblicza normę (długość) różnicy między oryginalną a zrekonstruowaną sekwencją) - jest to miara błędu rekonstrukcji dla każdej sekwencji. Nastepnie normalizujemy koszt rekonstrukcji (dzielimy przez np.max(sequences_reconstruction_cost) co skaluje koszty do zakresu [0, 1] - po tej operacji, `sa` zawiera znormalizowane koszty rekonstrukcji dla każdej sekwencji). Na koniec Obliczamy \"regularity score\" jako `1.0 - sa`, ponieważ sa jest znormalizowanym kosztem rekonstrukcji. Wysoki koszt rekonstrukcji (niska wartość w sa) skutkuje niskim wynikiem w sr (wysoka wartość), co oznacza, że sekwencja jest nieregularna lub odstająca. Niski koszt rekonstrukcji (wysoka wartość w sa) daje wysoki wynik w sr, co wskazuje na sekwencję regularną."
      ],
      "metadata": {
        "id": "pcx6zPiAjXuF"
      }
    },
    {
      "cell_type": "code",
      "source": [
        "import matplotlib.pyplot as plt\n",
        "\n",
        "def evaluate():\n",
        "    model = get_model(True)\n",
        "    print(\"got model\")\n",
        "    test = get_single_test()\n",
        "    print(test.shape)\n",
        "    sz = test.shape[0] - 10 + 1\n",
        "    sequences = np.zeros((sz, 7, 256, 256, 1))\n",
        "    # apply the sliding window technique to get the sequences\n",
        "    for i in range(0, sz):\n",
        "        clip = np.zeros((10, 256, 256, 1))\n",
        "        for j in range(0, 10):\n",
        "            clip[j] = test[i + j, :, :, :]\n",
        "        sequences[i] = clip\n",
        "\n",
        "    print(\"got data\")\n",
        "    # get the reconstruction cost of all the sequences\n",
        "    reconstructed_sequences = model.predict(sequences,batch_size=4)\n",
        "    sequences_reconstruction_cost = np.array([np.linalg.norm(np.subtract(sequences[i],reconstructed_sequences[i])) for i in range(0,sz)])\n",
        "    sa = (sequences_reconstruction_cost - np.min(sequences_reconstruction_cost)) / np.max(sequences_reconstruction_cost)\n",
        "    sr = 1.0 - sa\n",
        "\n",
        "    # plot the regularity scores\n",
        "    plt.plot(sr)\n",
        "    plt.ylabel('regularity score Sr(t)')\n",
        "    plt.xlabel('frame t')\n",
        "    plt.show()"
      ],
      "metadata": {
        "id": "Krnz5e6Fwa2k"
      },
      "execution_count": null,
      "outputs": []
    },
    {
      "cell_type": "code",
      "source": [
        "evaluate()\n"
      ],
      "metadata": {
        "colab": {
          "base_uri": "https://localhost:8080/",
          "height": 1000
        },
        "id": "fJzpOlTdwa4u",
        "outputId": "c835af18-4773-4821-e4b6-a92cb5f96173"
      },
      "execution_count": null,
      "outputs": [
        {
          "output_type": "stream",
          "name": "stdout",
          "text": [
            "Model: \"sequential\"\n",
            "_________________________________________________________________\n",
            " Layer (type)                Output Shape              Param #   \n",
            "=================================================================\n",
            " time_distributed (TimeDist  (None, 10, 64, 64, 128)   15616     \n",
            " ributed)                                                        \n",
            "                                                                 \n",
            " layer_normalization (Layer  (None, 10, 64, 64, 128)   256       \n",
            " Normalization)                                                  \n",
            "                                                                 \n",
            " time_distributed_1 (TimeDi  (None, 10, 32, 32, 64)    204864    \n",
            " stributed)                                                      \n",
            "                                                                 \n",
            " layer_normalization_1 (Lay  (None, 10, 32, 32, 64)    128       \n",
            " erNormalization)                                                \n",
            "                                                                 \n",
            " conv_lstm2d (ConvLSTM2D)    (None, 10, 32, 32, 64)    295168    \n",
            "                                                                 \n",
            " layer_normalization_2 (Lay  (None, 10, 32, 32, 64)    128       \n",
            " erNormalization)                                                \n",
            "                                                                 \n",
            " conv_lstm2d_1 (ConvLSTM2D)  (None, 10, 32, 32, 32)    110720    \n",
            "                                                                 \n",
            " layer_normalization_3 (Lay  (None, 10, 32, 32, 32)    64        \n",
            " erNormalization)                                                \n",
            "                                                                 \n",
            " conv_lstm2d_2 (ConvLSTM2D)  (None, 10, 32, 32, 64)    221440    \n",
            "                                                                 \n",
            " layer_normalization_4 (Lay  (None, 10, 32, 32, 64)    128       \n",
            " erNormalization)                                                \n",
            "                                                                 \n",
            " time_distributed_2 (TimeDi  (None, 10, 64, 64, 64)    102464    \n",
            " stributed)                                                      \n",
            "                                                                 \n",
            " layer_normalization_5 (Lay  (None, 10, 64, 64, 64)    128       \n",
            " erNormalization)                                                \n",
            "                                                                 \n",
            " time_distributed_3 (TimeDi  (None, 10, 256, 256, 12   991360    \n",
            " stributed)                  8)                                  \n",
            "                                                                 \n",
            " layer_normalization_6 (Lay  (None, 10, 256, 256, 12   256       \n",
            " erNormalization)            8)                                  \n",
            "                                                                 \n",
            " time_distributed_4 (TimeDi  (None, 10, 256, 256, 1)   15489     \n",
            " stributed)                                                      \n",
            "                                                                 \n",
            "=================================================================\n",
            "Total params: 1958209 (7.47 MB)\n",
            "Trainable params: 1958209 (7.47 MB)\n",
            "Non-trainable params: 0 (0.00 Byte)\n",
            "_________________________________________________________________\n"
          ]
        },
        {
          "output_type": "stream",
          "name": "stderr",
          "text": [
            "WARNING:absl:`lr` is deprecated in Keras optimizer, please use `learning_rate` or use the legacy optimizer, e.g.,tf.keras.optimizers.legacy.Adam.\n"
          ]
        },
        {
          "output_type": "stream",
          "name": "stdout",
          "text": [
            "None\n",
            "Epoch 1/3\n",
            "80/80 [==============================] - 179s 2s/step - loss: 0.1858\n",
            "Epoch 2/3\n",
            "80/80 [==============================] - 135s 2s/step - loss: 0.1853\n",
            "Epoch 3/3\n",
            "80/80 [==============================] - 138s 2s/step - loss: 0.1853\n"
          ]
        },
        {
          "output_type": "stream",
          "name": "stderr",
          "text": [
            "/usr/local/lib/python3.10/dist-packages/keras/src/engine/training.py:3103: UserWarning: You are saving your model as an HDF5 file via `model.save()`. This file format is considered legacy. We recommend using instead the native Keras format, e.g. `model.save('my_model.keras')`.\n",
            "  saving_api.save_model(\n"
          ]
        },
        {
          "output_type": "stream",
          "name": "stdout",
          "text": [
            "got model\n",
            "(200, 256, 256, 1)\n",
            "got data\n",
            "48/48 [==============================] - 29s 570ms/step\n"
          ]
        },
        {
          "output_type": "display_data",
          "data": {
            "text/plain": [
              "<Figure size 640x480 with 1 Axes>"
            ],
            "image/png": "[encoded data removed]"
          },
          "metadata": {}
        }
      ]
    },
    {
      "cell_type": "markdown",
      "source": [
        "**DALSZA CZESC ZAWIERA TRESC W STANIE DEVELOPERSKIM**"
      ],
      "metadata": {
        "id": "Dm3xk3Ipl6Gr"
      }
    },
    {
      "cell_type": "code",
      "source": [],
      "metadata": {
        "id": "uV88el_Twa7T"
      },
      "execution_count": null,
      "outputs": []
    },
    {
      "cell_type": "code",
      "source": [],
      "metadata": {
        "id": "MJCX3_Z3l_UJ"
      },
      "execution_count": null,
      "outputs": []
    },
    {
      "cell_type": "code",
      "source": [],
      "metadata": {
        "id": "otqCInHOl_X3"
      },
      "execution_count": null,
      "outputs": []
    },
    {
      "cell_type": "code",
      "source": [],
      "metadata": {
        "id": "e4X1zgzAl_aP"
      },
      "execution_count": null,
      "outputs": []
    },
    {
      "cell_type": "code",
      "source": [],
      "metadata": {
        "id": "2SXRVWkcl_dD"
      },
      "execution_count": null,
      "outputs": []
    },
    {
      "cell_type": "code",
      "source": [],
      "metadata": {
        "id": "T2TP7i7il_hb"
      },
      "execution_count": null,
      "outputs": []
    },
    {
      "cell_type": "code",
      "source": [],
      "metadata": {
        "id": "KTzP5PFll_jv"
      },
      "execution_count": null,
      "outputs": []
    },
    {
      "cell_type": "code",
      "source": [],
      "metadata": {
        "id": "_xAejGPyl_lz"
      },
      "execution_count": null,
      "outputs": []
    },
    {
      "cell_type": "code",
      "source": [],
      "metadata": {
        "id": "xPAp6IFll_o_"
      },
      "execution_count": null,
      "outputs": []
    },
    {
      "cell_type": "code",
      "source": [],
      "metadata": {
        "id": "C842u7CIl_r9"
      },
      "execution_count": null,
      "outputs": []
    },
    {
      "cell_type": "code",
      "source": [],
      "metadata": {
        "id": "VdgbJgR7l_uk"
      },
      "execution_count": null,
      "outputs": []
    },
    {
      "cell_type": "code",
      "source": [],
      "metadata": {
        "id": "3l-Q7Or4l_xO"
      },
      "execution_count": null,
      "outputs": []
    },
    {
      "cell_type": "code",
      "source": [],
      "metadata": {
        "id": "dmcaWs2Nl_2P"
      },
      "execution_count": null,
      "outputs": []
    },
    {
      "cell_type": "code",
      "source": [],
      "metadata": {
        "id": "UBGgMQbOl_9T"
      },
      "execution_count": null,
      "outputs": []
    },
    {
      "cell_type": "code",
      "source": [],
      "metadata": {
        "id": "BcZ5TqW2l__Q"
      },
      "execution_count": null,
      "outputs": []
    },
    {
      "cell_type": "code",
      "source": [
        "modell = load_model(Config.MODEL_PATH,custom_objects={'LayerNormalization': LayerNormalization})"
      ],
      "metadata": {
        "id": "6rUGUJQswa9c"
      },
      "execution_count": null,
      "outputs": []
    },
    {
      "cell_type": "code",
      "source": [
        "modell"
      ],
      "metadata": {
        "colab": {
          "base_uri": "https://localhost:8080/"
        },
        "id": "4FWXvgbhwbAC",
        "outputId": "d97da537-ec13-42a4-e681-7e5625bb8620"
      },
      "execution_count": null,
      "outputs": [
        {
          "output_type": "execute_result",
          "data": {
            "text/plain": [
              "<keras.src.engine.sequential.Sequential at 0x7a0fbca33190>"
            ]
          },
          "metadata": {},
          "execution_count": 23
        }
      ]
    },
    {
      "cell_type": "code",
      "source": [
        "test = get_single_test()"
      ],
      "metadata": {
        "id": "tZ26XeLHwbDf"
      },
      "execution_count": null,
      "outputs": []
    },
    {
      "cell_type": "code",
      "source": [
        "test.shape"
      ],
      "metadata": {
        "colab": {
          "base_uri": "https://localhost:8080/"
        },
        "id": "3M65xh9dwbHP",
        "outputId": "addb4671-fadc-432d-f267-00d485353e9c"
      },
      "execution_count": null,
      "outputs": [
        {
          "output_type": "execute_result",
          "data": {
            "text/plain": [
              "(200, 256, 256, 1)"
            ]
          },
          "metadata": {},
          "execution_count": 25
        }
      ]
    },
    {
      "cell_type": "code",
      "source": [
        "test[0].shape"
      ],
      "metadata": {
        "colab": {
          "base_uri": "https://localhost:8080/"
        },
        "id": "PFhRbpOQwbJW",
        "outputId": "574c38e1-3e9b-41b6-fe47-08a953233ce4"
      },
      "execution_count": null,
      "outputs": [
        {
          "output_type": "execute_result",
          "data": {
            "text/plain": [
              "(256, 256, 1)"
            ]
          },
          "metadata": {},
          "execution_count": 27
        }
      ]
    },
    {
      "cell_type": "code",
      "source": [
        "test"
      ],
      "metadata": {
        "colab": {
          "base_uri": "https://localhost:8080/"
        },
        "id": "JIZIiAMiwReA",
        "outputId": "0031e9bf-4d09-439d-93ea-602d889aa3d5"
      },
      "execution_count": null,
      "outputs": [
        {
          "output_type": "execute_result",
          "data": {
            "text/plain": [
              "array([[[[0.4375    ],\n",
              "         [0.41796875],\n",
              "         [0.359375  ],\n",
              "         ...,\n",
              "         [0.2109375 ],\n",
              "         [0.28515625],\n",
              "         [0.3125    ]],\n",
              "\n",
              "        [[0.3671875 ],\n",
              "         [0.35546875],\n",
              "         [0.3515625 ],\n",
              "         ...,\n",
              "         [0.2109375 ],\n",
              "         [0.26953125],\n",
              "         [0.34375   ]],\n",
              "\n",
              "        [[0.28515625],\n",
              "         [0.28125   ],\n",
              "         [0.34375   ],\n",
              "         ...,\n",
              "         [0.21875   ],\n",
              "         [0.25      ],\n",
              "         [0.37890625]],\n",
              "\n",
              "        ...,\n",
              "\n",
              "        [[0.50390625],\n",
              "         [0.51171875],\n",
              "         [0.515625  ],\n",
              "         ...,\n",
              "         [0.6875    ],\n",
              "         [0.6875    ],\n",
              "         [0.76953125]],\n",
              "\n",
              "        [[0.515625  ],\n",
              "         [0.515625  ],\n",
              "         [0.51953125],\n",
              "         ...,\n",
              "         [0.6953125 ],\n",
              "         [0.69921875],\n",
              "         [0.78515625]],\n",
              "\n",
              "        [[0.51953125],\n",
              "         [0.515625  ],\n",
              "         [0.51953125],\n",
              "         ...,\n",
              "         [0.703125  ],\n",
              "         [0.70703125],\n",
              "         [0.80078125]]],\n",
              "\n",
              "\n",
              "       [[[0.42578125],\n",
              "         [0.39453125],\n",
              "         [0.3671875 ],\n",
              "         ...,\n",
              "         [0.2109375 ],\n",
              "         [0.265625  ],\n",
              "         [0.30859375]],\n",
              "\n",
              "        [[0.37109375],\n",
              "         [0.34765625],\n",
              "         [0.3515625 ],\n",
              "         ...,\n",
              "         [0.2109375 ],\n",
              "         [0.26171875],\n",
              "         [0.34375   ]],\n",
              "\n",
              "        [[0.30078125],\n",
              "         [0.29296875],\n",
              "         [0.3359375 ],\n",
              "         ...,\n",
              "         [0.21484375],\n",
              "         [0.24609375],\n",
              "         [0.38671875]],\n",
              "\n",
              "        ...,\n",
              "\n",
              "        [[0.4921875 ],\n",
              "         [0.51171875],\n",
              "         [0.51953125],\n",
              "         ...,\n",
              "         [0.6796875 ],\n",
              "         [0.6875    ],\n",
              "         [0.78125   ]],\n",
              "\n",
              "        [[0.50390625],\n",
              "         [0.515625  ],\n",
              "         [0.5234375 ],\n",
              "         ...,\n",
              "         [0.6953125 ],\n",
              "         [0.69921875],\n",
              "         [0.7890625 ]],\n",
              "\n",
              "        [[0.5078125 ],\n",
              "         [0.515625  ],\n",
              "         [0.5234375 ],\n",
              "         ...,\n",
              "         [0.703125  ],\n",
              "         [0.70703125],\n",
              "         [0.796875  ]]],\n",
              "\n",
              "\n",
              "       [[[0.41796875],\n",
              "         [0.4140625 ],\n",
              "         [0.37890625],\n",
              "         ...,\n",
              "         [0.21484375],\n",
              "         [0.2734375 ],\n",
              "         [0.32421875]],\n",
              "\n",
              "        [[0.36328125],\n",
              "         [0.359375  ],\n",
              "         [0.35546875],\n",
              "         ...,\n",
              "         [0.20703125],\n",
              "         [0.2578125 ],\n",
              "         [0.35546875]],\n",
              "\n",
              "        [[0.296875  ],\n",
              "         [0.2890625 ],\n",
              "         [0.328125  ],\n",
              "         ...,\n",
              "         [0.20703125],\n",
              "         [0.234375  ],\n",
              "         [0.39453125]],\n",
              "\n",
              "        ...,\n",
              "\n",
              "        [[0.4921875 ],\n",
              "         [0.51171875],\n",
              "         [0.515625  ],\n",
              "         ...,\n",
              "         [0.69140625],\n",
              "         [0.6953125 ],\n",
              "         [0.7734375 ]],\n",
              "\n",
              "        [[0.50390625],\n",
              "         [0.515625  ],\n",
              "         [0.51953125],\n",
              "         ...,\n",
              "         [0.6953125 ],\n",
              "         [0.69921875],\n",
              "         [0.79296875]],\n",
              "\n",
              "        [[0.5078125 ],\n",
              "         [0.515625  ],\n",
              "         [0.51953125],\n",
              "         ...,\n",
              "         [0.6953125 ],\n",
              "         [0.703125  ],\n",
              "         [0.80859375]]],\n",
              "\n",
              "\n",
              "       ...,\n",
              "\n",
              "\n",
              "       [[[0.4140625 ],\n",
              "         [0.41015625],\n",
              "         [0.359375  ],\n",
              "         ...,\n",
              "         [0.19140625],\n",
              "         [0.25390625],\n",
              "         [0.3359375 ]],\n",
              "\n",
              "        [[0.359375  ],\n",
              "         [0.35546875],\n",
              "         [0.33984375],\n",
              "         ...,\n",
              "         [0.1953125 ],\n",
              "         [0.25390625],\n",
              "         [0.3671875 ]],\n",
              "\n",
              "        [[0.2890625 ],\n",
              "         [0.2890625 ],\n",
              "         [0.3203125 ],\n",
              "         ...,\n",
              "         [0.20703125],\n",
              "         [0.24609375],\n",
              "         [0.3984375 ]],\n",
              "\n",
              "        ...,\n",
              "\n",
              "        [[0.4921875 ],\n",
              "         [0.50390625],\n",
              "         [0.515625  ],\n",
              "         ...,\n",
              "         [0.6875    ],\n",
              "         [0.6875    ],\n",
              "         [0.76953125]],\n",
              "\n",
              "        [[0.50390625],\n",
              "         [0.51171875],\n",
              "         [0.515625  ],\n",
              "         ...,\n",
              "         [0.6953125 ],\n",
              "         [0.69921875],\n",
              "         [0.78515625]],\n",
              "\n",
              "        [[0.5078125 ],\n",
              "         [0.51171875],\n",
              "         [0.515625  ],\n",
              "         ...,\n",
              "         [0.703125  ],\n",
              "         [0.70703125],\n",
              "         [0.79296875]]],\n",
              "\n",
              "\n",
              "       [[[0.4296875 ],\n",
              "         [0.4140625 ],\n",
              "         [0.37109375],\n",
              "         ...,\n",
              "         [0.1875    ],\n",
              "         [0.2734375 ],\n",
              "         [0.33203125]],\n",
              "\n",
              "        [[0.3671875 ],\n",
              "         [0.35546875],\n",
              "         [0.34375   ],\n",
              "         ...,\n",
              "         [0.19140625],\n",
              "         [0.2578125 ],\n",
              "         [0.36328125]],\n",
              "\n",
              "        [[0.2890625 ],\n",
              "         [0.28515625],\n",
              "         [0.3125    ],\n",
              "         ...,\n",
              "         [0.20703125],\n",
              "         [0.23828125],\n",
              "         [0.40234375]],\n",
              "\n",
              "        ...,\n",
              "\n",
              "        [[0.4921875 ],\n",
              "         [0.50390625],\n",
              "         [0.515625  ],\n",
              "         ...,\n",
              "         [0.6875    ],\n",
              "         [0.69140625],\n",
              "         [0.77734375]],\n",
              "\n",
              "        [[0.50390625],\n",
              "         [0.51171875],\n",
              "         [0.515625  ],\n",
              "         ...,\n",
              "         [0.69921875],\n",
              "         [0.703125  ],\n",
              "         [0.7890625 ]],\n",
              "\n",
              "        [[0.5078125 ],\n",
              "         [0.51171875],\n",
              "         [0.515625  ],\n",
              "         ...,\n",
              "         [0.70703125],\n",
              "         [0.70703125],\n",
              "         [0.79296875]]],\n",
              "\n",
              "\n",
              "       [[[0.41796875],\n",
              "         [0.3984375 ],\n",
              "         [0.35546875],\n",
              "         ...,\n",
              "         [0.19921875],\n",
              "         [0.27734375],\n",
              "         [0.33984375]],\n",
              "\n",
              "        [[0.359375  ],\n",
              "         [0.34765625],\n",
              "         [0.3359375 ],\n",
              "         ...,\n",
              "         [0.19921875],\n",
              "         [0.26171875],\n",
              "         [0.3671875 ]],\n",
              "\n",
              "        [[0.2890625 ],\n",
              "         [0.2890625 ],\n",
              "         [0.31640625],\n",
              "         ...,\n",
              "         [0.2109375 ],\n",
              "         [0.23046875],\n",
              "         [0.3984375 ]],\n",
              "\n",
              "        ...,\n",
              "\n",
              "        [[0.4921875 ],\n",
              "         [0.5       ],\n",
              "         [0.515625  ],\n",
              "         ...,\n",
              "         [0.6875    ],\n",
              "         [0.69140625],\n",
              "         [0.77734375]],\n",
              "\n",
              "        [[0.50390625],\n",
              "         [0.5078125 ],\n",
              "         [0.515625  ],\n",
              "         ...,\n",
              "         [0.69921875],\n",
              "         [0.69921875],\n",
              "         [0.7890625 ]],\n",
              "\n",
              "        [[0.5078125 ],\n",
              "         [0.51171875],\n",
              "         [0.515625  ],\n",
              "         ...,\n",
              "         [0.70703125],\n",
              "         [0.70703125],\n",
              "         [0.79296875]]]])"
            ]
          },
          "metadata": {},
          "execution_count": 28
        }
      ]
    },
    {
      "cell_type": "code",
      "source": [
        "sz = test.shape[0] - 10 + 1\n",
        "sequences = np.zeros((sz, 10, 256, 256, 1))\n",
        "# apply the sliding window technique to get the sequences\n",
        "for i in range(0, sz):\n",
        "    clip = np.zeros((10, 256, 256, 1))\n",
        "    for j in range(0, 10):\n",
        "        clip[j] = test[i + j, :, :, :]\n",
        "    sequences[i] = clip"
      ],
      "metadata": {
        "id": "q1auN6DZwRgi"
      },
      "execution_count": null,
      "outputs": []
    },
    {
      "cell_type": "code",
      "source": [
        "sequences"
      ],
      "metadata": {
        "colab": {
          "base_uri": "https://localhost:8080/"
        },
        "id": "ZAnSe2rpwRi2",
        "outputId": "fcc610c2-ca3e-4c1c-d0dd-b6e5c078e44d"
      },
      "execution_count": null,
      "outputs": [
        {
          "output_type": "execute_result",
          "data": {
            "text/plain": [
              "numpy.ndarray"
            ]
          },
          "metadata": {},
          "execution_count": 32
        }
      ]
    },
    {
      "cell_type": "code",
      "source": [
        "np.save('input.npy',sequences)"
      ],
      "metadata": {
        "id": "3H1hZLVvwRkt"
      },
      "execution_count": null,
      "outputs": []
    },
    {
      "cell_type": "code",
      "source": [
        "!ls"
      ],
      "metadata": {
        "colab": {
          "base_uri": "https://localhost:8080/"
        },
        "id": "UdL3_jiZwRmb",
        "outputId": "7e1f88c5-d191-448c-f67b-17a67c85b9b7"
      },
      "execution_count": null,
      "outputs": [
        {
          "output_type": "stream",
          "name": "stdout",
          "text": [
            "1Ug1upTdWdWKL9WsMgkzuW7KQZOUY0Gtt  drive  input.npy  model.hdf5  sample_data\n"
          ]
        }
      ]
    },
    {
      "cell_type": "code",
      "source": [
        "from google.colab import files\n",
        "files.download('input.npy')\n"
      ],
      "metadata": {
        "id": "8mY_WChA38MA"
      },
      "execution_count": null,
      "outputs": []
    },
    {
      "cell_type": "code",
      "source": [
        "np.save('input_notsequenced.npy', test)"
      ],
      "metadata": {
        "id": "z50OdVQn38RQ"
      },
      "execution_count": null,
      "outputs": []
    },
    {
      "cell_type": "code",
      "source": [
        "from google.colab import files\n",
        "files.download('input_notsequenced.npy')"
      ],
      "metadata": {
        "colab": {
          "base_uri": "https://localhost:8080/",
          "height": 17
        },
        "id": "yzqG6qtv38Xk",
        "outputId": "6a8ebdb8-fe90-48d8-abb8-2480d94b5460"
      },
      "execution_count": null,
      "outputs": [
        {
          "output_type": "display_data",
          "data": {
            "text/plain": [
              "<IPython.core.display.Javascript object>"
            ],
            "application/javascript": [
              "\n",
              "    async function download(id, filename, size) {\n",
              "      if (!google.colab.kernel.accessAllowed) {\n",
              "        return;\n",
              "      }\n",
              "      const div = document.createElement('div');\n",
              "      const label = document.createElement('label');\n",
              "      label.textContent = `Downloading \"${filename}\": `;\n",
              "      div.appendChild(label);\n",
              "      const progress = document.createElement('progress');\n",
              "      progress.max = size;\n",
              "      div.appendChild(progress);\n",
              "      document.body.appendChild(div);\n",
              "\n",
              "      const buffers = [];\n",
              "      let downloaded = 0;\n",
              "\n",
              "      const channel = await google.colab.kernel.comms.open(id);\n",
              "      // Send a message to notify the kernel that we're ready.\n",
              "      channel.send({})\n",
              "\n",
              "      for await (const message of channel.messages) {\n",
              "        // Send a message to notify the kernel that we're ready.\n",
              "        channel.send({})\n",
              "        if (message.buffers) {\n",
              "          for (const buffer of message.buffers) {\n",
              "            buffers.push(buffer);\n",
              "            downloaded += buffer.byteLength;\n",
              "            progress.value = downloaded;\n",
              "          }\n",
              "        }\n",
              "      }\n",
              "      const blob = new Blob(buffers, {type: 'application/binary'});\n",
              "      const a = document.createElement('a');\n",
              "      a.href = window.URL.createObjectURL(blob);\n",
              "      a.download = filename;\n",
              "      div.appendChild(a);\n",
              "      a.click();\n",
              "      div.remove();\n",
              "    }\n",
              "  "
            ]
          },
          "metadata": {}
        },
        {
          "output_type": "display_data",
          "data": {
            "text/plain": [
              "<IPython.core.display.Javascript object>"
            ],
            "application/javascript": [
              "download(\"download_32c40ab0-3059-4aff-85c8-37b740b707a9\", \"input_notsequenced.npy\", 104857728)"
            ]
          },
          "metadata": {}
        }
      ]
    },
    {
      "cell_type": "code",
      "source": [],
      "metadata": {
        "id": "mE33K44w38dV"
      },
      "execution_count": null,
      "outputs": []
    },
    {
      "cell_type": "code",
      "source": [
        "reconstructed_sequences = modell.predict(sequences,batch_size=4)\n",
        "sequences_reconstruction_cost = np.array([np.linalg.norm(np.subtract(sequences[i],reconstructed_sequences[i])) for i in range(0,sz)])\n",
        "sa = (sequences_reconstruction_cost - np.min(sequences_reconstruction_cost)) / np.max(sequences_reconstruction_cost)\n",
        "sr = 1.0 - sa\n",
        "\n",
        "# plot the regularity scores\n",
        "plt.plot(sr)\n",
        "plt.ylabel('regularity score Sr(t)')\n",
        "plt.xlabel('frame t')\n",
        "plt.show()"
      ],
      "metadata": {
        "colab": {
          "base_uri": "https://localhost:8080/",
          "height": 466
        },
        "id": "V-hrQG5838iJ",
        "outputId": "5c75216f-61d1-4d91-d436-c2bd125bff2c"
      },
      "execution_count": null,
      "outputs": [
        {
          "output_type": "stream",
          "name": "stdout",
          "text": [
            "48/48 [==============================] - 20s 419ms/step\n"
          ]
        },
        {
          "output_type": "display_data",
          "data": {
            "text/plain": [
              "<Figure size 640x480 with 1 Axes>"
            ],
            "image/png": "[encoded data removed]"
          },
          "metadata": {}
        }
      ]
    },
    {
      "cell_type": "code",
      "source": [],
      "metadata": {
        "id": "2P65aLYI38oL"
      },
      "execution_count": null,
      "outputs": []
    },
    {
      "cell_type": "code",
      "source": [],
      "metadata": {
        "id": "rJGLIwTLNRIU"
      },
      "execution_count": null,
      "outputs": []
    },
    {
      "cell_type": "code",
      "source": [
        "import boto3\n",
        "import sagemaker\n",
        "from sagemaker import get_execution_role\n",
        "sess = sagemaker.Session()\n",
        "\n",
        "role = get_execution_role()\n",
        "print(role) # This is the role that SageMaker would use to leverage AWS resources (S3, CloudWatch) on your behalf\n",
        "\n",
        "prefix = 'xlmrlarge/' #Replace with the prefix under which you want to store the data if needed"
      ],
      "metadata": {
        "id": "OkuE2tJ-NRKw"
      },
      "execution_count": null,
      "outputs": []
    },
    {
      "cell_type": "code",
      "source": [
        "import h5py\n",
        "modelpath = './model.hdf5'\n",
        "import tensorflow as tf\n",
        "from keras.models import Sequential, load_model\n",
        "from keras.layers import Conv2DTranspose, ConvLSTM2D, BatchNormalization, TimeDistributed, Conv2D, LayerNormalization\n",
        "modell = load_model(modelpath,custom_objects={'LayerNormalization': LayerNormalization})\n",
        "import numpy as np\n",
        "test = np.load('./input_notsequenced.npy')\n",
        "\n",
        "\n",
        "\n",
        "\n",
        "\n",
        "\n",
        "\n",
        "\n",
        "\n"
      ],
      "metadata": {
        "id": "JIpHDEL9NTh3"
      },
      "execution_count": null,
      "outputs": []
    },
    {
      "cell_type": "code",
      "source": [
        "sz = test.shape[0] - 10 + 1\n",
        "sequences = np.zeros((sz, 10, 256, 256, 1))\n",
        "# apply the sliding window technique to get the sequences\n",
        "for i in range(0, sz):\n",
        "    clip = np.zeros((10, 256, 256, 1))\n",
        "    for j in range(0, 10):\n",
        "        clip[j] = test[i + j, :, :, :]\n",
        "    sequences[i] = clip\n",
        "sequences = sequences[0:25]"
      ],
      "metadata": {
        "id": "oHjCugF2NTkf"
      },
      "execution_count": null,
      "outputs": []
    },
    {
      "cell_type": "code",
      "source": [
        "sequences = sequences.astype(np.float32)"
      ],
      "metadata": {
        "id": "-N1nesIMNTm_"
      },
      "execution_count": null,
      "outputs": []
    },
    {
      "cell_type": "code",
      "source": [
        "reconstructed_sequences = modell.predict(sequences,batch_size=1)\n",
        "\n",
        "\n",
        "\n"
      ],
      "metadata": {
        "id": "2EUmsKtANTo_"
      },
      "execution_count": null,
      "outputs": []
    },
    {
      "cell_type": "code",
      "source": [
        "import matplotlib.pyplot as plt\n",
        "\n",
        "sequences_reconstruction_cost = np.array([np.linalg.norm(np.subtract(sequences[i],reconstructed_sequences[i])) for i in range(0,sequences.shape[1])])\n",
        "sa = (sequences_reconstruction_cost - np.min(sequences_reconstruction_cost)) / np.max(sequences_reconstruction_cost)\n",
        "sr = 1.0 - sa\n",
        "\n",
        "# plot the regularity scores\n",
        "plt.plot(sr)\n",
        "plt.ylabel('regularity score Sr(t)')\n",
        "plt.xlabel('frame t')\n",
        "plt.show()"
      ],
      "metadata": {
        "id": "pve5DverNTrH"
      },
      "execution_count": null,
      "outputs": []
    },
    {
      "cell_type": "code",
      "source": [
        "save_path = \"/home/ec2-user/SageMaker/model/1/\"\n",
        "tf.saved_model.save(modell, save_path)"
      ],
      "metadata": {
        "id": "HLFzxmQRNTvm"
      },
      "execution_count": null,
      "outputs": []
    },
    {
      "cell_type": "code",
      "source": [
        "!tar -czvf xlmrlarge.tar.gz model/1/"
      ],
      "metadata": {
        "id": "Pj2ivo_1Ncte"
      },
      "execution_count": null,
      "outputs": []
    },
    {
      "cell_type": "code",
      "source": [
        "#!unzip /home/ec2-user/SageMaker/xlmrlarge.tar.gz\n",
        "\n",
        "!tar -xf /home/ec2-user/SageMaker/xlmrlarge.tar.gz -C --absolute-names /home/ec2-user/SageMaker/"
      ],
      "metadata": {
        "id": "HhOfqFIPNcv8"
      },
      "execution_count": null,
      "outputs": []
    },
    {
      "cell_type": "code",
      "source": [
        "#model_data =  \"s3://anomaly-model3/xlmrlarge/model/xlmrlarge.tar.gz\"\n",
        "bucket_name = 'anomaly-model3'\n",
        "model_data = sess.upload_data(path='xlmrlarge.tar.gz', bucket=bucket_name, key_prefix = prefix+\"model\") #, key_prefix = prefix+\"mod\n",
        "model_data"
      ],
      "metadata": {
        "id": "3deDUuIPNcym"
      },
      "execution_count": null,
      "outputs": []
    },
    {
      "cell_type": "code",
      "source": [
        "from sagemaker.utils import name_from_base\n",
        "from sagemaker.tensorflow import TensorFlowModel"
      ],
      "metadata": {
        "id": "ym5uYzV5Nc0p"
      },
      "execution_count": null,
      "outputs": []
    },
    {
      "cell_type": "code",
      "source": [
        "predictor = model.deploy(initial_instance_count=1,   instance_type='ml.t2.medium')"
      ],
      "metadata": {
        "id": "arWJTAPhNc23"
      },
      "execution_count": null,
      "outputs": []
    },
    {
      "cell_type": "code",
      "source": [
        "predictor.delete_endpoint()"
      ],
      "metadata": {
        "id": "K7sg44k8Nc46"
      },
      "execution_count": null,
      "outputs": []
    },
    {
      "cell_type": "code",
      "source": [],
      "metadata": {
        "id": "Fvv9fAPDOSOS"
      },
      "execution_count": null,
      "outputs": []
    },
    {
      "cell_type": "code",
      "source": [],
      "metadata": {
        "id": "OniC44jmOSRP"
      },
      "execution_count": null,
      "outputs": []
    },
    {
      "cell_type": "code",
      "source": [],
      "metadata": {
        "id": "AO3zkSlQOSTi"
      },
      "execution_count": null,
      "outputs": []
    },
    {
      "cell_type": "code",
      "source": [],
      "metadata": {
        "id": "XMsjvBktOSXb"
      },
      "execution_count": null,
      "outputs": []
    },
    {
      "cell_type": "code",
      "source": [],
      "metadata": {
        "id": "IPVyVKU2OSZ8"
      },
      "execution_count": null,
      "outputs": []
    },
    {
      "cell_type": "code",
      "source": [
        "\n",
        "model_dir = './model/1'\n",
        "model = tf.saved_model.load(model_dir)\n",
        "predictions = model(sequences2)"
      ],
      "metadata": {
        "id": "5RxuGOzjNc80"
      },
      "execution_count": null,
      "outputs": []
    },
    {
      "cell_type": "code",
      "source": [],
      "metadata": {
        "id": "7ZZvWldSNTxm"
      },
      "execution_count": null,
      "outputs": []
    },
    {
      "cell_type": "code",
      "source": [],
      "metadata": {
        "id": "Ox7A1FUuNTz2"
      },
      "execution_count": null,
      "outputs": []
    },
    {
      "cell_type": "code",
      "source": [],
      "metadata": {
        "id": "M8vGXM_sNT2J"
      },
      "execution_count": null,
      "outputs": []
    },
    {
      "cell_type": "code",
      "source": [],
      "metadata": {
        "id": "H3r5MwuMNRMv"
      },
      "execution_count": null,
      "outputs": []
    },
    {
      "cell_type": "code",
      "source": [],
      "metadata": {
        "id": "fcK8wjtBNROh"
      },
      "execution_count": null,
      "outputs": []
    },
    {
      "cell_type": "code",
      "source": [
        "# S3 prefix\n",
        "prefix = \"DEMO-scikit-iris\"\n",
        "\n",
        "import sagemaker\n",
        "from sagemaker import get_execution_role\n",
        "\n",
        "sagemaker_session = sagemaker.Session()\n",
        "region = sagemaker_session.boto_region_name\n",
        "role = get_execution_role()\n",
        "\n",
        "import boto3\n",
        "import numpy as np\n",
        "import pandas as pd\n",
        "import os\n",
        "\n",
        "os.makedirs(\"./data\", exist_ok=True)\n",
        "\n",
        "s3_client = boto3.client(\"s3\")\n",
        "s3_client.download_file(\n",
        "    f\"sagemaker-example-files-prod-{region}\", \"datasets/tabular/iris/iris.data\", \"./data/iris.csv\"\n",
        ")\n",
        "\n",
        "df_iris = pd.read_csv(\"./data/iris.csv\", header=None)\n",
        "df_iris[4] = df_iris[4].map({\"Iris-setosa\": 0, \"Iris-versicolor\": 1, \"Iris-virginica\": 2})\n",
        "iris = df_iris[[4, 0, 1, 2, 3]].to_numpy()\n",
        "np.savetxt(\"./data/iris.csv\", iris, delimiter=\",\", fmt=\"%1.1f, %1.3f, %1.3f, %1.3f, %1.3f\")\n",
        "\n",
        "WORK_DIRECTORY = \"data\"\n",
        "\n",
        "train_input = sagemaker_session.upload_data(\n",
        "    WORK_DIRECTORY, key_prefix=\"{}/{}\".format(prefix, WORK_DIRECTORY)\n",
        ")\n",
        "\n"
      ],
      "metadata": {
        "id": "DxYlvAmMV4a1"
      },
      "execution_count": null,
      "outputs": []
    },
    {
      "cell_type": "code",
      "source": [
        "from sagemaker.sklearn.estimator import SKLearn\n",
        "\n",
        "FRAMEWORK_VERSION = \"1.2-1\"\n",
        "script_path = \"scikit_learn_iris.py\"\n",
        "\n",
        "sklearn = SKLearn(\n",
        "    entry_point=script_path,\n",
        "    framework_version=FRAMEWORK_VERSION,\n",
        "    instance_type=\"ml.m2.medium\",\n",
        "    role=role,\n",
        "    sagemaker_session=sagemaker_session,\n",
        "    hyperparameters={\"max_leaf_nodes\": 30},\n",
        ")"
      ],
      "metadata": {
        "id": "p-4FQQn1V4dS"
      },
      "execution_count": null,
      "outputs": []
    },
    {
      "cell_type": "code",
      "source": [
        "sklearn.fit({\"train\": train_input})"
      ],
      "metadata": {
        "id": "UIroOKhpV4fp"
      },
      "execution_count": null,
      "outputs": []
    },
    {
      "cell_type": "code",
      "source": [
        "predictor = sklearn.deploy(initial_instance_count=1, instance_type=\"ml.m2.medium\")"
      ],
      "metadata": {
        "id": "vyNtd8P7V4h-"
      },
      "execution_count": null,
      "outputs": []
    },
    {
      "cell_type": "code",
      "source": [
        "import itertools\n",
        "import pandas as pd\n",
        "\n",
        "shape = pd.read_csv(\"data/iris.csv\", header=None)\n",
        "\n",
        "a = [50 * i for i in range(3)]\n",
        "b = [40 + i for i in range(10)]\n",
        "indices = [i + j for i, j in itertools.product(a, b)]\n",
        "\n",
        "test_data = shape.iloc[indices[:-1]]\n",
        "test_X = test_data.iloc[:, 1:]\n",
        "test_y = test_data.iloc[:, 0]"
      ],
      "metadata": {
        "id": "tYnHxA9SV4lR"
      },
      "execution_count": null,
      "outputs": []
    },
    {
      "cell_type": "code",
      "source": [
        "print(predictor.predict(test_X.values))\n",
        "print(test_y.values)"
      ],
      "metadata": {
        "id": "wA6TH3mNNRQ6"
      },
      "execution_count": null,
      "outputs": []
    },
    {
      "cell_type": "code",
      "source": [],
      "metadata": {
        "id": "QDPHOHg7NRTJ"
      },
      "execution_count": null,
      "outputs": []
    },
    {
      "cell_type": "code",
      "source": [],
      "metadata": {
        "id": "ROsHL8GRNRVP"
      },
      "execution_count": null,
      "outputs": []
    },
    {
      "cell_type": "code",
      "source": [],
      "metadata": {
        "id": "f4O6wU3gWZh9"
      },
      "execution_count": null,
      "outputs": []
    },
    {
      "cell_type": "code",
      "source": [],
      "metadata": {
        "id": "apAXuASZWZkK"
      },
      "execution_count": null,
      "outputs": []
    },
    {
      "cell_type": "code",
      "source": [],
      "metadata": {
        "id": "bnGwqfR7WZmo"
      },
      "execution_count": null,
      "outputs": []
    },
    {
      "cell_type": "code",
      "source": [],
      "metadata": {
        "id": "Cqv2xqHLWZoy"
      },
      "execution_count": null,
      "outputs": []
    },
    {
      "cell_type": "code",
      "source": [
        "from __future__ import print_function\n",
        "\n",
        "import argparse\n",
        "import joblib\n",
        "import os\n",
        "import pandas as pd\n",
        "\n",
        "from sklearn import tree\n",
        "\n",
        "\n",
        "if __name__ == '__main__':\n",
        "    parser = argparse.ArgumentParser()\n",
        "\n",
        "    # Hyperparameters are described here. In this simple example we are just including one hyperparameter.\n",
        "    parser.add_argument('--max_leaf_nodes', type=int, default=-1)\n",
        "\n",
        "    # Sagemaker specific arguments. Defaults are set in the environment variables.\n",
        "    parser.add_argument('--output-data-dir', type=str, default=os.environ['SM_OUTPUT_DATA_DIR'])\n",
        "    parser.add_argument('--model-dir', type=str, default=os.environ['SM_MODEL_DIR'])\n",
        "    parser.add_argument('--train', type=str, default=os.environ['SM_CHANNEL_TRAIN'])\n",
        "\n",
        "    args = parser.parse_args()\n",
        "\n",
        "    # Take the set of files and read them all into a single pandas dataframe\n",
        "    input_files = [ os.path.join(args.train, file) for file in os.listdir(args.train) ]\n",
        "    if len(input_files) == 0:\n",
        "        raise ValueError(('There are no files in {}.\\n' +\n",
        "                          'This usually indicates that the channel ({}) was incorrectly specified,\\n' +\n",
        "                          'the data specification in S3 was incorrectly specified or the role specified\\n' +\n",
        "                          'does not have permission to access the data.').format(args.train, \"train\"))\n",
        "    raw_data = [ pd.read_csv(file, header=None, engine=\"python\") for file in input_files ]\n",
        "    train_data = pd.concat(raw_data)\n",
        "\n",
        "    # labels are in the first column\n",
        "    train_y = train_data.iloc[:, 0]\n",
        "    train_X = train_data.iloc[:, 1:]\n",
        "\n",
        "    # Here we support a single hyperparameter, 'max_leaf_nodes'. Note that you can add as many\n",
        "    # as your training my require in the ArgumentParser above.\n",
        "    max_leaf_nodes = args.max_leaf_nodes\n",
        "\n",
        "    # Now use scikit-learn's decision tree classifier to train the model.\n",
        "    clf = tree.DecisionTreeClassifier(max_leaf_nodes=max_leaf_nodes)\n",
        "    clf = clf.fit(train_X, train_y)\n",
        "\n",
        "    # Print the coefficients of the trained classifier, and save the coefficients\n",
        "    joblib.dump(clf, os.path.join(args.model_dir, \"model.joblib\"))\n",
        "\n",
        "\n",
        "def model_fn(model_dir):\n",
        "    \"\"\"Deserialized and return fitted model\n",
        "\n",
        "    Note that this should have the same name as the serialized model in the main method\n",
        "    \"\"\"\n",
        "    clf = joblib.load(os.path.join(model_dir, \"model.joblib\"))\n",
        "    return clf"
      ],
      "metadata": {
        "id": "s_OLtqdfWZqb"
      },
      "execution_count": null,
      "outputs": []
    }
  ]
}